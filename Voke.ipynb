{
 "cells": [
  {
   "cell_type": "code",
   "execution_count": 1136,
   "metadata": {},
   "outputs": [],
   "source": [
    "import pandas as pd\n",
    "import seaborn as sns\n",
    "import matplotlib.pyplot as plt\n",
    "import numpy as np\n",
    "import category_encoders as ce"
   ]
  },
  {
   "cell_type": "code",
   "execution_count": 1730,
   "metadata": {},
   "outputs": [
    {
     "data": {
      "text/html": [
       "<div>\n",
       "<style scoped>\n",
       "    .dataframe tbody tr th:only-of-type {\n",
       "        vertical-align: middle;\n",
       "    }\n",
       "\n",
       "    .dataframe tbody tr th {\n",
       "        vertical-align: top;\n",
       "    }\n",
       "\n",
       "    .dataframe thead th {\n",
       "        text-align: right;\n",
       "    }\n",
       "</style>\n",
       "<table border=\"1\" class=\"dataframe\">\n",
       "  <thead>\n",
       "    <tr style=\"text-align: right;\">\n",
       "      <th></th>\n",
       "      <th>ID</th>\n",
       "      <th>Age</th>\n",
       "      <th>Recently_upskilled</th>\n",
       "      <th>Region</th>\n",
       "      <th>RemoteWork</th>\n",
       "      <th>PercentSalaryIncrement</th>\n",
       "      <th>OfficeHours</th>\n",
       "      <th>StockOptionLevel</th>\n",
       "      <th>College_Tier</th>\n",
       "      <th>YearsSinceLastPromotion</th>\n",
       "      <th>...</th>\n",
       "      <th>Department</th>\n",
       "      <th>EnvironmentSatisfaction1</th>\n",
       "      <th>EnvironmentSatisfaction2</th>\n",
       "      <th>JobSatisfaction1</th>\n",
       "      <th>JobSatisfaction2</th>\n",
       "      <th>JobInvolvement1</th>\n",
       "      <th>JobInvolvement2</th>\n",
       "      <th>PerformanceRating1</th>\n",
       "      <th>PerformanceRating2</th>\n",
       "      <th>Employeeturnover</th>\n",
       "    </tr>\n",
       "  </thead>\n",
       "  <tbody>\n",
       "    <tr>\n",
       "      <th>0</th>\n",
       "      <td>45298</td>\n",
       "      <td>33</td>\n",
       "      <td>0</td>\n",
       "      <td>Chennai</td>\n",
       "      <td>0</td>\n",
       "      <td>15</td>\n",
       "      <td>9</td>\n",
       "      <td>1</td>\n",
       "      <td>Tier-3</td>\n",
       "      <td>1.0</td>\n",
       "      <td>...</td>\n",
       "      <td>Ops</td>\n",
       "      <td>NaN</td>\n",
       "      <td>3.0</td>\n",
       "      <td>4.0</td>\n",
       "      <td>2.0</td>\n",
       "      <td>2.0</td>\n",
       "      <td>2.0</td>\n",
       "      <td>2.0</td>\n",
       "      <td>3.0</td>\n",
       "      <td>0</td>\n",
       "    </tr>\n",
       "    <tr>\n",
       "      <th>1</th>\n",
       "      <td>172630</td>\n",
       "      <td>34</td>\n",
       "      <td>1</td>\n",
       "      <td>Delhi NCR</td>\n",
       "      <td>0</td>\n",
       "      <td>16</td>\n",
       "      <td>7</td>\n",
       "      <td>0</td>\n",
       "      <td>Tier-3</td>\n",
       "      <td>NaN</td>\n",
       "      <td>...</td>\n",
       "      <td>Finance</td>\n",
       "      <td>2.0</td>\n",
       "      <td>3.0</td>\n",
       "      <td>2.0</td>\n",
       "      <td>NaN</td>\n",
       "      <td>3.0</td>\n",
       "      <td>NaN</td>\n",
       "      <td>NaN</td>\n",
       "      <td>NaN</td>\n",
       "      <td>1</td>\n",
       "    </tr>\n",
       "    <tr>\n",
       "      <th>2</th>\n",
       "      <td>63754</td>\n",
       "      <td>33</td>\n",
       "      <td>1</td>\n",
       "      <td>Chennai</td>\n",
       "      <td>0</td>\n",
       "      <td>14</td>\n",
       "      <td>7</td>\n",
       "      <td>0</td>\n",
       "      <td>Tier-3</td>\n",
       "      <td>1.0</td>\n",
       "      <td>...</td>\n",
       "      <td>Sales</td>\n",
       "      <td>NaN</td>\n",
       "      <td>2.0</td>\n",
       "      <td>3.0</td>\n",
       "      <td>NaN</td>\n",
       "      <td>3.0</td>\n",
       "      <td>NaN</td>\n",
       "      <td>2.0</td>\n",
       "      <td>2.0</td>\n",
       "      <td>0</td>\n",
       "    </tr>\n",
       "    <tr>\n",
       "      <th>3</th>\n",
       "      <td>107105</td>\n",
       "      <td>38</td>\n",
       "      <td>0</td>\n",
       "      <td>Delhi NCR</td>\n",
       "      <td>0</td>\n",
       "      <td>10</td>\n",
       "      <td>7</td>\n",
       "      <td>1</td>\n",
       "      <td>Tier-3</td>\n",
       "      <td>NaN</td>\n",
       "      <td>...</td>\n",
       "      <td>Sales</td>\n",
       "      <td>4.0</td>\n",
       "      <td>4.0</td>\n",
       "      <td>2.0</td>\n",
       "      <td>NaN</td>\n",
       "      <td>NaN</td>\n",
       "      <td>2.0</td>\n",
       "      <td>3.0</td>\n",
       "      <td>NaN</td>\n",
       "      <td>0</td>\n",
       "    </tr>\n",
       "    <tr>\n",
       "      <th>4</th>\n",
       "      <td>173095</td>\n",
       "      <td>28</td>\n",
       "      <td>1</td>\n",
       "      <td>Hyderabad</td>\n",
       "      <td>0</td>\n",
       "      <td>16</td>\n",
       "      <td>7</td>\n",
       "      <td>0</td>\n",
       "      <td>Tier-3</td>\n",
       "      <td>0.0</td>\n",
       "      <td>...</td>\n",
       "      <td>Sales</td>\n",
       "      <td>1.0</td>\n",
       "      <td>2.0</td>\n",
       "      <td>4.0</td>\n",
       "      <td>NaN</td>\n",
       "      <td>3.0</td>\n",
       "      <td>NaN</td>\n",
       "      <td>3.0</td>\n",
       "      <td>4.0</td>\n",
       "      <td>1</td>\n",
       "    </tr>\n",
       "  </tbody>\n",
       "</table>\n",
       "<p>5 rows × 32 columns</p>\n",
       "</div>"
      ],
      "text/plain": [
       "       ID  Age  Recently_upskilled     Region  RemoteWork  \\\n",
       "0   45298   33                   0    Chennai           0   \n",
       "1  172630   34                   1  Delhi NCR           0   \n",
       "2   63754   33                   1    Chennai           0   \n",
       "3  107105   38                   0  Delhi NCR           0   \n",
       "4  173095   28                   1  Hyderabad           0   \n",
       "\n",
       "   PercentSalaryIncrement  OfficeHours  StockOptionLevel College_Tier  \\\n",
       "0                      15            9                 1       Tier-3   \n",
       "1                      16            7                 0       Tier-3   \n",
       "2                      14            7                 0       Tier-3   \n",
       "3                      10            7                 1       Tier-3   \n",
       "4                      16            7                 0       Tier-3   \n",
       "\n",
       "   YearsSinceLastPromotion  ... Department EnvironmentSatisfaction1  \\\n",
       "0                      1.0  ...        Ops                      NaN   \n",
       "1                      NaN  ...    Finance                      2.0   \n",
       "2                      1.0  ...      Sales                      NaN   \n",
       "3                      NaN  ...      Sales                      4.0   \n",
       "4                      0.0  ...      Sales                      1.0   \n",
       "\n",
       "   EnvironmentSatisfaction2 JobSatisfaction1  JobSatisfaction2  \\\n",
       "0                       3.0              4.0               2.0   \n",
       "1                       3.0              2.0               NaN   \n",
       "2                       2.0              3.0               NaN   \n",
       "3                       4.0              2.0               NaN   \n",
       "4                       2.0              4.0               NaN   \n",
       "\n",
       "   JobInvolvement1  JobInvolvement2  PerformanceRating1  PerformanceRating2  \\\n",
       "0              2.0              2.0                 2.0                 3.0   \n",
       "1              3.0              NaN                 NaN                 NaN   \n",
       "2              3.0              NaN                 2.0                 2.0   \n",
       "3              NaN              2.0                 3.0                 NaN   \n",
       "4              3.0              NaN                 3.0                 4.0   \n",
       "\n",
       "   Employeeturnover  \n",
       "0                 0  \n",
       "1                 1  \n",
       "2                 0  \n",
       "3                 0  \n",
       "4                 1  \n",
       "\n",
       "[5 rows x 32 columns]"
      ]
     },
     "execution_count": 1730,
     "metadata": {},
     "output_type": "execute_result"
    }
   ],
   "source": [
    "et=pd.read_csv(\"Train_Data_ET.csv\")\n",
    "et.head()"
   ]
  },
  {
   "cell_type": "code",
   "execution_count": 1731,
   "metadata": {},
   "outputs": [],
   "source": [
    "et.drop('ID',axis=1,inplace=True)"
   ]
  },
  {
   "cell_type": "code",
   "execution_count": 1732,
   "metadata": {},
   "outputs": [],
   "source": [
    "et.loc[:,'envsat']=(et.loc[:,'EnvironmentSatisfaction1']+et.loc[:,'EnvironmentSatisfaction2'])/2\n",
    "et.loc[:,'jobsat']=(et.loc[:,'JobSatisfaction1']+et.loc[:,'JobSatisfaction2'])/2\n",
    "et.loc[:,'jobinv']=(et.loc[:,'JobInvolvement1']+et.loc[:,'JobInvolvement2'])/2\n",
    "et.loc[:,'perf']=(et.loc[:,'PerformanceRating1']+et.loc[:,'PerformanceRating2'])/2"
   ]
  },
  {
   "cell_type": "code",
   "execution_count": 1733,
   "metadata": {},
   "outputs": [],
   "source": [
    "et.drop(['EnvironmentSatisfaction1','EnvironmentSatisfaction2','JobSatisfaction1','JobSatisfaction2','JobInvolvement1','JobInvolvement2','PerformanceRating1','PerformanceRating2'],axis=1,inplace=True)"
   ]
  },
  {
   "cell_type": "code",
   "execution_count": 1734,
   "metadata": {},
   "outputs": [],
   "source": [
    "#et.loc[:,'envjob']=(et.loc[:,'envsat']+et.loc[:,'jobsat'])/2\n",
    "#et.loc[:,'jobperf']=(et.loc[:,'jobinv']+et.loc[:,'perf'])/2"
   ]
  },
  {
   "cell_type": "code",
   "execution_count": 1735,
   "metadata": {},
   "outputs": [],
   "source": [
    "#et.drop(['envsat','jobsat','jobinv','perf'],axis=1,inplace=True)"
   ]
  },
  {
   "cell_type": "code",
   "execution_count": 1736,
   "metadata": {},
   "outputs": [],
   "source": [
    "et.loc[:,'yr/sal']=et.loc[:,'TotalWorkExp']/et.loc[:,'MonthlySalary']"
   ]
  },
  {
   "cell_type": "code",
   "execution_count": 1737,
   "metadata": {},
   "outputs": [],
   "source": [
    "et.loc[:,'yr/com']=et.loc[:,'TotalWorkExp']/et.loc[:,'NumCompaniesWorked']"
   ]
  },
  {
   "cell_type": "code",
   "execution_count": 1738,
   "metadata": {},
   "outputs": [],
   "source": [
    "et.loc[et.loc[:,'MonthlySalary']>=150000,'sal_bracket']='High'\n",
    "et.loc[((et.loc[:,'MonthlySalary']>=75000) & (et.loc[:,'MonthlySalary']<150000)),'sal_bracket']='Medium'\n",
    "et.loc[et.loc[:,'MonthlySalary']<75000,'sal_bracket']='Low'"
   ]
  },
  {
   "cell_type": "code",
   "execution_count": 1739,
   "metadata": {},
   "outputs": [],
   "source": [
    "et.loc[:,'age/sal']=et.loc[:,'Age']/et.loc[:,'MonthlySalary']"
   ]
  },
  {
   "cell_type": "code",
   "execution_count": 1740,
   "metadata": {},
   "outputs": [],
   "source": [
    "et.drop('MonthlySalary',axis=1,inplace=True)"
   ]
  },
  {
   "cell_type": "code",
   "execution_count": 1741,
   "metadata": {},
   "outputs": [],
   "source": [
    "#et.loc[et['Age']<=et['TotalWorkExp']+16,'Age']=et.loc[:,'TotalWorkExp']+16"
   ]
  },
  {
   "cell_type": "code",
   "execution_count": 1742,
   "metadata": {},
   "outputs": [],
   "source": [
    "et.loc[et.loc[:,'Age']>=45,'age_bracket']='Old'\n",
    "et.loc[((et.loc[:,'Age']>=30) & (et.loc[:,'Age']<45)),'age_bracket']='Medium'\n",
    "et.loc[et.loc[:,'Age']<30,'age_bracket']='Youth'"
   ]
  },
  {
   "cell_type": "code",
   "execution_count": 1743,
   "metadata": {},
   "outputs": [],
   "source": [
    "et.drop('Age',axis=1,inplace=True)"
   ]
  },
  {
   "cell_type": "code",
   "execution_count": 1232,
   "metadata": {},
   "outputs": [],
   "source": [
    "#encoder=ce.HashingEncoder(cols='DistanceFromHome',n_components=5)"
   ]
  },
  {
   "cell_type": "code",
   "execution_count": 1233,
   "metadata": {},
   "outputs": [],
   "source": [
    "#et=encoder.fit_transform(et,inplace=True)"
   ]
  },
  {
   "cell_type": "code",
   "execution_count": 1234,
   "metadata": {},
   "outputs": [],
   "source": [
    "#et.rename(columns={'col_0':'Dis0','col_1':'Dis1','col_2':'Dis2','col_3':'Dis3','col_4':'Dis4'},inplace=True)"
   ]
  },
  {
   "cell_type": "code",
   "execution_count": 1235,
   "metadata": {},
   "outputs": [],
   "source": [
    "#et.loc[et.loc[:,'DistanceFromHome']>=25,'dis']='Farthest'\n",
    "#et.loc[((et.loc[:,'DistanceFromHome']>=15) & (et.loc[:,'DistanceFromHome']<25)),'dis']='Far'\n",
    "#et.loc[((et.loc[:,'DistanceFromHome']>=5) & (et.loc[:,'DistanceFromHome']<15)),'dis']='Medium'\n",
    "#et.loc[et.loc[:,'DistanceFromHome']<5,'dis']='Near'"
   ]
  },
  {
   "cell_type": "code",
   "execution_count": 1236,
   "metadata": {},
   "outputs": [],
   "source": [
    "#et.drop('DistanceFromHome',axis=1,inplace=True)"
   ]
  },
  {
   "cell_type": "code",
   "execution_count": 1744,
   "metadata": {},
   "outputs": [],
   "source": [
    "#et.loc[et.loc[:,'TotalWorkExp']>=36,'exp_bracket']='SrMgr'\n",
    "#et.loc[((et.loc[:,'TotalWorkExp']>=22) & (et.loc[:,'TotalWorkExp']<36)),'exp_bracket']='MidMgr'\n",
    "#et.loc[((et.loc[:,'TotalWorkExp']>=8) & (et.loc[:,'TotalWorkExp']<22)),'exp_bracket']='Sr'\n",
    "#et.loc[et.loc[:,'TotalWorkExp']<8,'exp_bracket']='Fresh'"
   ]
  },
  {
   "cell_type": "code",
   "execution_count": 1745,
   "metadata": {},
   "outputs": [],
   "source": [
    "#et.drop('TotalWorkExp',axis=1,inplace=True)"
   ]
  },
  {
   "cell_type": "code",
   "execution_count": 1746,
   "metadata": {},
   "outputs": [
    {
     "data": {
      "text/html": [
       "<div>\n",
       "<style scoped>\n",
       "    .dataframe tbody tr th:only-of-type {\n",
       "        vertical-align: middle;\n",
       "    }\n",
       "\n",
       "    .dataframe tbody tr th {\n",
       "        vertical-align: top;\n",
       "    }\n",
       "\n",
       "    .dataframe thead th {\n",
       "        text-align: right;\n",
       "    }\n",
       "</style>\n",
       "<table border=\"1\" class=\"dataframe\">\n",
       "  <thead>\n",
       "    <tr style=\"text-align: right;\">\n",
       "      <th></th>\n",
       "      <th>Recently_upskilled</th>\n",
       "      <th>RemoteWork</th>\n",
       "      <th>PercentSalaryIncrement</th>\n",
       "      <th>OfficeHours</th>\n",
       "      <th>StockOptionLevel</th>\n",
       "      <th>YearsSinceLastPromotion</th>\n",
       "      <th>JobLevel</th>\n",
       "      <th>TotalWorkExp</th>\n",
       "      <th>yof joining</th>\n",
       "      <th>YearsWithCurrManager</th>\n",
       "      <th>...</th>\n",
       "      <th>MaritalStatus_Single</th>\n",
       "      <th>Gender_Male</th>\n",
       "      <th>Department_Finance</th>\n",
       "      <th>Department_HR</th>\n",
       "      <th>Department_Ops</th>\n",
       "      <th>Department_Sales</th>\n",
       "      <th>sal_bracket_Low</th>\n",
       "      <th>sal_bracket_Medium</th>\n",
       "      <th>age_bracket_Old</th>\n",
       "      <th>age_bracket_Youth</th>\n",
       "    </tr>\n",
       "  </thead>\n",
       "  <tbody>\n",
       "    <tr>\n",
       "      <th>0</th>\n",
       "      <td>0</td>\n",
       "      <td>0</td>\n",
       "      <td>15</td>\n",
       "      <td>9</td>\n",
       "      <td>1</td>\n",
       "      <td>1.0</td>\n",
       "      <td>1</td>\n",
       "      <td>4</td>\n",
       "      <td>2015</td>\n",
       "      <td>3</td>\n",
       "      <td>...</td>\n",
       "      <td>0</td>\n",
       "      <td>0</td>\n",
       "      <td>0</td>\n",
       "      <td>0</td>\n",
       "      <td>1</td>\n",
       "      <td>0</td>\n",
       "      <td>1</td>\n",
       "      <td>0</td>\n",
       "      <td>0</td>\n",
       "      <td>0</td>\n",
       "    </tr>\n",
       "    <tr>\n",
       "      <th>1</th>\n",
       "      <td>1</td>\n",
       "      <td>0</td>\n",
       "      <td>16</td>\n",
       "      <td>7</td>\n",
       "      <td>0</td>\n",
       "      <td>NaN</td>\n",
       "      <td>1</td>\n",
       "      <td>8</td>\n",
       "      <td>2015</td>\n",
       "      <td>1</td>\n",
       "      <td>...</td>\n",
       "      <td>1</td>\n",
       "      <td>1</td>\n",
       "      <td>1</td>\n",
       "      <td>0</td>\n",
       "      <td>0</td>\n",
       "      <td>0</td>\n",
       "      <td>1</td>\n",
       "      <td>0</td>\n",
       "      <td>0</td>\n",
       "      <td>0</td>\n",
       "    </tr>\n",
       "    <tr>\n",
       "      <th>2</th>\n",
       "      <td>1</td>\n",
       "      <td>0</td>\n",
       "      <td>14</td>\n",
       "      <td>7</td>\n",
       "      <td>0</td>\n",
       "      <td>1.0</td>\n",
       "      <td>1</td>\n",
       "      <td>8</td>\n",
       "      <td>2014</td>\n",
       "      <td>2</td>\n",
       "      <td>...</td>\n",
       "      <td>0</td>\n",
       "      <td>0</td>\n",
       "      <td>0</td>\n",
       "      <td>0</td>\n",
       "      <td>0</td>\n",
       "      <td>1</td>\n",
       "      <td>1</td>\n",
       "      <td>0</td>\n",
       "      <td>0</td>\n",
       "      <td>0</td>\n",
       "    </tr>\n",
       "    <tr>\n",
       "      <th>3</th>\n",
       "      <td>0</td>\n",
       "      <td>0</td>\n",
       "      <td>10</td>\n",
       "      <td>7</td>\n",
       "      <td>1</td>\n",
       "      <td>NaN</td>\n",
       "      <td>1</td>\n",
       "      <td>26</td>\n",
       "      <td>2017</td>\n",
       "      <td>1</td>\n",
       "      <td>...</td>\n",
       "      <td>0</td>\n",
       "      <td>1</td>\n",
       "      <td>0</td>\n",
       "      <td>0</td>\n",
       "      <td>0</td>\n",
       "      <td>1</td>\n",
       "      <td>1</td>\n",
       "      <td>0</td>\n",
       "      <td>0</td>\n",
       "      <td>0</td>\n",
       "    </tr>\n",
       "    <tr>\n",
       "      <th>4</th>\n",
       "      <td>1</td>\n",
       "      <td>0</td>\n",
       "      <td>16</td>\n",
       "      <td>7</td>\n",
       "      <td>0</td>\n",
       "      <td>0.0</td>\n",
       "      <td>2</td>\n",
       "      <td>3</td>\n",
       "      <td>2015</td>\n",
       "      <td>0</td>\n",
       "      <td>...</td>\n",
       "      <td>0</td>\n",
       "      <td>0</td>\n",
       "      <td>0</td>\n",
       "      <td>0</td>\n",
       "      <td>0</td>\n",
       "      <td>1</td>\n",
       "      <td>1</td>\n",
       "      <td>0</td>\n",
       "      <td>0</td>\n",
       "      <td>1</td>\n",
       "    </tr>\n",
       "  </tbody>\n",
       "</table>\n",
       "<p>5 rows × 46 columns</p>\n",
       "</div>"
      ],
      "text/plain": [
       "   Recently_upskilled  RemoteWork  PercentSalaryIncrement  OfficeHours  \\\n",
       "0                   0           0                      15            9   \n",
       "1                   1           0                      16            7   \n",
       "2                   1           0                      14            7   \n",
       "3                   0           0                      10            7   \n",
       "4                   1           0                      16            7   \n",
       "\n",
       "   StockOptionLevel  YearsSinceLastPromotion  JobLevel  TotalWorkExp  \\\n",
       "0                 1                      1.0         1             4   \n",
       "1                 0                      NaN         1             8   \n",
       "2                 0                      1.0         1             8   \n",
       "3                 1                      NaN         1            26   \n",
       "4                 0                      0.0         2             3   \n",
       "\n",
       "   yof joining  YearsWithCurrManager  ...  MaritalStatus_Single  Gender_Male  \\\n",
       "0         2015                     3  ...                     0            0   \n",
       "1         2015                     1  ...                     1            1   \n",
       "2         2014                     2  ...                     0            0   \n",
       "3         2017                     1  ...                     0            1   \n",
       "4         2015                     0  ...                     0            0   \n",
       "\n",
       "   Department_Finance  Department_HR  Department_Ops  Department_Sales  \\\n",
       "0                   0              0               1                 0   \n",
       "1                   1              0               0                 0   \n",
       "2                   0              0               0                 1   \n",
       "3                   0              0               0                 1   \n",
       "4                   0              0               0                 1   \n",
       "\n",
       "   sal_bracket_Low  sal_bracket_Medium  age_bracket_Old  age_bracket_Youth  \n",
       "0                1                   0                0                  0  \n",
       "1                1                   0                0                  0  \n",
       "2                1                   0                0                  0  \n",
       "3                1                   0                0                  0  \n",
       "4                1                   0                0                  1  \n",
       "\n",
       "[5 rows x 46 columns]"
      ]
     },
     "execution_count": 1746,
     "metadata": {},
     "output_type": "execute_result"
    }
   ],
   "source": [
    "et_dummy = pd.get_dummies(et,drop_first=True)\n",
    "et_dummy.head()"
   ]
  },
  {
   "cell_type": "code",
   "execution_count": 1747,
   "metadata": {},
   "outputs": [
    {
     "data": {
      "text/plain": [
       "Index(['Recently_upskilled', 'RemoteWork', 'PercentSalaryIncrement',\n",
       "       'OfficeHours', 'StockOptionLevel', 'YearsSinceLastPromotion',\n",
       "       'JobLevel', 'TotalWorkExp', 'yof joining', 'YearsWithCurrManager',\n",
       "       'DistanceFromHome', 'NumCompaniesWorked', 'TrainingTimesLastYear',\n",
       "       'Employeeturnover', 'envsat', 'jobsat', 'jobinv', 'perf', 'yr/sal',\n",
       "       'yr/com', 'age/sal', 'Region_Chennai', 'Region_Delhi NCR',\n",
       "       'Region_Hyderabad', 'College_Tier_Tier-2', 'College_Tier_Tier-3',\n",
       "       'HighestEducation_BA', 'HighestEducation_BBA', 'HighestEducation_CA',\n",
       "       'HighestEducation_CFA', 'HighestEducation_MBA', 'HighestEducation_MCA',\n",
       "       'HighestEducation_Mtech', 'BusinessTravel_None',\n",
       "       'BusinessTravel_Sometimes', 'MaritalStatus_Married',\n",
       "       'MaritalStatus_Single', 'Gender_Male', 'Department_Finance',\n",
       "       'Department_HR', 'Department_Ops', 'Department_Sales',\n",
       "       'sal_bracket_Low', 'sal_bracket_Medium', 'age_bracket_Old',\n",
       "       'age_bracket_Youth'],\n",
       "      dtype='object')"
      ]
     },
     "execution_count": 1747,
     "metadata": {},
     "output_type": "execute_result"
    }
   ],
   "source": [
    "et_dummy.columns"
   ]
  },
  {
   "cell_type": "code",
   "execution_count": 1361,
   "metadata": {},
   "outputs": [],
   "source": [
    "from sklearn.model_selection import train_test_split"
   ]
  },
  {
   "cell_type": "code",
   "execution_count": 1799,
   "metadata": {},
   "outputs": [],
   "source": [
    "Train, Test = train_test_split(et_dummy, test_size=.30, random_state=1,stratify=et_dummy['Employeeturnover'])\n"
   ]
  },
  {
   "cell_type": "code",
   "execution_count": 1800,
   "metadata": {},
   "outputs": [],
   "source": [
    "X=Train.drop('Employeeturnover',axis=1)\n",
    "Y=Train['Employeeturnover']"
   ]
  },
  {
   "cell_type": "code",
   "execution_count": 1801,
   "metadata": {},
   "outputs": [
    {
     "data": {
      "text/plain": [
       "Index(['Recently_upskilled', 'RemoteWork', 'PercentSalaryIncrement',\n",
       "       'OfficeHours', 'StockOptionLevel', 'YearsSinceLastPromotion',\n",
       "       'JobLevel', 'TotalWorkExp', 'yof joining', 'YearsWithCurrManager',\n",
       "       'DistanceFromHome', 'NumCompaniesWorked', 'TrainingTimesLastYear',\n",
       "       'envsat', 'jobsat', 'jobinv', 'perf', 'yr/sal', 'yr/com', 'age/sal',\n",
       "       'Region_Chennai', 'Region_Delhi NCR', 'Region_Hyderabad',\n",
       "       'College_Tier_Tier-2', 'College_Tier_Tier-3', 'HighestEducation_BA',\n",
       "       'HighestEducation_BBA', 'HighestEducation_CA', 'HighestEducation_CFA',\n",
       "       'HighestEducation_MBA', 'HighestEducation_MCA',\n",
       "       'HighestEducation_Mtech', 'BusinessTravel_None',\n",
       "       'BusinessTravel_Sometimes', 'MaritalStatus_Married',\n",
       "       'MaritalStatus_Single', 'Gender_Male', 'Department_Finance',\n",
       "       'Department_HR', 'Department_Ops', 'Department_Sales',\n",
       "       'sal_bracket_Low', 'sal_bracket_Medium', 'age_bracket_Old',\n",
       "       'age_bracket_Youth'],\n",
       "      dtype='object')"
      ]
     },
     "execution_count": 1801,
     "metadata": {},
     "output_type": "execute_result"
    }
   ],
   "source": [
    "X.columns"
   ]
  },
  {
   "cell_type": "code",
   "execution_count": 1802,
   "metadata": {},
   "outputs": [],
   "source": [
    "X_test=Test.drop('Employeeturnover',axis=1)\n",
    "Y_test=Test['Employeeturnover']"
   ]
  },
  {
   "cell_type": "code",
   "execution_count": 1803,
   "metadata": {},
   "outputs": [
    {
     "data": {
      "text/plain": [
       "(68331, 45)"
      ]
     },
     "execution_count": 1803,
     "metadata": {},
     "output_type": "execute_result"
    }
   ],
   "source": [
    "X.shape"
   ]
  },
  {
   "cell_type": "code",
   "execution_count": 1340,
   "metadata": {},
   "outputs": [],
   "source": [
    "from xgboost import XGBClassifier\n",
    "from sklearn import metrics\n",
    "from sklearn.model_selection import GridSearchCV\n",
    "from sklearn.metrics import roc_auc_score,roc_curve,classification_report,confusion_matrix"
   ]
  },
  {
   "cell_type": "code",
   "execution_count": 1341,
   "metadata": {},
   "outputs": [
    {
     "data": {
      "text/plain": [
       "XGBClassifier(base_score=0.5, booster='gbtree', colsample_bylevel=1,\n",
       "              colsample_bynode=1, colsample_bytree=1, gamma=0, gpu_id=-1,\n",
       "              importance_type='gain', interaction_constraints='',\n",
       "              learning_rate=0.300000012, max_delta_step=0, max_depth=6,\n",
       "              min_child_weight=1, missing=nan, monotone_constraints='()',\n",
       "              n_estimators=100, n_jobs=0, num_parallel_tree=1, random_state=1,\n",
       "              reg_alpha=0, reg_lambda=1, scale_pos_weight=1, subsample=1,\n",
       "              tree_method='exact', validate_parameters=1, verbosity=None)"
      ]
     },
     "execution_count": 1341,
     "metadata": {},
     "output_type": "execute_result"
    }
   ],
   "source": [
    "xgb = XGBClassifier(random_state=1)\n",
    "xgb.fit(X,Y)"
   ]
  },
  {
   "cell_type": "code",
   "execution_count": 1342,
   "metadata": {},
   "outputs": [],
   "source": [
    "train_xgb = xgb.predict(X)\n",
    "test_xgb = xgb.predict(X_test)"
   ]
  },
  {
   "cell_type": "code",
   "execution_count": 1343,
   "metadata": {},
   "outputs": [],
   "source": [
    "y_test_predict_prob = xgb.predict_proba(X_test)"
   ]
  },
  {
   "cell_type": "code",
   "execution_count": 1251,
   "metadata": {},
   "outputs": [
    {
     "name": "stdout",
     "output_type": "stream",
     "text": [
      "[[53917   892]\n",
      " [ 2779 10743]] \n",
      "\n",
      "True Negative: 53917 \n",
      "False Positives: 892 \n",
      "False Negatives: 2779 \n",
      "True Positives: 10743 \n",
      "\n",
      "              precision    recall  f1-score   support\n",
      "\n",
      "           0       0.95      0.98      0.97     54809\n",
      "           1       0.92      0.79      0.85     13522\n",
      "\n",
      "    accuracy                           0.95     68331\n",
      "   macro avg       0.94      0.89      0.91     68331\n",
      "weighted avg       0.95      0.95      0.94     68331\n",
      "\n"
     ]
    },
    {
     "data": {
      "image/png": "[encoded data removed]",
      "text/plain": [
       "<Figure size 432x288 with 2 Axes>"
      ]
     },
     "metadata": {
      "needs_background": "light"
     },
     "output_type": "display_data"
    }
   ],
   "source": [
    "print(metrics.confusion_matrix(Y,train_xgb),'\\n')\n",
    "sns.heatmap((metrics.confusion_matrix(Y,train_xgb)),annot=True,fmt='.5g',cmap='Greys');\n",
    "tn, fp, fn, tp = metrics.confusion_matrix(Y,train_xgb).ravel()\n",
    "print('True Negative:',tn,'\\n''False Positives:' ,fp,'\\n''False Negatives:'\n",
    "      , fn,'\\n''True Positives:', tp,'\\n')\n",
    "print(metrics.classification_report(Y,train_xgb))"
   ]
  },
  {
   "cell_type": "code",
   "execution_count": 1252,
   "metadata": {},
   "outputs": [
    {
     "name": "stdout",
     "output_type": "stream",
     "text": [
      "[[22826   664]\n",
      " [ 1681  4114]] \n",
      "\n",
      "True Negative: 22826 \n",
      "False Positives: 664 \n",
      "False Negatives: 1681 \n",
      "True Positives: 4114 \n",
      "\n",
      "              precision    recall  f1-score   support\n",
      "\n",
      "           0       0.93      0.97      0.95     23490\n",
      "           1       0.86      0.71      0.78      5795\n",
      "\n",
      "    accuracy                           0.92     29285\n",
      "   macro avg       0.90      0.84      0.86     29285\n",
      "weighted avg       0.92      0.92      0.92     29285\n",
      "\n"
     ]
    },
    {
     "data": {
      "image/png": "[encoded data removed]",
      "text/plain": [
       "<Figure size 432x288 with 2 Axes>"
      ]
     },
     "metadata": {
      "needs_background": "light"
     },
     "output_type": "display_data"
    }
   ],
   "source": [
    "print(metrics.confusion_matrix(Y_test,test_xgb),'\\n')\n",
    "sns.heatmap((metrics.confusion_matrix(Y_test,test_xgb)),annot=True,fmt='.5g',cmap='Greys');\n",
    "tn, fp, fn, tp = metrics.confusion_matrix(Y_test,test_xgb).ravel()\n",
    "print('True Negative:',tn,'\\n''False Positives:' ,fp,'\\n''False Negatives:'\n",
    "      , fn,'\\n''True Positives:', tp,'\\n')\n",
    "print(metrics.classification_report(Y_test,test_xgb))"
   ]
  },
  {
   "cell_type": "code",
   "execution_count": 195,
   "metadata": {},
   "outputs": [
    {
     "name": "stdout",
     "output_type": "stream",
     "text": [
      "0.1 0.8950315861362472\n",
      "0.2 0.9162711285641113\n",
      "0.3 0.9221785897217005\n",
      "0.4 0.9228956803824484\n",
      "0.5 0.9218712651528086\n",
      "0.6 0.9197882875192078\n",
      "0.7 0.9169540720505378\n",
      "0.8 0.9137442376643333\n",
      "0.9 0.9108417278470207\n"
     ]
    }
   ],
   "source": [
    "for j in np.arange(0.1,1,0.1):\n",
    "    custom_prob = j #defining the cut-off value of our choice\n",
    "    custom_cutoff_train=[]#defining an empty list\n",
    "    for i in range(0,len(y_test_predict_prob[:,1])):#defining a loop\n",
    "        if y_test_predict_prob[:,1][i] > custom_prob:#issuing a condition for our probability values to be \n",
    "            #greater than the custom cutoff value\n",
    "            a=1#if the probability values are greater than the custom cutoff then the value should be 1\n",
    "        else:\n",
    "            a=0#if the probability values are less than the custom cutoff then the value should be 0\n",
    "        custom_cutoff_train.append(a)#adding either 1 or 0 based on the condition to the end of the list\n",
    "    #defined by us\n",
    "    print(round(j,3),metrics.accuracy_score(Y_test,custom_cutoff_train))"
   ]
  },
  {
   "cell_type": "code",
   "execution_count": 23,
   "metadata": {},
   "outputs": [],
   "source": [
    "custom_prob = 0.4 #defining the cut-off value of our choice\n",
    "custom_cutoff_train=[]#defining an empty list\n",
    "for i in range(0,len(y_test_predict_prob[:,1])):#defining a loop\n",
    "    if y_test_predict_prob[:,1][i] > custom_prob:#issuing a condition for our probability values to be \n",
    "        #greater than the custom cutoff value\n",
    "        a=1#if the probability values are greater than the custom cutoff then the value should be 1\n",
    "    else:\n",
    "        a=0#if the probability values are less than the custom cutoff then the value should be 0\n",
    "    custom_cutoff_train.append(a)#adding either 1 or 0 based on the condition to the end of the list\n",
    "    #defined by us"
   ]
  },
  {
   "cell_type": "code",
   "execution_count": 24,
   "metadata": {},
   "outputs": [
    {
     "name": "stdout",
     "output_type": "stream",
     "text": [
      "[[22342  1148]\n",
      " [  847  4948]] \n",
      "\n",
      "True Negative: 22342 \n",
      "False Positives: 1148 \n",
      "False Negatives: 847 \n",
      "True Positives: 4948 \n",
      "\n",
      "              precision    recall  f1-score   support\n",
      "\n",
      "           0       0.96      0.95      0.96     23490\n",
      "           1       0.81      0.85      0.83      5795\n",
      "\n",
      "    accuracy                           0.93     29285\n",
      "   macro avg       0.89      0.90      0.89     29285\n",
      "weighted avg       0.93      0.93      0.93     29285\n",
      "\n"
     ]
    },
    {
     "data": {
      "image/png": "[encoded data removed]",
      "text/plain": [
       "<Figure size 432x288 with 2 Axes>"
      ]
     },
     "metadata": {
      "needs_background": "light"
     },
     "output_type": "display_data"
    }
   ],
   "source": [
    "print(metrics.confusion_matrix(Y_test,custom_cutoff_train),'\\n')\n",
    "sns.heatmap((metrics.confusion_matrix(Y_test,custom_cutoff_train)),annot=True,fmt='.5g',cmap='Greys');\n",
    "tn, fp, fn, tp = metrics.confusion_matrix(Y_test,custom_cutoff_train).ravel()\n",
    "print('True Negative:',tn,'\\n''False Positives:' ,fp,'\\n''False Negatives:'\n",
    "      , fn,'\\n''True Positives:', tp,'\\n')\n",
    "print(metrics.classification_report(Y_test,custom_cutoff_train))"
   ]
  },
  {
   "cell_type": "code",
   "execution_count": 1820,
   "metadata": {},
   "outputs": [],
   "source": [
    "xgb_tuned = XGBClassifier(random_state=1)\n",
    "\n",
    "# Grid of parameters to choose from\n",
    "## add from\n",
    "parameters = {\n",
    "    \"n_estimators\": [81],\n",
    "    \"gamma\":[2],\n",
    "    \"scale_pos_weight\":[1],\n",
    "    \"learning_rate\":[0.05],\n",
    "    \"subsample\":[1],\n",
    "    \"colsample_bytree\":[1],\n",
    "    \"colsample_bylevel\":[1],\n",
    "    \"max_depth\":[3]\n",
    "}\n",
    "\n",
    "# Type of scoring used to compare parameter combinations\n",
    "#acc_scorer = metrics.make_scorer(metrics.recall_score)\n",
    "\n",
    "# Run the grid search\n",
    "grid_obj = GridSearchCV(xgb_tuned, parameters,cv=5,scoring='f1')\n",
    "grid_obj = grid_obj.fit(X, Y)\n",
    "\n",
    "# Set the clf to the best combination of parameters\n",
    "xgb_tuned = grid_obj.best_estimator_"
   ]
  },
  {
   "cell_type": "code",
   "execution_count": null,
   "metadata": {},
   "outputs": [],
   "source": []
  },
  {
   "cell_type": "code",
   "execution_count": 1821,
   "metadata": {},
   "outputs": [],
   "source": [
    "train_xgb = xgb_tuned.predict(X)\n",
    "test_xgb = xgb_tuned.predict(X_test)"
   ]
  },
  {
   "cell_type": "code",
   "execution_count": 1822,
   "metadata": {},
   "outputs": [
    {
     "name": "stdout",
     "output_type": "stream",
     "text": [
      "                               Imp\n",
      "envsat                    0.318803\n",
      "jobsat                    0.294663\n",
      "yof joining               0.106141\n",
      "Recently_upskilled        0.052424\n",
      "perf                      0.027450\n",
      "TrainingTimesLastYear     0.026880\n",
      "MaritalStatus_Single      0.026230\n",
      "OfficeHours               0.023255\n",
      "MaritalStatus_Married     0.022924\n",
      "yr/com                    0.015897\n",
      "TotalWorkExp              0.014895\n",
      "YearsWithCurrManager      0.013858\n",
      "age_bracket_Youth         0.013172\n",
      "BusinessTravel_Sometimes  0.013077\n",
      "yr/sal                    0.007998\n",
      "sal_bracket_Medium        0.007846\n",
      "age/sal                   0.007220\n",
      "age_bracket_Old           0.004458\n",
      "jobinv                    0.002809\n",
      "NumCompaniesWorked        0.000000\n",
      "Department_Finance        0.000000\n",
      "StockOptionLevel          0.000000\n",
      "PercentSalaryIncrement    0.000000\n",
      "Gender_Male               0.000000\n",
      "Department_Sales          0.000000\n",
      "Department_HR             0.000000\n",
      "Department_Ops            0.000000\n",
      "HighestEducation_Mtech    0.000000\n",
      "sal_bracket_Low           0.000000\n",
      "BusinessTravel_None       0.000000\n",
      "HighestEducation_MBA      0.000000\n",
      "HighestEducation_MCA      0.000000\n",
      "DistanceFromHome          0.000000\n",
      "HighestEducation_CFA      0.000000\n",
      "HighestEducation_CA       0.000000\n",
      "HighestEducation_BBA      0.000000\n",
      "HighestEducation_BA       0.000000\n",
      "College_Tier_Tier-3       0.000000\n",
      "College_Tier_Tier-2       0.000000\n",
      "RemoteWork                0.000000\n",
      "Region_Delhi NCR          0.000000\n",
      "Region_Chennai            0.000000\n",
      "YearsSinceLastPromotion   0.000000\n",
      "JobLevel                  0.000000\n",
      "Region_Hyderabad          0.000000\n"
     ]
    }
   ],
   "source": [
    "print (pd.DataFrame(xgb_tuned.feature_importances_, columns = [\"Imp\"], index = X.columns).sort_values('Imp',ascending=False))"
   ]
  },
  {
   "cell_type": "code",
   "execution_count": 1823,
   "metadata": {},
   "outputs": [],
   "source": [
    "y_test_predict_prob = xgb_tuned.predict_proba(X_test)"
   ]
  },
  {
   "cell_type": "code",
   "execution_count": 1824,
   "metadata": {},
   "outputs": [
    {
     "name": "stdout",
     "output_type": "stream",
     "text": [
      "[[54806     3]\n",
      " [ 6407  7115]] \n",
      "\n",
      "True Negative: 54806 \n",
      "False Positives: 3 \n",
      "False Negatives: 6407 \n",
      "True Positives: 7115 \n",
      "\n",
      "              precision    recall  f1-score   support\n",
      "\n",
      "           0       0.90      1.00      0.94     54809\n",
      "           1       1.00      0.53      0.69     13522\n",
      "\n",
      "    accuracy                           0.91     68331\n",
      "   macro avg       0.95      0.76      0.82     68331\n",
      "weighted avg       0.92      0.91      0.89     68331\n",
      "\n"
     ]
    },
    {
     "data": {
      "image/png": "[encoded data removed]",
      "text/plain": [
       "<Figure size 432x288 with 2 Axes>"
      ]
     },
     "metadata": {
      "needs_background": "light"
     },
     "output_type": "display_data"
    }
   ],
   "source": [
    "print(metrics.confusion_matrix(Y,train_xgb),'\\n')\n",
    "sns.heatmap((metrics.confusion_matrix(Y,train_xgb)),annot=True,fmt='.5g',cmap='Greys');\n",
    "tn, fp, fn, tp = metrics.confusion_matrix(Y,train_xgb).ravel()\n",
    "print('True Negative:',tn,'\\n''False Positives:' ,fp,'\\n''False Negatives:'\n",
    "      , fn,'\\n''True Positives:', tp,'\\n')\n",
    "print(metrics.classification_report(Y,train_xgb))"
   ]
  },
  {
   "cell_type": "code",
   "execution_count": 1825,
   "metadata": {},
   "outputs": [
    {
     "name": "stdout",
     "output_type": "stream",
     "text": [
      "[[23487     3]\n",
      " [ 2713  3082]] \n",
      "\n",
      "True Negative: 23487 \n",
      "False Positives: 3 \n",
      "False Negatives: 2713 \n",
      "True Positives: 3082 \n",
      "\n",
      "              precision    recall  f1-score   support\n",
      "\n",
      "           0       0.90      1.00      0.95     23490\n",
      "           1       1.00      0.53      0.69      5795\n",
      "\n",
      "    accuracy                           0.91     29285\n",
      "   macro avg       0.95      0.77      0.82     29285\n",
      "weighted avg       0.92      0.91      0.90     29285\n",
      "\n"
     ]
    },
    {
     "data": {
      "image/png": "[encoded data removed]",
      "text/plain": [
       "<Figure size 432x288 with 2 Axes>"
      ]
     },
     "metadata": {
      "needs_background": "light"
     },
     "output_type": "display_data"
    }
   ],
   "source": [
    "print(metrics.confusion_matrix(Y_test,test_xgb),'\\n')\n",
    "sns.heatmap((metrics.confusion_matrix(Y_test,test_xgb)),annot=True,fmt='.5g',cmap='Greys');\n",
    "tn, fp, fn, tp = metrics.confusion_matrix(Y_test,test_xgb).ravel()\n",
    "print('True Negative:',tn,'\\n''False Positives:' ,fp,'\\n''False Negatives:'\n",
    "      , fn,'\\n''True Positives:', tp,'\\n')\n",
    "print(metrics.classification_report(Y_test,test_xgb))"
   ]
  },
  {
   "cell_type": "code",
   "execution_count": 1761,
   "metadata": {},
   "outputs": [
    {
     "name": "stdout",
     "output_type": "stream",
     "text": [
      "0.1 0.6842410790507085\n",
      "0.2 0.8689772921290764\n",
      "0.3 0.9009731944681577\n",
      "0.4 0.9073928632405669\n",
      "0.5 0.9072562745432815\n",
      "0.6 0.906675772579819\n",
      "0.7 0.9064708895338911\n",
      "0.8 0.9055830630015366\n",
      "0.9 0.9055830630015366\n"
     ]
    }
   ],
   "source": [
    "for j in np.arange(0.1,1,0.1):\n",
    "    custom_prob = j #defining the cut-off value of our choice\n",
    "    custom_cutoff_train=[]#defining an empty list\n",
    "    for i in range(0,len(y_test_predict_prob[:,1])):#defining a loop\n",
    "        if y_test_predict_prob[:,1][i] > custom_prob:#issuing a condition for our probability values to be \n",
    "            #greater than the custom cutoff value\n",
    "            a=1#if the probability values are greater than the custom cutoff then the value should be 1\n",
    "        else:\n",
    "            a=0#if the probability values are less than the custom cutoff then the value should be 0\n",
    "        custom_cutoff_train.append(a)#adding either 1 or 0 based on the condition to the end of the list\n",
    "    #defined by us\n",
    "    print(round(j,3),metrics.accuracy_score(Y_test,custom_cutoff_train))"
   ]
  },
  {
   "cell_type": "code",
   "execution_count": 81,
   "metadata": {},
   "outputs": [],
   "source": [
    "custom_prob = 0.4 #defining the cut-off value of our choice\n",
    "custom_cutoff_train=[]#defining an empty list\n",
    "for i in range(0,len(y_test_predict_prob[:,1])):#defining a loop\n",
    "    if y_test_predict_prob[:,1][i] > custom_prob:#issuing a condition for our probability values to be \n",
    "        #greater than the custom cutoff value\n",
    "        a=1#if the probability values are greater than the custom cutoff then the value should be 1\n",
    "    else:\n",
    "        a=0#if the probability values are less than the custom cutoff then the value should be 0\n",
    "    custom_cutoff_train.append(a)#adding either 1 or 0 based on the condition to the end of the list\n",
    "    #defined by us"
   ]
  },
  {
   "cell_type": "code",
   "execution_count": 82,
   "metadata": {},
   "outputs": [
    {
     "name": "stdout",
     "output_type": "stream",
     "text": [
      "[[22256  1234]\n",
      " [  682  5113]] \n",
      "\n",
      "True Negative: 22256 \n",
      "False Positives: 1234 \n",
      "False Negatives: 682 \n",
      "True Positives: 5113 \n",
      "\n",
      "              precision    recall  f1-score   support\n",
      "\n",
      "           0       0.97      0.95      0.96     23490\n",
      "           1       0.81      0.88      0.84      5795\n",
      "\n",
      "    accuracy                           0.93     29285\n",
      "   macro avg       0.89      0.91      0.90     29285\n",
      "weighted avg       0.94      0.93      0.94     29285\n",
      "\n"
     ]
    },
    {
     "data": {
      "image/png": "[encoded data removed]",
      "text/plain": [
       "<Figure size 432x288 with 2 Axes>"
      ]
     },
     "metadata": {
      "needs_background": "light"
     },
     "output_type": "display_data"
    }
   ],
   "source": [
    "print(metrics.confusion_matrix(Y_test,custom_cutoff_train),'\\n')\n",
    "sns.heatmap((metrics.confusion_matrix(Y_test,custom_cutoff_train)),annot=True,fmt='.5g',cmap='Greys');\n",
    "tn, fp, fn, tp = metrics.confusion_matrix(Y_test,custom_cutoff_train).ravel()\n",
    "print('True Negative:',tn,'\\n''False Positives:' ,fp,'\\n''False Negatives:'\n",
    "      , fn,'\\n''True Positives:', tp,'\\n')\n",
    "print(metrics.classification_report(Y_test,custom_cutoff_train))"
   ]
  },
  {
   "cell_type": "code",
   "execution_count": 1765,
   "metadata": {},
   "outputs": [],
   "source": [
    "et_t=pd.read_csv(\"Test_Data_ET.csv\")\n"
   ]
  },
  {
   "cell_type": "code",
   "execution_count": 1766,
   "metadata": {},
   "outputs": [],
   "source": [
    "et_t1=et_t.copy()"
   ]
  },
  {
   "cell_type": "code",
   "execution_count": 1767,
   "metadata": {},
   "outputs": [],
   "source": [
    "et_t1.drop('ID',axis=1,inplace=True)"
   ]
  },
  {
   "cell_type": "code",
   "execution_count": 1768,
   "metadata": {},
   "outputs": [],
   "source": [
    "et_t1.loc[:,'envsat']=(et_t1.loc[:,'EnvironmentSatisfaction1']+et_t1.loc[:,'EnvironmentSatisfaction2'])/2\n",
    "et_t1.loc[:,'jobsat']=(et_t1.loc[:,'JobSatisfaction1']+et_t1.loc[:,'JobSatisfaction2'])/2\n",
    "et_t1.loc[:,'jobinv']=(et_t1.loc[:,'JobInvolvement1']+et_t1.loc[:,'JobInvolvement2'])/2\n",
    "et_t1.loc[:,'perf']=(et_t1.loc[:,'PerformanceRating1']+et_t1.loc[:,'PerformanceRating2'])/2"
   ]
  },
  {
   "cell_type": "code",
   "execution_count": 1769,
   "metadata": {},
   "outputs": [],
   "source": [
    "et_t1.drop(['EnvironmentSatisfaction1','EnvironmentSatisfaction2','JobSatisfaction1','JobSatisfaction2','JobInvolvement1','JobInvolvement2','PerformanceRating1','PerformanceRating2'],axis=1,inplace=True)"
   ]
  },
  {
   "cell_type": "code",
   "execution_count": 1770,
   "metadata": {},
   "outputs": [],
   "source": [
    "#et_t1.loc[:,'envjob']=(et_t1.loc[:,'envsat']+et_t1.loc[:,'jobsat'])/2\n",
    "#et_t1.loc[:,'jobperf']=(et_t1.loc[:,'jobinv']+et_t1.loc[:,'perf'])/2"
   ]
  },
  {
   "cell_type": "code",
   "execution_count": 1771,
   "metadata": {},
   "outputs": [],
   "source": [
    "#et_t1.drop(['envsat','jobsat','jobinv','perf'],axis=1,inplace=True)"
   ]
  },
  {
   "cell_type": "code",
   "execution_count": 1772,
   "metadata": {},
   "outputs": [],
   "source": [
    "et_t1.loc[:,'yr/sal']=et_t1.loc[:,'TotalWorkExp']/et_t1.loc[:,'MonthlySalary']"
   ]
  },
  {
   "cell_type": "code",
   "execution_count": 1773,
   "metadata": {},
   "outputs": [],
   "source": [
    "et_t1.loc[:,'yr/com']=et_t1.loc[:,'TotalWorkExp']/et_t1.loc[:,'NumCompaniesWorked']"
   ]
  },
  {
   "cell_type": "code",
   "execution_count": 1774,
   "metadata": {},
   "outputs": [],
   "source": [
    "et_t1.loc[et_t1.loc[:,'MonthlySalary']>=150000,'sal_bracket']='High'\n",
    "et_t1.loc[((et_t1.loc[:,'MonthlySalary']>=75000) & (et_t1.loc[:,'MonthlySalary']<150000)),'sal_bracket']='Medium'\n",
    "et_t1.loc[et_t1.loc[:,'MonthlySalary']<75000,'sal_bracket']='Low'"
   ]
  },
  {
   "cell_type": "code",
   "execution_count": 1775,
   "metadata": {},
   "outputs": [],
   "source": [
    "et_t1.loc[:,'age/sal']=et_t1.loc[:,'Age']/et_t1.loc[:,'MonthlySalary']"
   ]
  },
  {
   "cell_type": "code",
   "execution_count": 1776,
   "metadata": {},
   "outputs": [],
   "source": [
    "et_t1.drop('MonthlySalary',axis=1,inplace=True)"
   ]
  },
  {
   "cell_type": "code",
   "execution_count": 1777,
   "metadata": {},
   "outputs": [],
   "source": [
    "et_t1.loc[et_t1.loc[:,'Age']>=45,'age_bracket']='Old'\n",
    "et_t1.loc[((et_t1.loc[:,'Age']>=30) & (et_t1.loc[:,'Age']<45)),'age_bracket']='Medium'\n",
    "et_t1.loc[et_t1.loc[:,'Age']<30,'age_bracket']='Youth'"
   ]
  },
  {
   "cell_type": "code",
   "execution_count": 1778,
   "metadata": {},
   "outputs": [],
   "source": [
    "et_t1.drop('Age',axis=1,inplace=True)"
   ]
  },
  {
   "cell_type": "code",
   "execution_count": 1779,
   "metadata": {},
   "outputs": [],
   "source": [
    "#et_t1=encoder.fit_transform(et_t1,inplace=True)"
   ]
  },
  {
   "cell_type": "code",
   "execution_count": 1780,
   "metadata": {},
   "outputs": [],
   "source": [
    "#et_t1.rename(columns={'col_0':'Dis0','col_1':'Dis1','col_2':'Dis2','col_3':'Dis3','col_4':'Dis4'},inplace=True)"
   ]
  },
  {
   "cell_type": "code",
   "execution_count": 1781,
   "metadata": {},
   "outputs": [],
   "source": [
    "#et_t1.loc[et_t1.loc[:,'DistanceFromHome']>=25,'dis']='Farthest'\n",
    "#et_t1.loc[((et_t1.loc[:,'DistanceFromHome']>=15) & (et_t1.loc[:,'DistanceFromHome']<25)),'dis']='Far'\n",
    "#et_t1.loc[((et_t1.loc[:,'DistanceFromHome']>=5) & (et_t1.loc[:,'DistanceFromHome']<15)),'dis']='Medium'\n",
    "#et_t1.loc[et_t1.loc[:,'DistanceFromHome']<5,'dis']='Near'"
   ]
  },
  {
   "cell_type": "code",
   "execution_count": 1782,
   "metadata": {},
   "outputs": [],
   "source": [
    "#et_t1.drop('DistanceFromHome',axis=1,inplace=True)"
   ]
  },
  {
   "cell_type": "code",
   "execution_count": 1783,
   "metadata": {},
   "outputs": [],
   "source": [
    "#et_t1.loc[et_t1.loc[:,'TotalWorkExp']>=36,'exp_bracket']='SrMgr'\n",
    "#et_t1.loc[((et_t1.loc[:,'TotalWorkExp']>=22) & (et_t1.loc[:,'TotalWorkExp']<36)),'exp_bracket']='MidMgr'\n",
    "#et_t1.loc[((et_t1.loc[:,'TotalWorkExp']>=8) & (et_t1.loc[:,'TotalWorkExp']<22)),'exp_bracket']='Sr'\n",
    "#et_t1.loc[et_t1.loc[:,'TotalWorkExp']<8,'exp_bracket']='Fresh'"
   ]
  },
  {
   "cell_type": "code",
   "execution_count": 1784,
   "metadata": {},
   "outputs": [],
   "source": [
    "#et_t1.drop('TotalWorkExp',axis=1,inplace=True)"
   ]
  },
  {
   "cell_type": "code",
   "execution_count": 1785,
   "metadata": {},
   "outputs": [],
   "source": [
    "#et_t1.loc[et_t1['Age']<=et_t1['TotalWorkExp']+16,'Age']=et_t1.loc[:,'TotalWorkExp']+16"
   ]
  },
  {
   "cell_type": "code",
   "execution_count": 1786,
   "metadata": {},
   "outputs": [
    {
     "data": {
      "text/html": [
       "<div>\n",
       "<style scoped>\n",
       "    .dataframe tbody tr th:only-of-type {\n",
       "        vertical-align: middle;\n",
       "    }\n",
       "\n",
       "    .dataframe tbody tr th {\n",
       "        vertical-align: top;\n",
       "    }\n",
       "\n",
       "    .dataframe thead th {\n",
       "        text-align: right;\n",
       "    }\n",
       "</style>\n",
       "<table border=\"1\" class=\"dataframe\">\n",
       "  <thead>\n",
       "    <tr style=\"text-align: right;\">\n",
       "      <th></th>\n",
       "      <th>Recently_upskilled</th>\n",
       "      <th>RemoteWork</th>\n",
       "      <th>PercentSalaryIncrement</th>\n",
       "      <th>OfficeHours</th>\n",
       "      <th>StockOptionLevel</th>\n",
       "      <th>YearsSinceLastPromotion</th>\n",
       "      <th>JobLevel</th>\n",
       "      <th>TotalWorkExp</th>\n",
       "      <th>yof joining</th>\n",
       "      <th>YearsWithCurrManager</th>\n",
       "      <th>...</th>\n",
       "      <th>MaritalStatus_Single</th>\n",
       "      <th>Gender_Male</th>\n",
       "      <th>Department_Finance</th>\n",
       "      <th>Department_HR</th>\n",
       "      <th>Department_Ops</th>\n",
       "      <th>Department_Sales</th>\n",
       "      <th>sal_bracket_Low</th>\n",
       "      <th>sal_bracket_Medium</th>\n",
       "      <th>age_bracket_Old</th>\n",
       "      <th>age_bracket_Youth</th>\n",
       "    </tr>\n",
       "  </thead>\n",
       "  <tbody>\n",
       "    <tr>\n",
       "      <th>0</th>\n",
       "      <td>0</td>\n",
       "      <td>0</td>\n",
       "      <td>13</td>\n",
       "      <td>8</td>\n",
       "      <td>1</td>\n",
       "      <td>2.0</td>\n",
       "      <td>1</td>\n",
       "      <td>21</td>\n",
       "      <td>2015</td>\n",
       "      <td>3</td>\n",
       "      <td>...</td>\n",
       "      <td>1</td>\n",
       "      <td>0</td>\n",
       "      <td>0</td>\n",
       "      <td>1</td>\n",
       "      <td>0</td>\n",
       "      <td>0</td>\n",
       "      <td>1</td>\n",
       "      <td>0</td>\n",
       "      <td>0</td>\n",
       "      <td>0</td>\n",
       "    </tr>\n",
       "    <tr>\n",
       "      <th>1</th>\n",
       "      <td>0</td>\n",
       "      <td>0</td>\n",
       "      <td>26</td>\n",
       "      <td>8</td>\n",
       "      <td>2</td>\n",
       "      <td>2.0</td>\n",
       "      <td>3</td>\n",
       "      <td>12</td>\n",
       "      <td>2009</td>\n",
       "      <td>7</td>\n",
       "      <td>...</td>\n",
       "      <td>1</td>\n",
       "      <td>0</td>\n",
       "      <td>0</td>\n",
       "      <td>0</td>\n",
       "      <td>0</td>\n",
       "      <td>1</td>\n",
       "      <td>0</td>\n",
       "      <td>1</td>\n",
       "      <td>0</td>\n",
       "      <td>0</td>\n",
       "    </tr>\n",
       "    <tr>\n",
       "      <th>2</th>\n",
       "      <td>0</td>\n",
       "      <td>0</td>\n",
       "      <td>23</td>\n",
       "      <td>7</td>\n",
       "      <td>2</td>\n",
       "      <td>0.0</td>\n",
       "      <td>1</td>\n",
       "      <td>9</td>\n",
       "      <td>2014</td>\n",
       "      <td>4</td>\n",
       "      <td>...</td>\n",
       "      <td>1</td>\n",
       "      <td>1</td>\n",
       "      <td>0</td>\n",
       "      <td>0</td>\n",
       "      <td>0</td>\n",
       "      <td>1</td>\n",
       "      <td>1</td>\n",
       "      <td>0</td>\n",
       "      <td>0</td>\n",
       "      <td>1</td>\n",
       "    </tr>\n",
       "    <tr>\n",
       "      <th>3</th>\n",
       "      <td>0</td>\n",
       "      <td>0</td>\n",
       "      <td>12</td>\n",
       "      <td>8</td>\n",
       "      <td>1</td>\n",
       "      <td>NaN</td>\n",
       "      <td>1</td>\n",
       "      <td>18</td>\n",
       "      <td>2016</td>\n",
       "      <td>0</td>\n",
       "      <td>...</td>\n",
       "      <td>0</td>\n",
       "      <td>1</td>\n",
       "      <td>0</td>\n",
       "      <td>1</td>\n",
       "      <td>0</td>\n",
       "      <td>0</td>\n",
       "      <td>0</td>\n",
       "      <td>1</td>\n",
       "      <td>0</td>\n",
       "      <td>0</td>\n",
       "    </tr>\n",
       "    <tr>\n",
       "      <th>4</th>\n",
       "      <td>0</td>\n",
       "      <td>0</td>\n",
       "      <td>23</td>\n",
       "      <td>8</td>\n",
       "      <td>1</td>\n",
       "      <td>1.0</td>\n",
       "      <td>1</td>\n",
       "      <td>4</td>\n",
       "      <td>2014</td>\n",
       "      <td>3</td>\n",
       "      <td>...</td>\n",
       "      <td>1</td>\n",
       "      <td>0</td>\n",
       "      <td>0</td>\n",
       "      <td>0</td>\n",
       "      <td>0</td>\n",
       "      <td>1</td>\n",
       "      <td>1</td>\n",
       "      <td>0</td>\n",
       "      <td>0</td>\n",
       "      <td>1</td>\n",
       "    </tr>\n",
       "  </tbody>\n",
       "</table>\n",
       "<p>5 rows × 45 columns</p>\n",
       "</div>"
      ],
      "text/plain": [
       "   Recently_upskilled  RemoteWork  PercentSalaryIncrement  OfficeHours  \\\n",
       "0                   0           0                      13            8   \n",
       "1                   0           0                      26            8   \n",
       "2                   0           0                      23            7   \n",
       "3                   0           0                      12            8   \n",
       "4                   0           0                      23            8   \n",
       "\n",
       "   StockOptionLevel  YearsSinceLastPromotion  JobLevel  TotalWorkExp  \\\n",
       "0                 1                      2.0         1            21   \n",
       "1                 2                      2.0         3            12   \n",
       "2                 2                      0.0         1             9   \n",
       "3                 1                      NaN         1            18   \n",
       "4                 1                      1.0         1             4   \n",
       "\n",
       "   yof joining  YearsWithCurrManager  ...  MaritalStatus_Single  Gender_Male  \\\n",
       "0         2015                     3  ...                     1            0   \n",
       "1         2009                     7  ...                     1            0   \n",
       "2         2014                     4  ...                     1            1   \n",
       "3         2016                     0  ...                     0            1   \n",
       "4         2014                     3  ...                     1            0   \n",
       "\n",
       "   Department_Finance  Department_HR  Department_Ops  Department_Sales  \\\n",
       "0                   0              1               0                 0   \n",
       "1                   0              0               0                 1   \n",
       "2                   0              0               0                 1   \n",
       "3                   0              1               0                 0   \n",
       "4                   0              0               0                 1   \n",
       "\n",
       "   sal_bracket_Low  sal_bracket_Medium  age_bracket_Old  age_bracket_Youth  \n",
       "0                1                   0                0                  0  \n",
       "1                0                   1                0                  0  \n",
       "2                1                   0                0                  1  \n",
       "3                0                   1                0                  0  \n",
       "4                1                   0                0                  1  \n",
       "\n",
       "[5 rows x 45 columns]"
      ]
     },
     "execution_count": 1786,
     "metadata": {},
     "output_type": "execute_result"
    }
   ],
   "source": [
    "et_t1_dummy = pd.get_dummies(et_t1,drop_first=True)\n",
    "et_t1_dummy.head()"
   ]
  },
  {
   "cell_type": "code",
   "execution_count": 1275,
   "metadata": {},
   "outputs": [
    {
     "data": {
      "text/plain": [
       "(41836, 49)"
      ]
     },
     "execution_count": 1275,
     "metadata": {},
     "output_type": "execute_result"
    }
   ],
   "source": [
    "et_t1_dummy.shape"
   ]
  },
  {
   "cell_type": "code",
   "execution_count": 1276,
   "metadata": {},
   "outputs": [],
   "source": [
    "test_predict= xgb.predict(et_t1_dummy)"
   ]
  },
  {
   "cell_type": "code",
   "execution_count": 1277,
   "metadata": {},
   "outputs": [],
   "source": [
    "test_predict_prob = xgb.predict_proba(et_t1_dummy)"
   ]
  },
  {
   "cell_type": "code",
   "execution_count": null,
   "metadata": {},
   "outputs": [],
   "source": []
  },
  {
   "cell_type": "code",
   "execution_count": 1826,
   "metadata": {},
   "outputs": [],
   "source": [
    "test_predict= xgb_tuned.predict(et_t1_dummy)"
   ]
  },
  {
   "cell_type": "code",
   "execution_count": 1827,
   "metadata": {},
   "outputs": [],
   "source": [
    "test_predict_prob = xgb_tuned.predict_proba(et_t1_dummy)"
   ]
  },
  {
   "cell_type": "code",
   "execution_count": 1828,
   "metadata": {},
   "outputs": [],
   "source": [
    "custom_prob = 0.65#defining the cut-off value of our choice\n",
    "custom_cutoff_train=[]#defining an empty list\n",
    "for i in range(0,len(test_predict_prob[:,1])):#defining a loop\n",
    "    if test_predict_prob[:,1][i] > custom_prob:#issuing a condition for our probability values to be \n",
    "        #greater than the custom cutoff value\n",
    "        a=1#if the probability values are greater than the custom cutoff then the value should be 1\n",
    "    else:\n",
    "        a=0#if the probability values are less than the custom cutoff then the value should be 0\n",
    "    custom_cutoff_train.append(a)#adding either 1 or 0 based on the condition to the end of the list\n",
    "    #defined by us"
   ]
  },
  {
   "cell_type": "code",
   "execution_count": 1829,
   "metadata": {},
   "outputs": [],
   "source": [
    "et_t['Employeeturnover']=custom_cutoff_train"
   ]
  },
  {
   "cell_type": "code",
   "execution_count": 1830,
   "metadata": {},
   "outputs": [],
   "source": [
    "et_t=et_t[['ID','Employeeturnover']]"
   ]
  },
  {
   "cell_type": "code",
   "execution_count": 1831,
   "metadata": {},
   "outputs": [],
   "source": [
    "et_t.to_csv(\"result.csv\",index=False)"
   ]
  },
  {
   "cell_type": "code",
   "execution_count": null,
   "metadata": {},
   "outputs": [],
   "source": []
  },
  {
   "cell_type": "code",
   "execution_count": null,
   "metadata": {},
   "outputs": [],
   "source": []
  }
 ],
 "metadata": {
  "kernelspec": {
   "display_name": "Python 3",
   "language": "python",
   "name": "python3"
  },
  "language_info": {
   "codemirror_mode": {
    "name": "ipython",
    "version": 3
   },
   "file_extension": ".py",
   "mimetype": "text/x-python",
   "name": "python",
   "nbconvert_exporter": "python",
   "pygments_lexer": "ipython3",
   "version": "3.7.6"
  }
 },
 "nbformat": 4,
 "nbformat_minor": 4
}
