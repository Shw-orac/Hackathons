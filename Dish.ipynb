{
 "cells": [
  {
   "cell_type": "code",
   "execution_count": 1,
   "metadata": {},
   "outputs": [],
   "source": [
    "import pandas as pd\n",
    "import numpy as np"
   ]
  },
  {
   "cell_type": "code",
   "execution_count": 2,
   "metadata": {},
   "outputs": [
    {
     "name": "stderr",
     "output_type": "stream",
     "text": [
      "D:\\anaconda\\lib\\site-packages\\IPython\\core\\interactiveshell.py:3063: DtypeWarning: Columns (1,7,8,16,17,18,19,20,35) have mixed types.Specify dtype option on import or set low_memory=False.\n",
      "  interactivity=interactivity, compiler=compiler, result=result)\n"
     ]
    },
    {
     "data": {
      "text/html": [
       "<div>\n",
       "<style scoped>\n",
       "    .dataframe tbody tr th:only-of-type {\n",
       "        vertical-align: middle;\n",
       "    }\n",
       "\n",
       "    .dataframe tbody tr th {\n",
       "        vertical-align: top;\n",
       "    }\n",
       "\n",
       "    .dataframe thead th {\n",
       "        text-align: right;\n",
       "    }\n",
       "</style>\n",
       "<table border=\"1\" class=\"dataframe\">\n",
       "  <thead>\n",
       "    <tr style=\"text-align: right;\">\n",
       "      <th></th>\n",
       "      <th>ID</th>\n",
       "      <th>Client_Income</th>\n",
       "      <th>Car_Owned</th>\n",
       "      <th>Bike_Owned</th>\n",
       "      <th>Active_Loan</th>\n",
       "      <th>House_Own</th>\n",
       "      <th>Child_Count</th>\n",
       "      <th>Credit_Amount</th>\n",
       "      <th>Loan_Annuity</th>\n",
       "      <th>Accompany_Client</th>\n",
       "      <th>...</th>\n",
       "      <th>Client_Permanent_Match_Tag</th>\n",
       "      <th>Client_Contact_Work_Tag</th>\n",
       "      <th>Type_Organization</th>\n",
       "      <th>Score_Source_1</th>\n",
       "      <th>Score_Source_2</th>\n",
       "      <th>Score_Source_3</th>\n",
       "      <th>Social_Circle_Default</th>\n",
       "      <th>Phone_Change</th>\n",
       "      <th>Credit_Bureau</th>\n",
       "      <th>Default</th>\n",
       "    </tr>\n",
       "  </thead>\n",
       "  <tbody>\n",
       "    <tr>\n",
       "      <th>0</th>\n",
       "      <td>12142509</td>\n",
       "      <td>6750</td>\n",
       "      <td>0.0</td>\n",
       "      <td>0.0</td>\n",
       "      <td>1.0</td>\n",
       "      <td>0.0</td>\n",
       "      <td>0.0</td>\n",
       "      <td>61190.55</td>\n",
       "      <td>3416.85</td>\n",
       "      <td>Alone</td>\n",
       "      <td>...</td>\n",
       "      <td>Yes</td>\n",
       "      <td>Yes</td>\n",
       "      <td>Self-employed</td>\n",
       "      <td>0.568066</td>\n",
       "      <td>0.478787</td>\n",
       "      <td>NaN</td>\n",
       "      <td>0.0186</td>\n",
       "      <td>63.0</td>\n",
       "      <td>NaN</td>\n",
       "      <td>0</td>\n",
       "    </tr>\n",
       "    <tr>\n",
       "      <th>1</th>\n",
       "      <td>12138936</td>\n",
       "      <td>20250</td>\n",
       "      <td>1.0</td>\n",
       "      <td>0.0</td>\n",
       "      <td>1.0</td>\n",
       "      <td>NaN</td>\n",
       "      <td>0.0</td>\n",
       "      <td>15282</td>\n",
       "      <td>1826.55</td>\n",
       "      <td>Alone</td>\n",
       "      <td>...</td>\n",
       "      <td>Yes</td>\n",
       "      <td>Yes</td>\n",
       "      <td>Government</td>\n",
       "      <td>0.563360</td>\n",
       "      <td>0.215068</td>\n",
       "      <td>NaN</td>\n",
       "      <td>NaN</td>\n",
       "      <td>NaN</td>\n",
       "      <td>NaN</td>\n",
       "      <td>0</td>\n",
       "    </tr>\n",
       "    <tr>\n",
       "      <th>2</th>\n",
       "      <td>12181264</td>\n",
       "      <td>18000</td>\n",
       "      <td>0.0</td>\n",
       "      <td>0.0</td>\n",
       "      <td>1.0</td>\n",
       "      <td>0.0</td>\n",
       "      <td>1.0</td>\n",
       "      <td>59527.35</td>\n",
       "      <td>2788.2</td>\n",
       "      <td>Alone</td>\n",
       "      <td>...</td>\n",
       "      <td>Yes</td>\n",
       "      <td>Yes</td>\n",
       "      <td>Self-employed</td>\n",
       "      <td>NaN</td>\n",
       "      <td>0.552795</td>\n",
       "      <td>0.329655</td>\n",
       "      <td>0.0742</td>\n",
       "      <td>277.0</td>\n",
       "      <td>0.0</td>\n",
       "      <td>0</td>\n",
       "    </tr>\n",
       "    <tr>\n",
       "      <th>3</th>\n",
       "      <td>12188929</td>\n",
       "      <td>15750</td>\n",
       "      <td>0.0</td>\n",
       "      <td>0.0</td>\n",
       "      <td>1.0</td>\n",
       "      <td>1.0</td>\n",
       "      <td>0.0</td>\n",
       "      <td>53870.4</td>\n",
       "      <td>2295.45</td>\n",
       "      <td>Alone</td>\n",
       "      <td>...</td>\n",
       "      <td>Yes</td>\n",
       "      <td>Yes</td>\n",
       "      <td>XNA</td>\n",
       "      <td>NaN</td>\n",
       "      <td>0.135182</td>\n",
       "      <td>0.631355</td>\n",
       "      <td>NaN</td>\n",
       "      <td>1700.0</td>\n",
       "      <td>3.0</td>\n",
       "      <td>0</td>\n",
       "    </tr>\n",
       "    <tr>\n",
       "      <th>4</th>\n",
       "      <td>12133385</td>\n",
       "      <td>33750</td>\n",
       "      <td>1.0</td>\n",
       "      <td>0.0</td>\n",
       "      <td>1.0</td>\n",
       "      <td>0.0</td>\n",
       "      <td>2.0</td>\n",
       "      <td>133988.4</td>\n",
       "      <td>3547.35</td>\n",
       "      <td>Alone</td>\n",
       "      <td>...</td>\n",
       "      <td>Yes</td>\n",
       "      <td>Yes</td>\n",
       "      <td>Business Entity Type 3</td>\n",
       "      <td>0.508199</td>\n",
       "      <td>0.301182</td>\n",
       "      <td>0.355639</td>\n",
       "      <td>0.2021</td>\n",
       "      <td>674.0</td>\n",
       "      <td>1.0</td>\n",
       "      <td>0</td>\n",
       "    </tr>\n",
       "  </tbody>\n",
       "</table>\n",
       "<p>5 rows × 40 columns</p>\n",
       "</div>"
      ],
      "text/plain": [
       "         ID Client_Income  Car_Owned  Bike_Owned  Active_Loan  House_Own  \\\n",
       "0  12142509          6750        0.0         0.0          1.0        0.0   \n",
       "1  12138936         20250        1.0         0.0          1.0        NaN   \n",
       "2  12181264         18000        0.0         0.0          1.0        0.0   \n",
       "3  12188929         15750        0.0         0.0          1.0        1.0   \n",
       "4  12133385         33750        1.0         0.0          1.0        0.0   \n",
       "\n",
       "   Child_Count Credit_Amount Loan_Annuity Accompany_Client  ...  \\\n",
       "0          0.0      61190.55      3416.85            Alone  ...   \n",
       "1          0.0         15282      1826.55            Alone  ...   \n",
       "2          1.0      59527.35       2788.2            Alone  ...   \n",
       "3          0.0       53870.4      2295.45            Alone  ...   \n",
       "4          2.0      133988.4      3547.35            Alone  ...   \n",
       "\n",
       "  Client_Permanent_Match_Tag Client_Contact_Work_Tag       Type_Organization  \\\n",
       "0                        Yes                     Yes           Self-employed   \n",
       "1                        Yes                     Yes              Government   \n",
       "2                        Yes                     Yes           Self-employed   \n",
       "3                        Yes                     Yes                     XNA   \n",
       "4                        Yes                     Yes  Business Entity Type 3   \n",
       "\n",
       "  Score_Source_1 Score_Source_2 Score_Source_3 Social_Circle_Default  \\\n",
       "0       0.568066       0.478787            NaN                0.0186   \n",
       "1       0.563360       0.215068            NaN                   NaN   \n",
       "2            NaN       0.552795       0.329655                0.0742   \n",
       "3            NaN       0.135182       0.631355                   NaN   \n",
       "4       0.508199       0.301182       0.355639                0.2021   \n",
       "\n",
       "  Phone_Change Credit_Bureau Default  \n",
       "0         63.0           NaN       0  \n",
       "1          NaN           NaN       0  \n",
       "2        277.0           0.0       0  \n",
       "3       1700.0           3.0       0  \n",
       "4        674.0           1.0       0  \n",
       "\n",
       "[5 rows x 40 columns]"
      ]
     },
     "execution_count": 2,
     "metadata": {},
     "output_type": "execute_result"
    }
   ],
   "source": [
    "default=pd.read_csv(\"Train_Dataset.csv\")\n",
    "default.head()"
   ]
  },
  {
   "cell_type": "code",
   "execution_count": 3,
   "metadata": {},
   "outputs": [
    {
     "name": "stdout",
     "output_type": "stream",
     "text": [
      "<class 'pandas.core.frame.DataFrame'>\n",
      "RangeIndex: 121856 entries, 0 to 121855\n",
      "Data columns (total 40 columns):\n",
      " #   Column                      Non-Null Count   Dtype  \n",
      "---  ------                      --------------   -----  \n",
      " 0   ID                          121856 non-null  int64  \n",
      " 1   Client_Income               118249 non-null  object \n",
      " 2   Car_Owned                   118275 non-null  float64\n",
      " 3   Bike_Owned                  118232 non-null  float64\n",
      " 4   Active_Loan                 118221 non-null  float64\n",
      " 5   House_Own                   118195 non-null  float64\n",
      " 6   Child_Count                 118218 non-null  float64\n",
      " 7   Credit_Amount               118224 non-null  object \n",
      " 8   Loan_Annuity                117044 non-null  object \n",
      " 9   Accompany_Client            120110 non-null  object \n",
      " 10  Client_Income_Type          118155 non-null  object \n",
      " 11  Client_Education            118211 non-null  object \n",
      " 12  Client_Marital_Status       118383 non-null  object \n",
      " 13  Client_Gender               119443 non-null  object \n",
      " 14  Loan_Contract_Type          118205 non-null  object \n",
      " 15  Client_Housing_Type         118169 non-null  object \n",
      " 16  Population_Region_Relative  116999 non-null  object \n",
      " 17  Age_Days                    118256 non-null  object \n",
      " 18  Employed_Days               118207 non-null  object \n",
      " 19  Registration_Days           118242 non-null  object \n",
      " 20  ID_Days                     115888 non-null  object \n",
      " 21  Own_House_Age               41761 non-null   float64\n",
      " 22  Mobile_Tag                  121856 non-null  int64  \n",
      " 23  Homephone_Tag               121856 non-null  int64  \n",
      " 24  Workphone_Working           121856 non-null  int64  \n",
      " 25  Client_Occupation           80421 non-null   object \n",
      " 26  Client_Family_Members       119446 non-null  float64\n",
      " 27  Cleint_City_Rating          119447 non-null  float64\n",
      " 28  Application_Process_Day     119428 non-null  float64\n",
      " 29  Application_Process_Hour    118193 non-null  float64\n",
      " 30  Client_Permanent_Match_Tag  121856 non-null  object \n",
      " 31  Client_Contact_Work_Tag     121856 non-null  object \n",
      " 32  Type_Organization           118247 non-null  object \n",
      " 33  Score_Source_1              53021 non-null   float64\n",
      " 34  Score_Source_2              116170 non-null  float64\n",
      " 35  Score_Source_3              94935 non-null   object \n",
      " 36  Social_Circle_Default       59928 non-null   float64\n",
      " 37  Phone_Change                118192 non-null  float64\n",
      " 38  Credit_Bureau               103316 non-null  float64\n",
      " 39  Default                     121856 non-null  int64  \n",
      "dtypes: float64(15), int64(5), object(20)\n",
      "memory usage: 37.2+ MB\n"
     ]
    }
   ],
   "source": [
    "default.info()"
   ]
  },
  {
   "cell_type": "code",
   "execution_count": 4,
   "metadata": {},
   "outputs": [
    {
     "data": {
      "text/plain": [
       "ID                            0.000000\n",
       "Client_Contact_Work_Tag       0.000000\n",
       "Client_Permanent_Match_Tag    0.000000\n",
       "Workphone_Working             0.000000\n",
       "Homephone_Tag                 0.000000\n",
       "Mobile_Tag                    0.000000\n",
       "Default                       0.000000\n",
       "Accompany_Client              0.014328\n",
       "Cleint_City_Rating            0.019769\n",
       "Client_Family_Members         0.019777\n",
       "Client_Gender                 0.019802\n",
       "Application_Process_Day       0.019925\n",
       "Client_Marital_Status         0.028501\n",
       "Car_Owned                     0.029387\n",
       "Age_Days                      0.029543\n",
       "Client_Income                 0.029601\n",
       "Type_Organization             0.029617\n",
       "Registration_Days             0.029658\n",
       "Bike_Owned                    0.029740\n",
       "Credit_Amount                 0.029806\n",
       "Active_Loan                   0.029830\n",
       "Child_Count                   0.029855\n",
       "Client_Education              0.029912\n",
       "Employed_Days                 0.029945\n",
       "Loan_Contract_Type            0.029962\n",
       "House_Own                     0.030044\n",
       "Application_Process_Hour      0.030060\n",
       "Phone_Change                  0.030068\n",
       "Client_Housing_Type           0.030257\n",
       "Client_Income_Type            0.030372\n",
       "Loan_Annuity                  0.039489\n",
       "Population_Region_Relative    0.039859\n",
       "Score_Source_2                0.046662\n",
       "ID_Days                       0.048976\n",
       "Credit_Bureau                 0.152147\n",
       "Score_Source_3                0.220925\n",
       "Client_Occupation             0.340032\n",
       "Social_Circle_Default         0.508206\n",
       "Score_Source_1                0.564888\n",
       "Own_House_Age                 0.657292\n",
       "dtype: float64"
      ]
     },
     "execution_count": 4,
     "metadata": {},
     "output_type": "execute_result"
    }
   ],
   "source": [
    "(default.isnull().sum()/default.shape[0]).sort_values()"
   ]
  },
  {
   "cell_type": "code",
   "execution_count": 5,
   "metadata": {},
   "outputs": [
    {
     "data": {
      "text/plain": [
       "Alone       0.810998\n",
       "Relative    0.131113\n",
       "Partner     0.037599\n",
       "Kids        0.011106\n",
       "Others      0.008217\n",
       "Group       0.000866\n",
       "##          0.000100\n",
       "Name: Accompany_Client, dtype: float64"
      ]
     },
     "execution_count": 5,
     "metadata": {},
     "output_type": "execute_result"
    }
   ],
   "source": [
    "default['Accompany_Client'].value_counts(normalize=True)"
   ]
  },
  {
   "cell_type": "code",
   "execution_count": 6,
   "metadata": {},
   "outputs": [],
   "source": [
    "default.loc[default['Accompany_Client'].isnull(),'Accompany_Client']='Alone'"
   ]
  },
  {
   "cell_type": "code",
   "execution_count": 7,
   "metadata": {},
   "outputs": [],
   "source": [
    "default.loc[default['Accompany_Client']=='##','Accompany_Client']='Alone'"
   ]
  },
  {
   "cell_type": "code",
   "execution_count": 8,
   "metadata": {},
   "outputs": [
    {
     "data": {
      "text/plain": [
       "Service            0.516508\n",
       "Commercial         0.234979\n",
       "Retired            0.178097\n",
       "Govt Job           0.070272\n",
       "Student            0.000068\n",
       "Unemployed         0.000051\n",
       "Maternity leave    0.000017\n",
       "Businessman        0.000008\n",
       "Name: Client_Income_Type, dtype: float64"
      ]
     },
     "execution_count": 8,
     "metadata": {},
     "output_type": "execute_result"
    }
   ],
   "source": [
    "default['Client_Income_Type'].value_counts(normalize=True)"
   ]
  },
  {
   "cell_type": "code",
   "execution_count": 9,
   "metadata": {},
   "outputs": [],
   "source": [
    "default.loc[default['Client_Income_Type'].isnull(),'Client_Income_Type']='Service'"
   ]
  },
  {
   "cell_type": "code",
   "execution_count": 10,
   "metadata": {},
   "outputs": [
    {
     "data": {
      "text/plain": [
       "2.0    0.744673\n",
       "3.0    0.142683\n",
       "1.0    0.112644\n",
       "Name: Cleint_City_Rating, dtype: float64"
      ]
     },
     "execution_count": 10,
     "metadata": {},
     "output_type": "execute_result"
    }
   ],
   "source": [
    "default['Cleint_City_Rating'].value_counts(normalize=True)"
   ]
  },
  {
   "cell_type": "code",
   "execution_count": 11,
   "metadata": {},
   "outputs": [],
   "source": [
    "default.loc[default['Cleint_City_Rating'].isnull(),'Cleint_City_Rating']=2"
   ]
  },
  {
   "cell_type": "code",
   "execution_count": 12,
   "metadata": {},
   "outputs": [
    {
     "data": {
      "text/plain": [
       "2.0     0.516150\n",
       "1.0     0.219455\n",
       "3.0     0.171073\n",
       "4.0     0.080229\n",
       "5.0     0.011294\n",
       "6.0     0.001314\n",
       "7.0     0.000268\n",
       "8.0     0.000092\n",
       "9.0     0.000033\n",
       "12.0    0.000025\n",
       "10.0    0.000025\n",
       "16.0    0.000017\n",
       "15.0    0.000008\n",
       "13.0    0.000008\n",
       "14.0    0.000008\n",
       "Name: Client_Family_Members, dtype: float64"
      ]
     },
     "execution_count": 12,
     "metadata": {},
     "output_type": "execute_result"
    }
   ],
   "source": [
    "default['Client_Family_Members'].value_counts(normalize=True)"
   ]
  },
  {
   "cell_type": "code",
   "execution_count": 13,
   "metadata": {},
   "outputs": [],
   "source": [
    "default.loc[default['Client_Family_Members'].isnull(),'Client_Family_Members']=2"
   ]
  },
  {
   "cell_type": "code",
   "execution_count": 14,
   "metadata": {},
   "outputs": [
    {
     "data": {
      "text/plain": [
       "Male      0.656907\n",
       "Female    0.343067\n",
       "XNA       0.000025\n",
       "Name: Client_Gender, dtype: float64"
      ]
     },
     "execution_count": 14,
     "metadata": {},
     "output_type": "execute_result"
    }
   ],
   "source": [
    "default['Client_Gender'].value_counts(normalize=True)"
   ]
  },
  {
   "cell_type": "code",
   "execution_count": 15,
   "metadata": {},
   "outputs": [],
   "source": [
    "default.loc[default['Client_Gender'].isnull(),'Client_Gender']='Male'"
   ]
  },
  {
   "cell_type": "code",
   "execution_count": 16,
   "metadata": {},
   "outputs": [],
   "source": [
    "default.loc[default['Client_Gender']=='XNA','Client_Gender']='Male'"
   ]
  },
  {
   "cell_type": "code",
   "execution_count": 17,
   "metadata": {},
   "outputs": [
    {
     "data": {
      "text/plain": [
       "count    119428.000000\n",
       "mean          3.159736\n",
       "std           1.759045\n",
       "min           0.000000\n",
       "25%           2.000000\n",
       "50%           3.000000\n",
       "75%           5.000000\n",
       "max           6.000000\n",
       "Name: Application_Process_Day, dtype: float64"
      ]
     },
     "execution_count": 17,
     "metadata": {},
     "output_type": "execute_result"
    }
   ],
   "source": [
    "default['Application_Process_Day'].describe()"
   ]
  },
  {
   "cell_type": "code",
   "execution_count": 18,
   "metadata": {},
   "outputs": [],
   "source": [
    "default.loc[default['Application_Process_Day'].isnull(),'Application_Process_Day']=3"
   ]
  },
  {
   "cell_type": "code",
   "execution_count": 19,
   "metadata": {},
   "outputs": [
    {
     "data": {
      "text/plain": [
       "M    0.737851\n",
       "S    0.147014\n",
       "D    0.063827\n",
       "W    0.051308\n",
       "Name: Client_Marital_Status, dtype: float64"
      ]
     },
     "execution_count": 19,
     "metadata": {},
     "output_type": "execute_result"
    }
   ],
   "source": [
    "default['Client_Marital_Status'].value_counts(normalize=True)"
   ]
  },
  {
   "cell_type": "code",
   "execution_count": 20,
   "metadata": {},
   "outputs": [],
   "source": [
    "default.loc[default['Client_Marital_Status'].isnull(),'Client_Marital_Status']='M'"
   ]
  },
  {
   "cell_type": "code",
   "execution_count": 21,
   "metadata": {},
   "outputs": [
    {
     "data": {
      "text/plain": [
       "0.0    0.657146\n",
       "1.0    0.342854\n",
       "Name: Car_Owned, dtype: float64"
      ]
     },
     "execution_count": 21,
     "metadata": {},
     "output_type": "execute_result"
    }
   ],
   "source": [
    "default['Car_Owned'].value_counts(normalize=True)"
   ]
  },
  {
   "cell_type": "code",
   "execution_count": 22,
   "metadata": {},
   "outputs": [],
   "source": [
    "default.loc[default['Car_Owned'].isnull(),'Car_Owned']=0"
   ]
  },
  {
   "cell_type": "code",
   "execution_count": 23,
   "metadata": {},
   "outputs": [
    {
     "data": {
      "text/plain": [
       "count     118256\n",
       "unique     22583\n",
       "top        13740\n",
       "freq          20\n",
       "Name: Age_Days, dtype: object"
      ]
     },
     "execution_count": 23,
     "metadata": {},
     "output_type": "execute_result"
    }
   ],
   "source": [
    "default['Age_Days'].describe()"
   ]
  },
  {
   "cell_type": "code",
   "execution_count": 24,
   "metadata": {},
   "outputs": [
    {
     "data": {
      "text/plain": [
       "13740      0.000169\n",
       "20193      0.000169\n",
       "16987      0.000169\n",
       "10936      0.000169\n",
       "13409      0.000169\n",
       "             ...   \n",
       "24388      0.000008\n",
       "24415.0    0.000008\n",
       "23997      0.000008\n",
       "14786.0    0.000008\n",
       "10469.0    0.000008\n",
       "Name: Age_Days, Length: 22583, dtype: float64"
      ]
     },
     "execution_count": 24,
     "metadata": {},
     "output_type": "execute_result"
    }
   ],
   "source": [
    "default['Age_Days'].value_counts(normalize=True).sort_values(ascending=False)"
   ]
  },
  {
   "cell_type": "code",
   "execution_count": 25,
   "metadata": {},
   "outputs": [],
   "source": [
    "default.loc[default['Age_Days']=='x','Age_Days']=np.nan"
   ]
  },
  {
   "cell_type": "code",
   "execution_count": 26,
   "metadata": {},
   "outputs": [],
   "source": [
    "default['Age_Days']=default['Age_Days'].astype('float64')"
   ]
  },
  {
   "cell_type": "code",
   "execution_count": 27,
   "metadata": {},
   "outputs": [
    {
     "data": {
      "text/plain": [
       "count    118239.000000\n",
       "mean      16027.422948\n",
       "std        4366.356504\n",
       "min        7676.000000\n",
       "25%       12398.000000\n",
       "50%       15734.000000\n",
       "75%       19661.000000\n",
       "max       25201.000000\n",
       "Name: Age_Days, dtype: float64"
      ]
     },
     "execution_count": 27,
     "metadata": {},
     "output_type": "execute_result"
    }
   ],
   "source": [
    "default['Age_Days'].describe()"
   ]
  },
  {
   "cell_type": "code",
   "execution_count": 28,
   "metadata": {},
   "outputs": [],
   "source": [
    "# default.loc[default['Age_Days']==0,'Age_Days']=15733"
   ]
  },
  {
   "cell_type": "code",
   "execution_count": 29,
   "metadata": {},
   "outputs": [],
   "source": [
    "default.loc[default['Age_Days'].isnull(),'Age_Days']=15733"
   ]
  },
  {
   "cell_type": "code",
   "execution_count": 30,
   "metadata": {},
   "outputs": [
    {
     "data": {
      "text/plain": [
       "count    121856.000000\n",
       "mean      16018.683717\n",
       "std        4301.355691\n",
       "min        7676.000000\n",
       "25%       12512.000000\n",
       "50%       15733.000000\n",
       "75%       19544.000000\n",
       "max       25201.000000\n",
       "Name: Age_Days, dtype: float64"
      ]
     },
     "execution_count": 30,
     "metadata": {},
     "output_type": "execute_result"
    }
   ],
   "source": [
    "default['Age_Days'].describe()"
   ]
  },
  {
   "cell_type": "code",
   "execution_count": 31,
   "metadata": {},
   "outputs": [],
   "source": [
    "default['Age_Days']=default['Age_Days'].astype('int64')"
   ]
  },
  {
   "cell_type": "code",
   "execution_count": 32,
   "metadata": {},
   "outputs": [
    {
     "data": {
      "text/plain": [
       "count     118249\n",
       "unique      1516\n",
       "top        13500\n",
       "freq       11908\n",
       "Name: Client_Income, dtype: object"
      ]
     },
     "execution_count": 32,
     "metadata": {},
     "output_type": "execute_result"
    }
   ],
   "source": [
    "default['Client_Income'].describe()"
   ]
  },
  {
   "cell_type": "code",
   "execution_count": 33,
   "metadata": {},
   "outputs": [],
   "source": [
    "default.loc[default['Client_Income']=='$','Client_Income']=np.nan"
   ]
  },
  {
   "cell_type": "code",
   "execution_count": 34,
   "metadata": {},
   "outputs": [],
   "source": [
    "default['Client_Income']=default['Client_Income'].astype('float64')"
   ]
  },
  {
   "cell_type": "code",
   "execution_count": 35,
   "metadata": {},
   "outputs": [
    {
     "data": {
      "text/plain": [
       "count    1.182340e+05\n",
       "mean     1.686519e+04\n",
       "std      1.153815e+04\n",
       "min      2.565000e+03\n",
       "25%      1.125000e+04\n",
       "50%      1.440000e+04\n",
       "75%      2.025000e+04\n",
       "max      1.800009e+06\n",
       "Name: Client_Income, dtype: float64"
      ]
     },
     "execution_count": 35,
     "metadata": {},
     "output_type": "execute_result"
    }
   ],
   "source": [
    "default['Client_Income'].describe()"
   ]
  },
  {
   "cell_type": "code",
   "execution_count": 36,
   "metadata": {},
   "outputs": [],
   "source": [
    "# default.loc[default['Client_Income']==0,'Client_Income']=14400"
   ]
  },
  {
   "cell_type": "code",
   "execution_count": 37,
   "metadata": {},
   "outputs": [],
   "source": [
    "default.loc[default['Client_Income'].isnull(),'Client_Income']=14400"
   ]
  },
  {
   "cell_type": "code",
   "execution_count": 38,
   "metadata": {},
   "outputs": [
    {
     "data": {
      "text/plain": [
       "count    1.218560e+05\n",
       "mean     1.679192e+04\n",
       "std      1.137309e+04\n",
       "min      2.565000e+03\n",
       "25%      1.125000e+04\n",
       "50%      1.440000e+04\n",
       "75%      2.025000e+04\n",
       "max      1.800009e+06\n",
       "Name: Client_Income, dtype: float64"
      ]
     },
     "execution_count": 38,
     "metadata": {},
     "output_type": "execute_result"
    }
   ],
   "source": [
    "default['Client_Income'].describe()"
   ]
  },
  {
   "cell_type": "code",
   "execution_count": 39,
   "metadata": {},
   "outputs": [
    {
     "data": {
      "text/plain": [
       "Business Entity Type 3    0.222238\n",
       "XNA                       0.178313\n",
       "Self-employed             0.124527\n",
       "Other                     0.053194\n",
       "Medicine                  0.036534\n",
       "Business Entity Type 2    0.034893\n",
       "Government                0.033582\n",
       "School                    0.028508\n",
       "Trade: type 7             0.025193\n",
       "Kindergarten              0.022715\n",
       "Construction              0.022182\n",
       "Business Entity Type 1    0.019561\n",
       "Transport: type 4         0.017556\n",
       "Trade: type 3             0.011315\n",
       "Security                  0.010859\n",
       "Industry: type 9          0.010825\n",
       "Industry: type 3          0.010444\n",
       "Housing                   0.009827\n",
       "Military                  0.008719\n",
       "Bank                      0.008558\n",
       "Agriculture               0.008550\n",
       "Industry: type 11         0.008448\n",
       "Police                    0.007899\n",
       "Postal                    0.007053\n",
       "Transport: type 2         0.006859\n",
       "Security Ministries       0.006393\n",
       "Trade: type 2             0.006064\n",
       "Restaurant                0.006004\n",
       "Services                  0.004820\n",
       "University                0.004727\n",
       "Transport: type 3         0.004237\n",
       "Industry: type 7          0.004203\n",
       "Industry: type 1          0.003391\n",
       "Hotel                     0.003324\n",
       "Electricity               0.003095\n",
       "Industry: type 4          0.002850\n",
       "Trade: type 6             0.002106\n",
       "Industry: type 5          0.001962\n",
       "Telecom                   0.001903\n",
       "Insurance                 0.001818\n",
       "Emergency                 0.001751\n",
       "Industry: type 2          0.001455\n",
       "Realtor                   0.001319\n",
       "Industry: type 12         0.001294\n",
       "Advertising               0.001285\n",
       "Trade: type 1             0.001142\n",
       "Culture                   0.001108\n",
       "Mobile                    0.001032\n",
       "Legal Services            0.001006\n",
       "Cleaning                  0.000998\n",
       "Transport: type 1         0.000651\n",
       "Industry: type 10         0.000338\n",
       "Industry: type 6          0.000338\n",
       "Religion                  0.000313\n",
       "Industry: type 13         0.000296\n",
       "Trade: type 4             0.000237\n",
       "Trade: type 5             0.000101\n",
       "Industry: type 8          0.000085\n",
       "Name: Type_Organization, dtype: float64"
      ]
     },
     "execution_count": 39,
     "metadata": {},
     "output_type": "execute_result"
    }
   ],
   "source": [
    "default['Type_Organization'].value_counts(normalize=True).sort_values(ascending=False)"
   ]
  },
  {
   "cell_type": "code",
   "execution_count": 40,
   "metadata": {},
   "outputs": [],
   "source": [
    "default.loc[default['Type_Organization'].isnull(),'Type_Organization']='Business Entity Type 3'"
   ]
  },
  {
   "cell_type": "code",
   "execution_count": 41,
   "metadata": {},
   "outputs": [],
   "source": [
    "default.loc[default['Type_Organization']=='XNA','Type_Organization']='Business Entity Type 3'"
   ]
  },
  {
   "cell_type": "code",
   "execution_count": 42,
   "metadata": {},
   "outputs": [
    {
     "data": {
      "text/plain": [
       "count     118242\n",
       "unique     19254\n",
       "top            1\n",
       "freq          44\n",
       "Name: Registration_Days, dtype: object"
      ]
     },
     "execution_count": 42,
     "metadata": {},
     "output_type": "execute_result"
    }
   ],
   "source": [
    "default['Registration_Days'].describe()"
   ]
  },
  {
   "cell_type": "code",
   "execution_count": 43,
   "metadata": {},
   "outputs": [],
   "source": [
    "default.loc[default['Registration_Days']=='x','Registration_Days']=np.nan"
   ]
  },
  {
   "cell_type": "code",
   "execution_count": 44,
   "metadata": {},
   "outputs": [],
   "source": [
    "default['Registration_Days']=default['Registration_Days'].astype('float64')"
   ]
  },
  {
   "cell_type": "code",
   "execution_count": 45,
   "metadata": {},
   "outputs": [
    {
     "data": {
      "text/plain": [
       "count    118225.000000\n",
       "mean       4975.162123\n",
       "std        3514.546963\n",
       "min           0.000000\n",
       "25%        2008.000000\n",
       "50%        4493.000000\n",
       "75%        7464.000000\n",
       "max       23738.000000\n",
       "Name: Registration_Days, dtype: float64"
      ]
     },
     "execution_count": 45,
     "metadata": {},
     "output_type": "execute_result"
    }
   ],
   "source": [
    "default['Registration_Days'].describe()"
   ]
  },
  {
   "cell_type": "code",
   "execution_count": 46,
   "metadata": {},
   "outputs": [],
   "source": [
    "default.loc[default['Registration_Days'].isnull(),'Registration_Days']=4493"
   ]
  },
  {
   "cell_type": "code",
   "execution_count": 47,
   "metadata": {},
   "outputs": [],
   "source": [
    "default['Registration_Days']=default['Registration_Days'].astype('int64')"
   ]
  },
  {
   "cell_type": "code",
   "execution_count": 48,
   "metadata": {},
   "outputs": [
    {
     "data": {
      "text/plain": [
       "0.0    0.667738\n",
       "1.0    0.332262\n",
       "Name: Bike_Owned, dtype: float64"
      ]
     },
     "execution_count": 48,
     "metadata": {},
     "output_type": "execute_result"
    }
   ],
   "source": [
    "default['Bike_Owned'].value_counts(normalize=True).sort_values(ascending=False)"
   ]
  },
  {
   "cell_type": "code",
   "execution_count": 49,
   "metadata": {},
   "outputs": [],
   "source": [
    "default.loc[default['Bike_Owned'].isnull(),'Bike_Owned']=0"
   ]
  },
  {
   "cell_type": "code",
   "execution_count": 50,
   "metadata": {},
   "outputs": [
    {
     "data": {
      "text/plain": [
       "count     118224.0\n",
       "unique      6816.0\n",
       "top        45000.0\n",
       "freq        2513.0\n",
       "Name: Credit_Amount, dtype: float64"
      ]
     },
     "execution_count": 50,
     "metadata": {},
     "output_type": "execute_result"
    }
   ],
   "source": [
    "default['Credit_Amount'].describe()"
   ]
  },
  {
   "cell_type": "code",
   "execution_count": 51,
   "metadata": {},
   "outputs": [],
   "source": [
    "default.loc[default['Credit_Amount']=='$','Credit_Amount']=np.nan"
   ]
  },
  {
   "cell_type": "code",
   "execution_count": 52,
   "metadata": {},
   "outputs": [],
   "source": [
    "default['Credit_Amount']=default['Credit_Amount'].astype('float64')"
   ]
  },
  {
   "cell_type": "code",
   "execution_count": 53,
   "metadata": {},
   "outputs": [
    {
     "data": {
      "text/plain": [
       "count    118219.000000\n",
       "mean      60046.488951\n",
       "std       40350.663346\n",
       "min        4500.000000\n",
       "25%       27000.000000\n",
       "50%       51750.000000\n",
       "75%       80865.000000\n",
       "max      405000.000000\n",
       "Name: Credit_Amount, dtype: float64"
      ]
     },
     "execution_count": 53,
     "metadata": {},
     "output_type": "execute_result"
    }
   ],
   "source": [
    "default['Credit_Amount'].describe()"
   ]
  },
  {
   "cell_type": "code",
   "execution_count": 54,
   "metadata": {},
   "outputs": [],
   "source": [
    "\n",
    "default.loc[default['Credit_Amount'].isnull(),'Credit_Amount']=51750"
   ]
  },
  {
   "cell_type": "code",
   "execution_count": 55,
   "metadata": {},
   "outputs": [
    {
     "data": {
      "text/plain": [
       "0.0    0.500825\n",
       "1.0    0.499175\n",
       "Name: Active_Loan, dtype: float64"
      ]
     },
     "execution_count": 55,
     "metadata": {},
     "output_type": "execute_result"
    }
   ],
   "source": [
    "default['Active_Loan'].value_counts(normalize=True).sort_values(ascending=False)"
   ]
  },
  {
   "cell_type": "code",
   "execution_count": 56,
   "metadata": {},
   "outputs": [],
   "source": [
    "default.loc[default['Active_Loan'].isnull(),'Active_Loan']=0"
   ]
  },
  {
   "cell_type": "code",
   "execution_count": 57,
   "metadata": {},
   "outputs": [
    {
     "data": {
      "text/plain": [
       "0.0     0.700689\n",
       "1.0     0.198202\n",
       "2.0     0.087076\n",
       "3.0     0.012096\n",
       "4.0     0.001413\n",
       "5.0     0.000288\n",
       "6.0     0.000102\n",
       "14.0    0.000034\n",
       "7.0     0.000034\n",
       "10.0    0.000025\n",
       "8.0     0.000017\n",
       "9.0     0.000008\n",
       "12.0    0.000008\n",
       "19.0    0.000008\n",
       "Name: Child_Count, dtype: float64"
      ]
     },
     "execution_count": 57,
     "metadata": {},
     "output_type": "execute_result"
    }
   ],
   "source": [
    "default['Child_Count'].value_counts(normalize=True).sort_values(ascending=False)"
   ]
  },
  {
   "cell_type": "code",
   "execution_count": 58,
   "metadata": {},
   "outputs": [],
   "source": [
    "default.loc[default['Child_Count'].isnull(),'Child_Count']=0"
   ]
  },
  {
   "cell_type": "code",
   "execution_count": 59,
   "metadata": {},
   "outputs": [
    {
     "data": {
      "text/plain": [
       "Secondary             0.709841\n",
       "Graduation            0.243793\n",
       "Graduation dropout    0.033499\n",
       "Junior secondary      0.012308\n",
       "Post Grad             0.000558\n",
       "Name: Client_Education, dtype: float64"
      ]
     },
     "execution_count": 59,
     "metadata": {},
     "output_type": "execute_result"
    }
   ],
   "source": [
    "default['Client_Education'].value_counts(normalize=True).sort_values(ascending=False)"
   ]
  },
  {
   "cell_type": "code",
   "execution_count": 60,
   "metadata": {},
   "outputs": [],
   "source": [
    "default.loc[default['Client_Education'].isnull(),'Client_Education']='Secondary'"
   ]
  },
  {
   "cell_type": "code",
   "execution_count": 61,
   "metadata": {},
   "outputs": [
    {
     "data": {
      "text/plain": [
       "count     118207\n",
       "unique     13220\n",
       "top       365243\n",
       "freq       19848\n",
       "Name: Employed_Days, dtype: object"
      ]
     },
     "execution_count": 61,
     "metadata": {},
     "output_type": "execute_result"
    }
   ],
   "source": [
    "default['Employed_Days'].describe()"
   ]
  },
  {
   "cell_type": "code",
   "execution_count": 62,
   "metadata": {},
   "outputs": [
    {
     "data": {
      "text/plain": [
       "365243      19848\n",
       "365243.0     1250\n",
       "381            65\n",
       "212            62\n",
       "231            59\n",
       "            ...  \n",
       "10552           1\n",
       "12522           1\n",
       "1388.0          1\n",
       "1385.0          1\n",
       "4953.0          1\n",
       "Name: Employed_Days, Length: 13220, dtype: int64"
      ]
     },
     "execution_count": 62,
     "metadata": {},
     "output_type": "execute_result"
    }
   ],
   "source": [
    "default['Employed_Days'].value_counts().sort_values(ascending=False)"
   ]
  },
  {
   "cell_type": "code",
   "execution_count": 63,
   "metadata": {},
   "outputs": [
    {
     "data": {
      "text/plain": [
       "3649"
      ]
     },
     "execution_count": 63,
     "metadata": {},
     "output_type": "execute_result"
    }
   ],
   "source": [
    "default['Employed_Days'].isnull().sum()"
   ]
  },
  {
   "cell_type": "code",
   "execution_count": 64,
   "metadata": {},
   "outputs": [],
   "source": [
    "default.loc[default['Employed_Days']=='365243','Employed_Days']=np.nan"
   ]
  },
  {
   "cell_type": "code",
   "execution_count": 65,
   "metadata": {},
   "outputs": [],
   "source": [
    "default.loc[default['Employed_Days']==365243,'Employed_Days']=np.nan"
   ]
  },
  {
   "cell_type": "code",
   "execution_count": 66,
   "metadata": {},
   "outputs": [
    {
     "data": {
      "text/plain": [
       "381       0.000669\n",
       "212       0.000638\n",
       "231       0.000608\n",
       "116       0.000597\n",
       "230       0.000577\n",
       "            ...   \n",
       "10552     0.000010\n",
       "12522     0.000010\n",
       "1388.0    0.000010\n",
       "1385.0    0.000010\n",
       "11409     0.000010\n",
       "Name: Employed_Days, Length: 13218, dtype: float64"
      ]
     },
     "execution_count": 66,
     "metadata": {},
     "output_type": "execute_result"
    }
   ],
   "source": [
    "default['Employed_Days'].value_counts(normalize=True).sort_values(ascending=False)"
   ]
  },
  {
   "cell_type": "code",
   "execution_count": 67,
   "metadata": {},
   "outputs": [],
   "source": [
    "default['Employed_Days'] = pd.to_numeric(default['Employed_Days'], errors='coerce')"
   ]
  },
  {
   "cell_type": "code",
   "execution_count": 68,
   "metadata": {},
   "outputs": [
    {
     "data": {
      "text/plain": [
       "24764"
      ]
     },
     "execution_count": 68,
     "metadata": {},
     "output_type": "execute_result"
    }
   ],
   "source": [
    "default['Employed_Days'].isnull().sum()"
   ]
  },
  {
   "cell_type": "code",
   "execution_count": 69,
   "metadata": {},
   "outputs": [
    {
     "data": {
      "text/plain": [
       "count    97092.000000\n",
       "mean      2379.627487\n",
       "std       2327.098512\n",
       "min          0.000000\n",
       "25%        767.000000\n",
       "50%       1649.000000\n",
       "75%       3167.250000\n",
       "max      17546.000000\n",
       "Name: Employed_Days, dtype: float64"
      ]
     },
     "execution_count": 69,
     "metadata": {},
     "output_type": "execute_result"
    }
   ],
   "source": [
    "default['Employed_Days'].describe()"
   ]
  },
  {
   "cell_type": "code",
   "execution_count": 70,
   "metadata": {},
   "outputs": [],
   "source": [
    "default.loc[default['Employed_Days'].isnull(),'Employed_Days']=1649"
   ]
  },
  {
   "cell_type": "code",
   "execution_count": 71,
   "metadata": {},
   "outputs": [],
   "source": [
    "default['Employed_Days']=default['Employed_Days'].astype('int64')"
   ]
  },
  {
   "cell_type": "code",
   "execution_count": 72,
   "metadata": {},
   "outputs": [
    {
     "data": {
      "text/plain": [
       "CL    0.906205\n",
       "RL    0.093795\n",
       "Name: Loan_Contract_Type, dtype: float64"
      ]
     },
     "execution_count": 72,
     "metadata": {},
     "output_type": "execute_result"
    }
   ],
   "source": [
    "default['Loan_Contract_Type'].value_counts(normalize=True).sort_values(ascending=False)"
   ]
  },
  {
   "cell_type": "code",
   "execution_count": 73,
   "metadata": {},
   "outputs": [],
   "source": [
    "default.loc[default['Loan_Contract_Type'].isnull(),'Loan_Contract_Type']='CL'"
   ]
  },
  {
   "cell_type": "code",
   "execution_count": 74,
   "metadata": {},
   "outputs": [
    {
     "data": {
      "text/plain": [
       "1.0    0.69206\n",
       "0.0    0.30794\n",
       "Name: House_Own, dtype: float64"
      ]
     },
     "execution_count": 74,
     "metadata": {},
     "output_type": "execute_result"
    }
   ],
   "source": [
    "default['House_Own'].value_counts(normalize=True).sort_values(ascending=False)"
   ]
  },
  {
   "cell_type": "code",
   "execution_count": 75,
   "metadata": {},
   "outputs": [],
   "source": [
    "\n",
    "default.loc[default['House_Own'].isnull(),'House_Own']=1"
   ]
  },
  {
   "cell_type": "code",
   "execution_count": 76,
   "metadata": {},
   "outputs": [
    {
     "data": {
      "text/plain": [
       "count    118193.000000\n",
       "mean         12.063100\n",
       "std           3.280695\n",
       "min           0.000000\n",
       "25%          10.000000\n",
       "50%          12.000000\n",
       "75%          14.000000\n",
       "max          23.000000\n",
       "Name: Application_Process_Hour, dtype: float64"
      ]
     },
     "execution_count": 76,
     "metadata": {},
     "output_type": "execute_result"
    }
   ],
   "source": [
    "default['Application_Process_Hour'].describe()"
   ]
  },
  {
   "cell_type": "code",
   "execution_count": 77,
   "metadata": {},
   "outputs": [],
   "source": [
    "default.loc[default['Application_Process_Hour'].isnull(),'Application_Process_Hour']=12"
   ]
  },
  {
   "cell_type": "code",
   "execution_count": 78,
   "metadata": {},
   "outputs": [
    {
     "data": {
      "text/plain": [
       "count    118192.000000\n",
       "mean        962.106056\n",
       "std         827.976726\n",
       "min           0.000000\n",
       "25%         272.000000\n",
       "50%         755.000000\n",
       "75%        1570.000000\n",
       "max        4185.000000\n",
       "Name: Phone_Change, dtype: float64"
      ]
     },
     "execution_count": 78,
     "metadata": {},
     "output_type": "execute_result"
    }
   ],
   "source": [
    "default['Phone_Change'].describe()"
   ]
  },
  {
   "cell_type": "code",
   "execution_count": 79,
   "metadata": {},
   "outputs": [],
   "source": [
    "default.loc[default['Phone_Change'].isnull(),'Phone_Change']=755"
   ]
  },
  {
   "cell_type": "code",
   "execution_count": 80,
   "metadata": {},
   "outputs": [
    {
     "data": {
      "text/plain": [
       "Home         0.887458\n",
       "Family       0.048938\n",
       "Municipal    0.035949\n",
       "Rental       0.015368\n",
       "Office       0.008479\n",
       "Shared       0.003808\n",
       "Name: Client_Housing_Type, dtype: float64"
      ]
     },
     "execution_count": 80,
     "metadata": {},
     "output_type": "execute_result"
    }
   ],
   "source": [
    "default['Client_Housing_Type'].value_counts(normalize=True).sort_values(ascending=False)"
   ]
  },
  {
   "cell_type": "code",
   "execution_count": 81,
   "metadata": {},
   "outputs": [],
   "source": [
    "default.loc[default['Client_Housing_Type'].isnull(),'Client_Housing_Type']='Home'"
   ]
  },
  {
   "cell_type": "code",
   "execution_count": 82,
   "metadata": {},
   "outputs": [
    {
     "data": {
      "text/plain": [
       "count     117044\n",
       "unique     16680\n",
       "top          900\n",
       "freq        1885\n",
       "Name: Loan_Annuity, dtype: object"
      ]
     },
     "execution_count": 82,
     "metadata": {},
     "output_type": "execute_result"
    }
   ],
   "source": [
    "default['Loan_Annuity'].describe()"
   ]
  },
  {
   "cell_type": "code",
   "execution_count": 83,
   "metadata": {},
   "outputs": [],
   "source": [
    "default['Loan_Annuity'] = pd.to_numeric(default['Loan_Annuity'], errors='coerce')"
   ]
  },
  {
   "cell_type": "code",
   "execution_count": 84,
   "metadata": {},
   "outputs": [
    {
     "data": {
      "text/plain": [
       "count    117030.000000\n",
       "mean       2721.254492\n",
       "std        1461.466162\n",
       "min         217.350000\n",
       "25%        1657.350000\n",
       "50%        2499.750000\n",
       "75%        3466.800000\n",
       "max       22500.000000\n",
       "Name: Loan_Annuity, dtype: float64"
      ]
     },
     "execution_count": 84,
     "metadata": {},
     "output_type": "execute_result"
    }
   ],
   "source": [
    "default['Loan_Annuity'].describe()"
   ]
  },
  {
   "cell_type": "code",
   "execution_count": 85,
   "metadata": {},
   "outputs": [],
   "source": [
    "default.loc[default['Loan_Annuity'].isnull(),'Loan_Annuity']=2499.75"
   ]
  },
  {
   "cell_type": "code",
   "execution_count": 86,
   "metadata": {},
   "outputs": [
    {
     "data": {
      "text/plain": [
       "count       116999\n",
       "unique         164\n",
       "top       0.035792\n",
       "freq          4159\n",
       "Name: Population_Region_Relative, dtype: object"
      ]
     },
     "execution_count": 86,
     "metadata": {},
     "output_type": "execute_result"
    }
   ],
   "source": [
    "default['Population_Region_Relative'].describe()"
   ]
  },
  {
   "cell_type": "code",
   "execution_count": 87,
   "metadata": {},
   "outputs": [],
   "source": [
    "default['Population_Region_Relative'] = pd.to_numeric(default['Population_Region_Relative'], errors='coerce')"
   ]
  },
  {
   "cell_type": "code",
   "execution_count": 88,
   "metadata": {},
   "outputs": [
    {
     "data": {
      "text/plain": [
       "count    116988.000000\n",
       "mean          0.022602\n",
       "std           0.413617\n",
       "min           0.000533\n",
       "25%           0.010006\n",
       "50%           0.018850\n",
       "75%           0.028663\n",
       "max         100.000000\n",
       "Name: Population_Region_Relative, dtype: float64"
      ]
     },
     "execution_count": 88,
     "metadata": {},
     "output_type": "execute_result"
    }
   ],
   "source": [
    "default['Population_Region_Relative'].describe()"
   ]
  },
  {
   "cell_type": "code",
   "execution_count": 89,
   "metadata": {},
   "outputs": [],
   "source": [
    "default.loc[default['Population_Region_Relative'].isnull(),'Population_Region_Relative']=0.018850"
   ]
  },
  {
   "cell_type": "code",
   "execution_count": 90,
   "metadata": {},
   "outputs": [
    {
     "data": {
      "text/plain": [
       "count    116170.000000\n",
       "mean          0.518625\n",
       "std           0.740248\n",
       "min           0.000005\n",
       "25%           0.390164\n",
       "50%           0.564978\n",
       "75%           0.664011\n",
       "max         100.000000\n",
       "Name: Score_Source_2, dtype: float64"
      ]
     },
     "execution_count": 90,
     "metadata": {},
     "output_type": "execute_result"
    }
   ],
   "source": [
    "default['Score_Source_2'].describe()"
   ]
  },
  {
   "cell_type": "code",
   "execution_count": 91,
   "metadata": {},
   "outputs": [],
   "source": [
    "default.loc[default['Score_Source_2'].isnull(),'Score_Source_2']=0.564978"
   ]
  },
  {
   "cell_type": "code",
   "execution_count": 92,
   "metadata": {},
   "outputs": [
    {
     "data": {
      "text/plain": [
       "count     115888\n",
       "unique      9655\n",
       "top         4053\n",
       "freq          73\n",
       "Name: ID_Days, dtype: object"
      ]
     },
     "execution_count": 92,
     "metadata": {},
     "output_type": "execute_result"
    }
   ],
   "source": [
    "default['ID_Days'].describe()"
   ]
  },
  {
   "cell_type": "code",
   "execution_count": 93,
   "metadata": {},
   "outputs": [],
   "source": [
    "default['ID_Days'] = pd.to_numeric(default['ID_Days'], errors='coerce')"
   ]
  },
  {
   "cell_type": "code",
   "execution_count": 94,
   "metadata": {},
   "outputs": [
    {
     "data": {
      "text/plain": [
       "count    115871.000000\n",
       "mean       2987.471015\n",
       "std        1511.884576\n",
       "min           0.000000\n",
       "25%        1705.000000\n",
       "50%        3242.000000\n",
       "75%        4295.000000\n",
       "max        7197.000000\n",
       "Name: ID_Days, dtype: float64"
      ]
     },
     "execution_count": 94,
     "metadata": {},
     "output_type": "execute_result"
    }
   ],
   "source": [
    "default['ID_Days'].describe()"
   ]
  },
  {
   "cell_type": "code",
   "execution_count": 95,
   "metadata": {},
   "outputs": [],
   "source": [
    "default.loc[default['ID_Days'].isnull(),'ID_Days']=3242"
   ]
  },
  {
   "cell_type": "code",
   "execution_count": 96,
   "metadata": {},
   "outputs": [
    {
     "data": {
      "text/plain": [
       "count    103316.000000\n",
       "mean          1.891082\n",
       "std           1.861921\n",
       "min           0.000000\n",
       "25%           0.000000\n",
       "50%           1.000000\n",
       "75%           3.000000\n",
       "max          22.000000\n",
       "Name: Credit_Bureau, dtype: float64"
      ]
     },
     "execution_count": 96,
     "metadata": {},
     "output_type": "execute_result"
    }
   ],
   "source": [
    "default['Credit_Bureau'].describe()"
   ]
  },
  {
   "cell_type": "code",
   "execution_count": 97,
   "metadata": {},
   "outputs": [
    {
     "data": {
      "text/plain": [
       "0.0     0.271042\n",
       "1.0     0.237833\n",
       "2.0     0.189767\n",
       "3.0     0.126815\n",
       "4.0     0.077219\n",
       "5.0     0.045211\n",
       "6.0     0.025746\n",
       "7.0     0.013754\n",
       "8.0     0.008053\n",
       "9.0     0.004085\n",
       "11.0    0.000106\n",
       "10.0    0.000097\n",
       "13.0    0.000058\n",
       "14.0    0.000058\n",
       "19.0    0.000048\n",
       "15.0    0.000029\n",
       "21.0    0.000019\n",
       "12.0    0.000019\n",
       "17.0    0.000019\n",
       "22.0    0.000010\n",
       "16.0    0.000010\n",
       "Name: Credit_Bureau, dtype: float64"
      ]
     },
     "execution_count": 97,
     "metadata": {},
     "output_type": "execute_result"
    }
   ],
   "source": [
    "default['Credit_Bureau'].value_counts(normalize=True).sort_values(ascending=False)"
   ]
  },
  {
   "cell_type": "code",
   "execution_count": 98,
   "metadata": {},
   "outputs": [],
   "source": [
    "default.loc[default['Credit_Bureau'].isnull(),'Credit_Bureau']=1"
   ]
  },
  {
   "cell_type": "code",
   "execution_count": 99,
   "metadata": {},
   "outputs": [
    {
     "data": {
      "text/plain": [
       "count     94935.0000\n",
       "unique     1430.0000\n",
       "top           0.7463\n",
       "freq        484.0000\n",
       "Name: Score_Source_3, dtype: float64"
      ]
     },
     "execution_count": 99,
     "metadata": {},
     "output_type": "execute_result"
    }
   ],
   "source": [
    "default['Score_Source_3'].describe()"
   ]
  },
  {
   "cell_type": "code",
   "execution_count": 100,
   "metadata": {},
   "outputs": [],
   "source": [
    "default['Score_Source_3'] = pd.to_numeric(default['Score_Source_3'], errors='coerce')"
   ]
  },
  {
   "cell_type": "code",
   "execution_count": 101,
   "metadata": {},
   "outputs": [
    {
     "data": {
      "text/plain": [
       "count    94934.000000\n",
       "mean         0.511180\n",
       "std          0.194333\n",
       "min          0.000527\n",
       "25%          0.372334\n",
       "50%          0.537070\n",
       "75%          0.667458\n",
       "max          0.896010\n",
       "Name: Score_Source_3, dtype: float64"
      ]
     },
     "execution_count": 101,
     "metadata": {},
     "output_type": "execute_result"
    }
   ],
   "source": [
    "default['Score_Source_3'].describe()"
   ]
  },
  {
   "cell_type": "code",
   "execution_count": 102,
   "metadata": {},
   "outputs": [],
   "source": [
    "default.loc[default['Score_Source_3'].isnull(),'Score_Source_3']=0.537070"
   ]
  },
  {
   "cell_type": "code",
   "execution_count": 103,
   "metadata": {},
   "outputs": [
    {
     "data": {
      "text/plain": [
       "Laborers              0.261424\n",
       "Sales                 0.150906\n",
       "Core                  0.131943\n",
       "Managers              0.100708\n",
       "Drivers               0.088907\n",
       "High skill tech       0.053680\n",
       "Accountants           0.046829\n",
       "Medicine              0.039442\n",
       "Security              0.033362\n",
       "Cooking               0.027654\n",
       "Cleaning              0.021412\n",
       "Private service       0.012509\n",
       "Low-skill Laborers    0.009786\n",
       "Secretaries           0.006603\n",
       "Waiters/barmen        0.006354\n",
       "Realty agents         0.003482\n",
       "HR                    0.002562\n",
       "IT                    0.002437\n",
       "Name: Client_Occupation, dtype: float64"
      ]
     },
     "execution_count": 103,
     "metadata": {},
     "output_type": "execute_result"
    }
   ],
   "source": [
    "default['Client_Occupation'].value_counts(normalize=True).sort_values(ascending=False)"
   ]
  },
  {
   "cell_type": "code",
   "execution_count": 104,
   "metadata": {},
   "outputs": [],
   "source": [
    "default.loc[default['Client_Occupation'].isnull(),'Client_Occupation']='Laborers'"
   ]
  },
  {
   "cell_type": "code",
   "execution_count": 543,
   "metadata": {},
   "outputs": [
    {
     "data": {
      "text/plain": [
       "count    53021.000000\n",
       "mean         0.501213\n",
       "std          0.211204\n",
       "min          0.014568\n",
       "25%          0.333481\n",
       "50%          0.504657\n",
       "75%          0.673890\n",
       "max          0.945741\n",
       "Name: Score_Source_1, dtype: float64"
      ]
     },
     "execution_count": 543,
     "metadata": {},
     "output_type": "execute_result"
    }
   ],
   "source": [
    "default['Score_Source_1'].describe()"
   ]
  },
  {
   "cell_type": "code",
   "execution_count": 544,
   "metadata": {},
   "outputs": [],
   "source": [
    "default.loc[default['Score_Source_1'].isnull(),'Score_Source_1']=0.504657"
   ]
  },
  {
   "cell_type": "code",
   "execution_count": 545,
   "metadata": {},
   "outputs": [
    {
     "data": {
      "text/plain": [
       "0.0825    0.044186\n",
       "0.0619    0.042234\n",
       "0.0928    0.029419\n",
       "0.0722    0.026565\n",
       "0.0082    0.023311\n",
       "            ...   \n",
       "0.3706    0.000017\n",
       "0.5010    0.000017\n",
       "0.0435    0.000017\n",
       "0.0106    0.000017\n",
       "0.1122    0.000017\n",
       "Name: Social_Circle_Default, Length: 1882, dtype: float64"
      ]
     },
     "execution_count": 545,
     "metadata": {},
     "output_type": "execute_result"
    }
   ],
   "source": [
    "default['Social_Circle_Default'].value_counts(normalize=True).sort_values(ascending=False)"
   ]
  },
  {
   "cell_type": "code",
   "execution_count": 546,
   "metadata": {},
   "outputs": [
    {
     "data": {
      "text/plain": [
       "count    59928.000000\n",
       "mean         0.117428\n",
       "std          0.107974\n",
       "min          0.000000\n",
       "25%          0.057700\n",
       "50%          0.088700\n",
       "75%          0.148500\n",
       "max          1.000000\n",
       "Name: Social_Circle_Default, dtype: float64"
      ]
     },
     "execution_count": 546,
     "metadata": {},
     "output_type": "execute_result"
    }
   ],
   "source": [
    "default['Social_Circle_Default'].describe()\n"
   ]
  },
  {
   "cell_type": "code",
   "execution_count": 547,
   "metadata": {},
   "outputs": [],
   "source": [
    "default.loc[default['Social_Circle_Default'].isnull(),'Social_Circle_Default']=0.088700"
   ]
  },
  {
   "cell_type": "code",
   "execution_count": 105,
   "metadata": {},
   "outputs": [],
   "source": [
    "default.drop([\"Own_House_Age\",'Social_Circle_Default','Score_Source_1'],axis=1,inplace=True)"
   ]
  },
  {
   "cell_type": "code",
   "execution_count": 106,
   "metadata": {},
   "outputs": [
    {
     "data": {
      "text/plain": [
       "ID                            0\n",
       "Client_Income                 0\n",
       "Car_Owned                     0\n",
       "Bike_Owned                    0\n",
       "Active_Loan                   0\n",
       "House_Own                     0\n",
       "Child_Count                   0\n",
       "Credit_Amount                 0\n",
       "Loan_Annuity                  0\n",
       "Accompany_Client              0\n",
       "Client_Income_Type            0\n",
       "Client_Education              0\n",
       "Client_Marital_Status         0\n",
       "Client_Gender                 0\n",
       "Loan_Contract_Type            0\n",
       "Client_Housing_Type           0\n",
       "Population_Region_Relative    0\n",
       "Age_Days                      0\n",
       "Employed_Days                 0\n",
       "Registration_Days             0\n",
       "ID_Days                       0\n",
       "Mobile_Tag                    0\n",
       "Homephone_Tag                 0\n",
       "Workphone_Working             0\n",
       "Client_Occupation             0\n",
       "Client_Family_Members         0\n",
       "Cleint_City_Rating            0\n",
       "Application_Process_Day       0\n",
       "Application_Process_Hour      0\n",
       "Client_Permanent_Match_Tag    0\n",
       "Client_Contact_Work_Tag       0\n",
       "Type_Organization             0\n",
       "Score_Source_2                0\n",
       "Score_Source_3                0\n",
       "Phone_Change                  0\n",
       "Credit_Bureau                 0\n",
       "Default                       0\n",
       "dtype: int64"
      ]
     },
     "execution_count": 106,
     "metadata": {},
     "output_type": "execute_result"
    }
   ],
   "source": [
    "default.isnull().sum()"
   ]
  },
  {
   "cell_type": "code",
   "execution_count": 107,
   "metadata": {},
   "outputs": [
    {
     "name": "stdout",
     "output_type": "stream",
     "text": [
      "Number of duplicate rows = 0\n"
     ]
    },
    {
     "data": {
      "text/html": [
       "<div>\n",
       "<style scoped>\n",
       "    .dataframe tbody tr th:only-of-type {\n",
       "        vertical-align: middle;\n",
       "    }\n",
       "\n",
       "    .dataframe tbody tr th {\n",
       "        vertical-align: top;\n",
       "    }\n",
       "\n",
       "    .dataframe thead th {\n",
       "        text-align: right;\n",
       "    }\n",
       "</style>\n",
       "<table border=\"1\" class=\"dataframe\">\n",
       "  <thead>\n",
       "    <tr style=\"text-align: right;\">\n",
       "      <th></th>\n",
       "      <th>ID</th>\n",
       "      <th>Client_Income</th>\n",
       "      <th>Car_Owned</th>\n",
       "      <th>Bike_Owned</th>\n",
       "      <th>Active_Loan</th>\n",
       "      <th>House_Own</th>\n",
       "      <th>Child_Count</th>\n",
       "      <th>Credit_Amount</th>\n",
       "      <th>Loan_Annuity</th>\n",
       "      <th>Accompany_Client</th>\n",
       "      <th>...</th>\n",
       "      <th>Application_Process_Day</th>\n",
       "      <th>Application_Process_Hour</th>\n",
       "      <th>Client_Permanent_Match_Tag</th>\n",
       "      <th>Client_Contact_Work_Tag</th>\n",
       "      <th>Type_Organization</th>\n",
       "      <th>Score_Source_2</th>\n",
       "      <th>Score_Source_3</th>\n",
       "      <th>Phone_Change</th>\n",
       "      <th>Credit_Bureau</th>\n",
       "      <th>Default</th>\n",
       "    </tr>\n",
       "  </thead>\n",
       "  <tbody>\n",
       "  </tbody>\n",
       "</table>\n",
       "<p>0 rows × 37 columns</p>\n",
       "</div>"
      ],
      "text/plain": [
       "Empty DataFrame\n",
       "Columns: [ID, Client_Income, Car_Owned, Bike_Owned, Active_Loan, House_Own, Child_Count, Credit_Amount, Loan_Annuity, Accompany_Client, Client_Income_Type, Client_Education, Client_Marital_Status, Client_Gender, Loan_Contract_Type, Client_Housing_Type, Population_Region_Relative, Age_Days, Employed_Days, Registration_Days, ID_Days, Mobile_Tag, Homephone_Tag, Workphone_Working, Client_Occupation, Client_Family_Members, Cleint_City_Rating, Application_Process_Day, Application_Process_Hour, Client_Permanent_Match_Tag, Client_Contact_Work_Tag, Type_Organization, Score_Source_2, Score_Source_3, Phone_Change, Credit_Bureau, Default]\n",
       "Index: []\n",
       "\n",
       "[0 rows x 37 columns]"
      ]
     },
     "execution_count": 107,
     "metadata": {},
     "output_type": "execute_result"
    }
   ],
   "source": [
    "duplicate=default.duplicated()\n",
    "print('Number of duplicate rows = %d' % (duplicate.sum()))\n",
    "default[duplicate]"
   ]
  },
  {
   "cell_type": "code",
   "execution_count": 108,
   "metadata": {},
   "outputs": [
    {
     "data": {
      "text/plain": [
       "0    0.919208\n",
       "1    0.080792\n",
       "Name: Default, dtype: float64"
      ]
     },
     "execution_count": 108,
     "metadata": {},
     "output_type": "execute_result"
    }
   ],
   "source": [
    "default['Default'].value_counts(normalize=True)"
   ]
  },
  {
   "cell_type": "code",
   "execution_count": 109,
   "metadata": {},
   "outputs": [],
   "source": [
    "for i in default.columns:\n",
    "    if default[i].dtype == 'object': \n",
    "        default[i] = pd.Categorical(default[i]).codes"
   ]
  },
  {
   "cell_type": "code",
   "execution_count": 110,
   "metadata": {},
   "outputs": [],
   "source": [
    "X=default.drop(['Default','ID'],axis=1)\n",
    "Y=default['Default']"
   ]
  },
  {
   "cell_type": "code",
   "execution_count": 111,
   "metadata": {},
   "outputs": [],
   "source": [
    "from sklearn.model_selection import train_test_split\n",
    "X_train, X_test, Y_train, Y_test = train_test_split(X, Y, test_size=.30, random_state=1)"
   ]
  },
  {
   "cell_type": "code",
   "execution_count": 114,
   "metadata": {},
   "outputs": [],
   "source": [
    "from sklearn.ensemble import RandomForestClassifier\n",
    "rfcl = RandomForestClassifier()"
   ]
  },
  {
   "cell_type": "code",
   "execution_count": 127,
   "metadata": {},
   "outputs": [
    {
     "data": {
      "text/plain": [
       "{'max_depth': 20,\n",
       " 'max_features': 20,\n",
       " 'min_samples_leaf': 1000,\n",
       " 'min_samples_split': 3000,\n",
       " 'n_estimators': 501}"
      ]
     },
     "execution_count": 127,
     "metadata": {},
     "output_type": "execute_result"
    }
   ],
   "source": [
    "from sklearn.model_selection import GridSearchCV\n",
    "\n",
    "param_grid = {\n",
    "    'max_depth': [20],\n",
    "    'max_features': [20],\n",
    "    'min_samples_leaf': [1000],\n",
    "    'min_samples_split': [3000],\n",
    "    'n_estimators': [501]\n",
    "}\n",
    "\n",
    "rfcl = RandomForestClassifier(random_state=1)\n",
    "\n",
    "grid_search_rf = GridSearchCV(estimator = rfcl, param_grid = param_grid, cv = 10)\n",
    "grid_search_rf.fit(X_train, Y_train)\n",
    "grid_search_rf.best_params_"
   ]
  },
  {
   "cell_type": "code",
   "execution_count": 123,
   "metadata": {},
   "outputs": [],
   "source": [
    "best_grid_rf = grid_search_rf.best_estimator_"
   ]
  },
  {
   "cell_type": "code",
   "execution_count": 124,
   "metadata": {},
   "outputs": [],
   "source": [
    "ytrain_predict_rf = best_grid_rf.predict(X_train)\n",
    "ytest_predict_rf = best_grid_rf.predict(X_test)"
   ]
  },
  {
   "cell_type": "code",
   "execution_count": 125,
   "metadata": {},
   "outputs": [
    {
     "data": {
      "text/plain": [
       "array([[78448,     0],\n",
       "       [ 6851,     0]], dtype=int64)"
      ]
     },
     "execution_count": 125,
     "metadata": {},
     "output_type": "execute_result"
    }
   ],
   "source": [
    "from sklearn.metrics import confusion_matrix,classification_report\n",
    "confusion_matrix(Y_train,ytrain_predict_rf)"
   ]
  },
  {
   "cell_type": "code",
   "execution_count": 126,
   "metadata": {},
   "outputs": [
    {
     "name": "stdout",
     "output_type": "stream",
     "text": [
      "              precision    recall  f1-score   support\n",
      "\n",
      "           0       0.92      1.00      0.96     33563\n",
      "           1       0.00      0.00      0.00      2994\n",
      "\n",
      "    accuracy                           0.92     36557\n",
      "   macro avg       0.46      0.50      0.48     36557\n",
      "weighted avg       0.84      0.92      0.88     36557\n",
      "\n"
     ]
    },
    {
     "name": "stderr",
     "output_type": "stream",
     "text": [
      "D:\\anaconda\\lib\\site-packages\\sklearn\\metrics\\_classification.py:1272: UndefinedMetricWarning: Precision and F-score are ill-defined and being set to 0.0 in labels with no predicted samples. Use `zero_division` parameter to control this behavior.\n",
      "  _warn_prf(average, modifier, msg_start, len(result))\n"
     ]
    }
   ],
   "source": [
    "print(classification_report(Y_test,ytest_predict_rf))"
   ]
  },
  {
   "cell_type": "code",
   "execution_count": 112,
   "metadata": {},
   "outputs": [],
   "source": [
    "from sklearn.preprocessing import StandardScaler"
   ]
  },
  {
   "cell_type": "code",
   "execution_count": 113,
   "metadata": {},
   "outputs": [],
   "source": [
    "ss = StandardScaler()"
   ]
  },
  {
   "cell_type": "code",
   "execution_count": 557,
   "metadata": {},
   "outputs": [
    {
     "data": {
      "text/html": [
       "<div>\n",
       "<style scoped>\n",
       "    .dataframe tbody tr th:only-of-type {\n",
       "        vertical-align: middle;\n",
       "    }\n",
       "\n",
       "    .dataframe tbody tr th {\n",
       "        vertical-align: top;\n",
       "    }\n",
       "\n",
       "    .dataframe thead th {\n",
       "        text-align: right;\n",
       "    }\n",
       "</style>\n",
       "<table border=\"1\" class=\"dataframe\">\n",
       "  <thead>\n",
       "    <tr style=\"text-align: right;\">\n",
       "      <th></th>\n",
       "      <th>Client_Income</th>\n",
       "      <th>Car_Owned</th>\n",
       "      <th>Bike_Owned</th>\n",
       "      <th>Active_Loan</th>\n",
       "      <th>House_Own</th>\n",
       "      <th>Child_Count</th>\n",
       "      <th>Credit_Amount</th>\n",
       "      <th>Loan_Annuity</th>\n",
       "      <th>Accompany_Client</th>\n",
       "      <th>Client_Income_Type</th>\n",
       "      <th>...</th>\n",
       "      <th>Application_Process_Hour</th>\n",
       "      <th>Client_Permanent_Match_Tag</th>\n",
       "      <th>Client_Contact_Work_Tag</th>\n",
       "      <th>Type_Organization</th>\n",
       "      <th>Score_Source_1</th>\n",
       "      <th>Score_Source_2</th>\n",
       "      <th>Score_Source_3</th>\n",
       "      <th>Social_Circle_Default</th>\n",
       "      <th>Phone_Change</th>\n",
       "      <th>Credit_Bureau</th>\n",
       "    </tr>\n",
       "  </thead>\n",
       "  <tbody>\n",
       "    <tr>\n",
       "      <th>0</th>\n",
       "      <td>-0.275720</td>\n",
       "      <td>-0.707741</td>\n",
       "      <td>-0.69055</td>\n",
       "      <td>-0.968616</td>\n",
       "      <td>0.651938</td>\n",
       "      <td>-0.563192</td>\n",
       "      <td>0.397787</td>\n",
       "      <td>0.206111</td>\n",
       "      <td>-0.467963</td>\n",
       "      <td>0.172615</td>\n",
       "      <td>...</td>\n",
       "      <td>-0.329135</td>\n",
       "      <td>0.286562</td>\n",
       "      <td>0.468562</td>\n",
       "      <td>-0.845134</td>\n",
       "      <td>0.010769</td>\n",
       "      <td>0.313235</td>\n",
       "      <td>-0.195197</td>\n",
       "      <td>-0.184225</td>\n",
       "      <td>-0.816129</td>\n",
       "      <td>-1.006531</td>\n",
       "    </tr>\n",
       "    <tr>\n",
       "      <th>1</th>\n",
       "      <td>1.588680</td>\n",
       "      <td>1.412946</td>\n",
       "      <td>-0.69055</td>\n",
       "      <td>1.032401</td>\n",
       "      <td>0.651938</td>\n",
       "      <td>0.826444</td>\n",
       "      <td>-0.350755</td>\n",
       "      <td>0.254092</td>\n",
       "      <td>-0.467963</td>\n",
       "      <td>-1.628986</td>\n",
       "      <td>...</td>\n",
       "      <td>1.840870</td>\n",
       "      <td>-3.489651</td>\n",
       "      <td>0.468562</td>\n",
       "      <td>-0.729685</td>\n",
       "      <td>0.010769</td>\n",
       "      <td>0.251631</td>\n",
       "      <td>-0.750092</td>\n",
       "      <td>-1.113302</td>\n",
       "      <td>-0.613895</td>\n",
       "      <td>-0.433244</td>\n",
       "    </tr>\n",
       "    <tr>\n",
       "      <th>2</th>\n",
       "      <td>0.470040</td>\n",
       "      <td>-0.707741</td>\n",
       "      <td>-0.69055</td>\n",
       "      <td>1.032401</td>\n",
       "      <td>0.651938</td>\n",
       "      <td>-0.563192</td>\n",
       "      <td>2.153183</td>\n",
       "      <td>1.970753</td>\n",
       "      <td>-0.467963</td>\n",
       "      <td>0.773149</td>\n",
       "      <td>...</td>\n",
       "      <td>-1.259138</td>\n",
       "      <td>0.286562</td>\n",
       "      <td>0.468562</td>\n",
       "      <td>-0.845134</td>\n",
       "      <td>0.010769</td>\n",
       "      <td>0.013378</td>\n",
       "      <td>0.118928</td>\n",
       "      <td>0.663783</td>\n",
       "      <td>-0.171431</td>\n",
       "      <td>-0.433244</td>\n",
       "    </tr>\n",
       "    <tr>\n",
       "      <th>3</th>\n",
       "      <td>-0.126568</td>\n",
       "      <td>-0.707741</td>\n",
       "      <td>-0.69055</td>\n",
       "      <td>1.032401</td>\n",
       "      <td>0.651938</td>\n",
       "      <td>-0.563192</td>\n",
       "      <td>-1.043661</td>\n",
       "      <td>-0.706473</td>\n",
       "      <td>-0.467963</td>\n",
       "      <td>0.773149</td>\n",
       "      <td>...</td>\n",
       "      <td>0.290866</td>\n",
       "      <td>0.286562</td>\n",
       "      <td>-2.134190</td>\n",
       "      <td>0.771143</td>\n",
       "      <td>-0.203081</td>\n",
       "      <td>0.212380</td>\n",
       "      <td>-0.517306</td>\n",
       "      <td>-0.184225</td>\n",
       "      <td>-0.528099</td>\n",
       "      <td>0.140044</td>\n",
       "    </tr>\n",
       "    <tr>\n",
       "      <th>4</th>\n",
       "      <td>-0.574024</td>\n",
       "      <td>-0.707741</td>\n",
       "      <td>-0.69055</td>\n",
       "      <td>1.032401</td>\n",
       "      <td>0.651938</td>\n",
       "      <td>2.216080</td>\n",
       "      <td>-0.110231</td>\n",
       "      <td>-0.024387</td>\n",
       "      <td>-0.467963</td>\n",
       "      <td>0.773149</td>\n",
       "      <td>...</td>\n",
       "      <td>-2.189140</td>\n",
       "      <td>0.286562</td>\n",
       "      <td>0.468562</td>\n",
       "      <td>2.041075</td>\n",
       "      <td>0.010769</td>\n",
       "      <td>-0.525935</td>\n",
       "      <td>-2.109770</td>\n",
       "      <td>-0.848219</td>\n",
       "      <td>-0.960758</td>\n",
       "      <td>-1.006531</td>\n",
       "    </tr>\n",
       "  </tbody>\n",
       "</table>\n",
       "<p>5 rows × 37 columns</p>\n",
       "</div>"
      ],
      "text/plain": [
       "   Client_Income  Car_Owned  Bike_Owned  Active_Loan  House_Own  Child_Count  \\\n",
       "0      -0.275720  -0.707741    -0.69055    -0.968616   0.651938    -0.563192   \n",
       "1       1.588680   1.412946    -0.69055     1.032401   0.651938     0.826444   \n",
       "2       0.470040  -0.707741    -0.69055     1.032401   0.651938    -0.563192   \n",
       "3      -0.126568  -0.707741    -0.69055     1.032401   0.651938    -0.563192   \n",
       "4      -0.574024  -0.707741    -0.69055     1.032401   0.651938     2.216080   \n",
       "\n",
       "   Credit_Amount  Loan_Annuity  Accompany_Client  Client_Income_Type  ...  \\\n",
       "0       0.397787      0.206111         -0.467963            0.172615  ...   \n",
       "1      -0.350755      0.254092         -0.467963           -1.628986  ...   \n",
       "2       2.153183      1.970753         -0.467963            0.773149  ...   \n",
       "3      -1.043661     -0.706473         -0.467963            0.773149  ...   \n",
       "4      -0.110231     -0.024387         -0.467963            0.773149  ...   \n",
       "\n",
       "   Application_Process_Hour  Client_Permanent_Match_Tag  \\\n",
       "0                 -0.329135                    0.286562   \n",
       "1                  1.840870                   -3.489651   \n",
       "2                 -1.259138                    0.286562   \n",
       "3                  0.290866                    0.286562   \n",
       "4                 -2.189140                    0.286562   \n",
       "\n",
       "   Client_Contact_Work_Tag  Type_Organization  Score_Source_1  Score_Source_2  \\\n",
       "0                 0.468562          -0.845134        0.010769        0.313235   \n",
       "1                 0.468562          -0.729685        0.010769        0.251631   \n",
       "2                 0.468562          -0.845134        0.010769        0.013378   \n",
       "3                -2.134190           0.771143       -0.203081        0.212380   \n",
       "4                 0.468562           2.041075        0.010769       -0.525935   \n",
       "\n",
       "   Score_Source_3  Social_Circle_Default  Phone_Change  Credit_Bureau  \n",
       "0       -0.195197              -0.184225     -0.816129      -1.006531  \n",
       "1       -0.750092              -1.113302     -0.613895      -0.433244  \n",
       "2        0.118928               0.663783     -0.171431      -0.433244  \n",
       "3       -0.517306              -0.184225     -0.528099       0.140044  \n",
       "4       -2.109770              -0.848219     -0.960758      -1.006531  \n",
       "\n",
       "[5 rows x 37 columns]"
      ]
     },
     "execution_count": 557,
     "metadata": {},
     "output_type": "execute_result"
    }
   ],
   "source": [
    "X_train_scaled = pd.DataFrame(ss.fit_transform(X_train),columns=X_train.columns)\n",
    "X_train_scaled.head()"
   ]
  },
  {
   "cell_type": "code",
   "execution_count": 558,
   "metadata": {},
   "outputs": [
    {
     "data": {
      "text/html": [
       "<div>\n",
       "<style scoped>\n",
       "    .dataframe tbody tr th:only-of-type {\n",
       "        vertical-align: middle;\n",
       "    }\n",
       "\n",
       "    .dataframe tbody tr th {\n",
       "        vertical-align: top;\n",
       "    }\n",
       "\n",
       "    .dataframe thead th {\n",
       "        text-align: right;\n",
       "    }\n",
       "</style>\n",
       "<table border=\"1\" class=\"dataframe\">\n",
       "  <thead>\n",
       "    <tr style=\"text-align: right;\">\n",
       "      <th></th>\n",
       "      <th>Client_Income</th>\n",
       "      <th>Car_Owned</th>\n",
       "      <th>Bike_Owned</th>\n",
       "      <th>Active_Loan</th>\n",
       "      <th>House_Own</th>\n",
       "      <th>Child_Count</th>\n",
       "      <th>Credit_Amount</th>\n",
       "      <th>Loan_Annuity</th>\n",
       "      <th>Accompany_Client</th>\n",
       "      <th>Client_Income_Type</th>\n",
       "      <th>...</th>\n",
       "      <th>Application_Process_Hour</th>\n",
       "      <th>Client_Permanent_Match_Tag</th>\n",
       "      <th>Client_Contact_Work_Tag</th>\n",
       "      <th>Type_Organization</th>\n",
       "      <th>Score_Source_1</th>\n",
       "      <th>Score_Source_2</th>\n",
       "      <th>Score_Source_3</th>\n",
       "      <th>Social_Circle_Default</th>\n",
       "      <th>Phone_Change</th>\n",
       "      <th>Credit_Bureau</th>\n",
       "    </tr>\n",
       "  </thead>\n",
       "  <tbody>\n",
       "    <tr>\n",
       "      <th>0</th>\n",
       "      <td>-0.08928</td>\n",
       "      <td>1.412946</td>\n",
       "      <td>1.44812</td>\n",
       "      <td>-0.968616</td>\n",
       "      <td>0.651938</td>\n",
       "      <td>-0.563192</td>\n",
       "      <td>1.508749</td>\n",
       "      <td>0.555151</td>\n",
       "      <td>2.312145</td>\n",
       "      <td>0.773149</td>\n",
       "      <td>...</td>\n",
       "      <td>-0.019135</td>\n",
       "      <td>0.286562</td>\n",
       "      <td>-2.134190</td>\n",
       "      <td>-0.845134</td>\n",
       "      <td>2.476838</td>\n",
       "      <td>0.312339</td>\n",
       "      <td>-0.289319</td>\n",
       "      <td>-0.184225</td>\n",
       "      <td>0.757622</td>\n",
       "      <td>-0.433244</td>\n",
       "    </tr>\n",
       "    <tr>\n",
       "      <th>1</th>\n",
       "      <td>0.09716</td>\n",
       "      <td>-0.707741</td>\n",
       "      <td>-0.69055</td>\n",
       "      <td>1.032401</td>\n",
       "      <td>-1.533889</td>\n",
       "      <td>-0.563192</td>\n",
       "      <td>-0.372096</td>\n",
       "      <td>-0.188715</td>\n",
       "      <td>-0.467963</td>\n",
       "      <td>-1.628986</td>\n",
       "      <td>...</td>\n",
       "      <td>1.530870</td>\n",
       "      <td>0.286562</td>\n",
       "      <td>0.468562</td>\n",
       "      <td>-0.960582</td>\n",
       "      <td>0.848299</td>\n",
       "      <td>-0.192292</td>\n",
       "      <td>0.024886</td>\n",
       "      <td>-0.184225</td>\n",
       "      <td>-0.480298</td>\n",
       "      <td>-0.433244</td>\n",
       "    </tr>\n",
       "    <tr>\n",
       "      <th>2</th>\n",
       "      <td>0.84292</td>\n",
       "      <td>-0.707741</td>\n",
       "      <td>-0.69055</td>\n",
       "      <td>-0.968616</td>\n",
       "      <td>0.651938</td>\n",
       "      <td>-0.563192</td>\n",
       "      <td>0.285404</td>\n",
       "      <td>3.987218</td>\n",
       "      <td>-0.467963</td>\n",
       "      <td>0.773149</td>\n",
       "      <td>...</td>\n",
       "      <td>-0.329135</td>\n",
       "      <td>-3.489651</td>\n",
       "      <td>0.468562</td>\n",
       "      <td>0.771143</td>\n",
       "      <td>0.010769</td>\n",
       "      <td>0.208699</td>\n",
       "      <td>0.438210</td>\n",
       "      <td>-0.184225</td>\n",
       "      <td>-0.376116</td>\n",
       "      <td>0.140044</td>\n",
       "    </tr>\n",
       "    <tr>\n",
       "      <th>3</th>\n",
       "      <td>0.09716</td>\n",
       "      <td>1.412946</td>\n",
       "      <td>1.44812</td>\n",
       "      <td>-0.968616</td>\n",
       "      <td>0.651938</td>\n",
       "      <td>-0.563192</td>\n",
       "      <td>1.342035</td>\n",
       "      <td>0.411521</td>\n",
       "      <td>-0.467963</td>\n",
       "      <td>0.773149</td>\n",
       "      <td>...</td>\n",
       "      <td>0.910868</td>\n",
       "      <td>0.286562</td>\n",
       "      <td>0.468562</td>\n",
       "      <td>0.367074</td>\n",
       "      <td>-1.906046</td>\n",
       "      <td>0.221086</td>\n",
       "      <td>0.191770</td>\n",
       "      <td>-1.007783</td>\n",
       "      <td>1.350843</td>\n",
       "      <td>-1.006531</td>\n",
       "    </tr>\n",
       "    <tr>\n",
       "      <th>4</th>\n",
       "      <td>-0.83504</td>\n",
       "      <td>-0.707741</td>\n",
       "      <td>-0.69055</td>\n",
       "      <td>1.032401</td>\n",
       "      <td>0.651938</td>\n",
       "      <td>-0.563192</td>\n",
       "      <td>-0.842098</td>\n",
       "      <td>-0.825955</td>\n",
       "      <td>-0.467963</td>\n",
       "      <td>0.172615</td>\n",
       "      <td>...</td>\n",
       "      <td>0.910868</td>\n",
       "      <td>0.286562</td>\n",
       "      <td>0.468562</td>\n",
       "      <td>-0.845134</td>\n",
       "      <td>0.010769</td>\n",
       "      <td>0.073104</td>\n",
       "      <td>0.118928</td>\n",
       "      <td>0.585288</td>\n",
       "      <td>-0.716851</td>\n",
       "      <td>-1.006531</td>\n",
       "    </tr>\n",
       "  </tbody>\n",
       "</table>\n",
       "<p>5 rows × 37 columns</p>\n",
       "</div>"
      ],
      "text/plain": [
       "   Client_Income  Car_Owned  Bike_Owned  Active_Loan  House_Own  Child_Count  \\\n",
       "0       -0.08928   1.412946     1.44812    -0.968616   0.651938    -0.563192   \n",
       "1        0.09716  -0.707741    -0.69055     1.032401  -1.533889    -0.563192   \n",
       "2        0.84292  -0.707741    -0.69055    -0.968616   0.651938    -0.563192   \n",
       "3        0.09716   1.412946     1.44812    -0.968616   0.651938    -0.563192   \n",
       "4       -0.83504  -0.707741    -0.69055     1.032401   0.651938    -0.563192   \n",
       "\n",
       "   Credit_Amount  Loan_Annuity  Accompany_Client  Client_Income_Type  ...  \\\n",
       "0       1.508749      0.555151          2.312145            0.773149  ...   \n",
       "1      -0.372096     -0.188715         -0.467963           -1.628986  ...   \n",
       "2       0.285404      3.987218         -0.467963            0.773149  ...   \n",
       "3       1.342035      0.411521         -0.467963            0.773149  ...   \n",
       "4      -0.842098     -0.825955         -0.467963            0.172615  ...   \n",
       "\n",
       "   Application_Process_Hour  Client_Permanent_Match_Tag  \\\n",
       "0                 -0.019135                    0.286562   \n",
       "1                  1.530870                    0.286562   \n",
       "2                 -0.329135                   -3.489651   \n",
       "3                  0.910868                    0.286562   \n",
       "4                  0.910868                    0.286562   \n",
       "\n",
       "   Client_Contact_Work_Tag  Type_Organization  Score_Source_1  Score_Source_2  \\\n",
       "0                -2.134190          -0.845134        2.476838        0.312339   \n",
       "1                 0.468562          -0.960582        0.848299       -0.192292   \n",
       "2                 0.468562           0.771143        0.010769        0.208699   \n",
       "3                 0.468562           0.367074       -1.906046        0.221086   \n",
       "4                 0.468562          -0.845134        0.010769        0.073104   \n",
       "\n",
       "   Score_Source_3  Social_Circle_Default  Phone_Change  Credit_Bureau  \n",
       "0       -0.289319              -0.184225      0.757622      -0.433244  \n",
       "1        0.024886              -0.184225     -0.480298      -0.433244  \n",
       "2        0.438210              -0.184225     -0.376116       0.140044  \n",
       "3        0.191770              -1.007783      1.350843      -1.006531  \n",
       "4        0.118928               0.585288     -0.716851      -1.006531  \n",
       "\n",
       "[5 rows x 37 columns]"
      ]
     },
     "execution_count": 558,
     "metadata": {},
     "output_type": "execute_result"
    }
   ],
   "source": [
    "X_test_scaled = pd.DataFrame(ss.transform(X_test),columns=X_test.columns)\n",
    "X_test_scaled.head()"
   ]
  },
  {
   "cell_type": "code",
   "execution_count": 559,
   "metadata": {},
   "outputs": [],
   "source": [
    "from sklearn.neural_network import MLPClassifier"
   ]
  },
  {
   "cell_type": "code",
   "execution_count": 560,
   "metadata": {},
   "outputs": [],
   "source": [
    "from sklearn.model_selection import GridSearchCV"
   ]
  },
  {
   "cell_type": "code",
   "execution_count": 561,
   "metadata": {},
   "outputs": [],
   "source": [
    "param_grid = {\n",
    "    'hidden_layer_sizes': [500],\n",
    "    'activation': ['logistic'],\n",
    "    'learning_rate': ['adaptive'],\n",
    "    'tol': [0.0001]\n",
    "}"
   ]
  },
  {
   "cell_type": "code",
   "execution_count": 562,
   "metadata": {},
   "outputs": [],
   "source": [
    "nncl = MLPClassifier(random_state=1,max_iter=5000)"
   ]
  },
  {
   "cell_type": "code",
   "execution_count": 563,
   "metadata": {},
   "outputs": [],
   "source": [
    "grid_search_ann = GridSearchCV(estimator = nncl, param_grid = param_grid,cv=10,n_jobs=-1)"
   ]
  },
  {
   "cell_type": "code",
   "execution_count": 564,
   "metadata": {},
   "outputs": [
    {
     "data": {
      "text/plain": [
       "GridSearchCV(cv=10, error_score=nan,\n",
       "             estimator=MLPClassifier(activation='relu', alpha=0.0001,\n",
       "                                     batch_size='auto', beta_1=0.9,\n",
       "                                     beta_2=0.999, early_stopping=False,\n",
       "                                     epsilon=1e-08, hidden_layer_sizes=(100,),\n",
       "                                     learning_rate='constant',\n",
       "                                     learning_rate_init=0.001, max_fun=15000,\n",
       "                                     max_iter=5000, momentum=0.9,\n",
       "                                     n_iter_no_change=10,\n",
       "                                     nesterovs_momentum=True, power_t=0.5,\n",
       "                                     random_state=1, shuffle=True,\n",
       "                                     solver='adam', tol=0.0001,\n",
       "                                     validation_fraction=0.1, verbose=False,\n",
       "                                     warm_start=False),\n",
       "             iid='deprecated', n_jobs=-1,\n",
       "             param_grid={'activation': ['logistic'],\n",
       "                         'hidden_layer_sizes': [500],\n",
       "                         'learning_rate': ['adaptive'], 'tol': [0.0001]},\n",
       "             pre_dispatch='2*n_jobs', refit=True, return_train_score=False,\n",
       "             scoring=None, verbose=0)"
      ]
     },
     "execution_count": 564,
     "metadata": {},
     "output_type": "execute_result"
    }
   ],
   "source": [
    "grid_search_ann.fit(X_train_scaled, Y_train)"
   ]
  },
  {
   "cell_type": "code",
   "execution_count": 565,
   "metadata": {},
   "outputs": [
    {
     "data": {
      "text/plain": [
       "{'activation': 'logistic',\n",
       " 'hidden_layer_sizes': 500,\n",
       " 'learning_rate': 'adaptive',\n",
       " 'tol': 0.0001}"
      ]
     },
     "execution_count": 565,
     "metadata": {},
     "output_type": "execute_result"
    }
   ],
   "source": [
    "grid_search_ann.best_params_"
   ]
  },
  {
   "cell_type": "code",
   "execution_count": 566,
   "metadata": {},
   "outputs": [],
   "source": [
    "best_model_ann = grid_search_ann.best_estimator_"
   ]
  },
  {
   "cell_type": "code",
   "execution_count": 567,
   "metadata": {},
   "outputs": [],
   "source": [
    "y_train_predict_ann = grid_search_ann.predict(X_train_scaled)\n",
    "y_train_predict_prob=grid_search_ann.predict_proba(X_train_scaled)"
   ]
  },
  {
   "cell_type": "code",
   "execution_count": 568,
   "metadata": {},
   "outputs": [
    {
     "data": {
      "text/plain": [
       "array([[2.79858606e-01, 7.20141394e-01],\n",
       "       [9.88648200e-01, 1.13518001e-02],\n",
       "       [9.99990965e-01, 9.03532591e-06],\n",
       "       ...,\n",
       "       [8.64168527e-01, 1.35831473e-01],\n",
       "       [1.00000000e+00, 2.38696018e-10],\n",
       "       [9.99999928e-01, 7.18952160e-08]])"
      ]
     },
     "execution_count": 568,
     "metadata": {},
     "output_type": "execute_result"
    }
   ],
   "source": [
    "y_train_predict_prob"
   ]
  },
  {
   "cell_type": "code",
   "execution_count": 569,
   "metadata": {},
   "outputs": [],
   "source": [
    "custom_prob = 0.40 #defining the cut-off value of our choice\n",
    "custom_cutoff_train=[]#defining an empty list\n",
    "for i in range(0,len(y_train_predict_prob[:,1])):#defining a loop\n",
    "    if y_train_predict_prob[:,1][i] > custom_prob:#issuing a condition for our probability values to be \n",
    "        #greater than the custom cutoff value\n",
    "        a=1#if the probability values are greater than the custom cutoff then the value should be 1\n",
    "    else:\n",
    "        a=0#if the probability values are less than the custom cutoff then the value should be 0\n",
    "    custom_cutoff_train.append(a)#adding either 1 or 0 based on the condition to the end of the list\n",
    "    #defined by us"
   ]
  },
  {
   "cell_type": "code",
   "execution_count": 570,
   "metadata": {},
   "outputs": [
    {
     "name": "stdout",
     "output_type": "stream",
     "text": [
      "[[77450   998]\n",
      " [  919  5932]] \n",
      "\n",
      "True Negative: 77450 \n",
      "False Positives: 998 \n",
      "False Negatives: 919 \n",
      "True Positives: 5932 \n",
      "\n",
      "              precision    recall  f1-score   support\n",
      "\n",
      "           0       0.99      0.99      0.99     78448\n",
      "           1       0.86      0.87      0.86      6851\n",
      "\n",
      "    accuracy                           0.98     85299\n",
      "   macro avg       0.92      0.93      0.92     85299\n",
      "weighted avg       0.98      0.98      0.98     85299\n",
      "\n"
     ]
    },
    {
     "data": {
      "image/png": "[encoded data removed]",
      "text/plain": [
       "<Figure size 432x288 with 2 Axes>"
      ]
     },
     "metadata": {
      "needs_background": "light"
     },
     "output_type": "display_data"
    }
   ],
   "source": [
    "import seaborn as sns\n",
    "from sklearn import metrics\n",
    "print(metrics.confusion_matrix(Y_train,custom_cutoff_train),'\\n')\n",
    "sns.heatmap((metrics.confusion_matrix(Y_train,custom_cutoff_train)),annot=True,fmt='.5g',cmap='Greys');\n",
    "tn, fp, fn, tp = metrics.confusion_matrix(Y_train,custom_cutoff_train).ravel()\n",
    "print('True Negative:',tn,'\\n''False Positives:' ,fp,'\\n''False Negatives:'\n",
    "      , fn,'\\n''True Positives:', tp,'\\n')\n",
    "print(metrics.classification_report(Y_train,custom_cutoff_train))"
   ]
  },
  {
   "cell_type": "code",
   "execution_count": 571,
   "metadata": {},
   "outputs": [],
   "source": [
    "y_test_predict_ann = grid_search_ann.predict(X_test_scaled)\n",
    "y_test_predict_prob=grid_search_ann.predict_proba(X_test_scaled)"
   ]
  },
  {
   "cell_type": "code",
   "execution_count": 572,
   "metadata": {},
   "outputs": [],
   "source": [
    "custom_prob = 0.4 #defining the cut-off value of our choice\n",
    "custom_cutoff_train=[]#defining an empty list\n",
    "for i in range(0,len(y_test_predict_prob[:,1])):#defining a loop\n",
    "    if y_test_predict_prob[:,1][i] > custom_prob:#issuing a condition for our probability values to be \n",
    "        #greater than the custom cutoff value\n",
    "        a=1#if the probability values are greater than the custom cutoff then the value should be 1\n",
    "    else:\n",
    "        a=0#if the probability values are less than the custom cutoff then the value should be 0\n",
    "    custom_cutoff_train.append(a)#adding either 1 or 0 based on the condition to the end of the list\n",
    "    #defined by us"
   ]
  },
  {
   "cell_type": "code",
   "execution_count": 573,
   "metadata": {},
   "outputs": [
    {
     "name": "stdout",
     "output_type": "stream",
     "text": [
      "[[30548  3015]\n",
      " [ 2264   730]] \n",
      "\n",
      "True Negative: 30548 \n",
      "False Positives: 3015 \n",
      "False Negatives: 2264 \n",
      "True Positives: 730 \n",
      "\n",
      "              precision    recall  f1-score   support\n",
      "\n",
      "           0       0.93      0.91      0.92     33563\n",
      "           1       0.19      0.24      0.22      2994\n",
      "\n",
      "    accuracy                           0.86     36557\n",
      "   macro avg       0.56      0.58      0.57     36557\n",
      "weighted avg       0.87      0.86      0.86     36557\n",
      "\n"
     ]
    },
    {
     "data": {
      "image/png": "[encoded data removed]",
      "text/plain": [
       "<Figure size 432x288 with 2 Axes>"
      ]
     },
     "metadata": {
      "needs_background": "light"
     },
     "output_type": "display_data"
    }
   ],
   "source": [
    "print(metrics.confusion_matrix(Y_test,custom_cutoff_train),'\\n')\n",
    "sns.heatmap((metrics.confusion_matrix(Y_test,custom_cutoff_train)),annot=True,fmt='.5g',cmap='Greys');\n",
    "tn, fp, fn, tp = metrics.confusion_matrix(Y_test,custom_cutoff_train).ravel()\n",
    "print('True Negative:',tn,'\\n''False Positives:' ,fp,'\\n''False Negatives:'\n",
    "      , fn,'\\n''True Positives:', tp,'\\n')\n",
    "print(metrics.classification_report(Y_test,custom_cutoff_train))"
   ]
  },
  {
   "cell_type": "code",
   "execution_count": 574,
   "metadata": {},
   "outputs": [
    {
     "name": "stdout",
     "output_type": "stream",
     "text": [
      "[[77931   517]\n",
      " [ 1297  5554]]\n"
     ]
    }
   ],
   "source": [
    "from sklearn import metrics\n",
    "print(metrics.confusion_matrix(Y_train,y_train_predict_ann))"
   ]
  },
  {
   "cell_type": "code",
   "execution_count": 575,
   "metadata": {},
   "outputs": [
    {
     "name": "stdout",
     "output_type": "stream",
     "text": [
      "              precision    recall  f1-score   support\n",
      "\n",
      "           0       0.98      0.99      0.99     78448\n",
      "           1       0.91      0.81      0.86      6851\n",
      "\n",
      "    accuracy                           0.98     85299\n",
      "   macro avg       0.95      0.90      0.92     85299\n",
      "weighted avg       0.98      0.98      0.98     85299\n",
      "\n"
     ]
    }
   ],
   "source": [
    "print(metrics.classification_report(Y_train,y_train_predict_ann))"
   ]
  },
  {
   "cell_type": "code",
   "execution_count": 576,
   "metadata": {},
   "outputs": [
    {
     "name": "stdout",
     "output_type": "stream",
     "text": [
      "[[30870  2693]\n",
      " [ 2324   670]]\n"
     ]
    }
   ],
   "source": [
    "print(metrics.confusion_matrix(Y_test,y_test_predict_ann))"
   ]
  },
  {
   "cell_type": "code",
   "execution_count": 577,
   "metadata": {},
   "outputs": [
    {
     "name": "stdout",
     "output_type": "stream",
     "text": [
      "              precision    recall  f1-score   support\n",
      "\n",
      "           0       0.93      0.92      0.92     33563\n",
      "           1       0.20      0.22      0.21      2994\n",
      "\n",
      "    accuracy                           0.86     36557\n",
      "   macro avg       0.56      0.57      0.57     36557\n",
      "weighted avg       0.87      0.86      0.87     36557\n",
      "\n"
     ]
    }
   ],
   "source": [
    "print(metrics.classification_report(Y_test,y_test_predict_ann))"
   ]
  },
  {
   "cell_type": "code",
   "execution_count": 578,
   "metadata": {},
   "outputs": [
    {
     "name": "stderr",
     "output_type": "stream",
     "text": [
      "D:\\anaconda\\lib\\site-packages\\IPython\\core\\interactiveshell.py:3063: DtypeWarning: Columns (7,8,16,17,18,19,20,34,35) have mixed types.Specify dtype option on import or set low_memory=False.\n",
      "  interactivity=interactivity, compiler=compiler, result=result)\n"
     ]
    }
   ],
   "source": [
    "test=pd.read_csv(\"Test_Dataset.csv\")"
   ]
  },
  {
   "cell_type": "code",
   "execution_count": 579,
   "metadata": {},
   "outputs": [
    {
     "data": {
      "text/plain": [
       "Own_House_Age                 0.662311\n",
       "Score_Source_1                0.562336\n",
       "Social_Circle_Default         0.507911\n",
       "Client_Occupation             0.344190\n",
       "Score_Source_3                0.222719\n",
       "Credit_Bureau                 0.151817\n",
       "ID_Days                       0.047973\n",
       "Score_Source_2                0.045921\n",
       "Population_Region_Relative    0.040420\n",
       "Loan_Annuity                  0.039592\n",
       "Client_Income_Type            0.030915\n",
       "Bike_Owned                    0.030729\n",
       "Age_Days                      0.030643\n",
       "Type_Organization             0.030396\n",
       "Active_Loan                   0.030334\n",
       "Client_Marital_Status         0.030198\n",
       "Client_Income                 0.030087\n",
       "Phone_Change                  0.029951\n",
       "Employed_Days                 0.029926\n",
       "Client_Housing_Type           0.029765\n",
       "Application_Process_Hour      0.029740\n",
       "Car_Owned                     0.029728\n",
       "Registration_Days             0.029642\n",
       "Client_Education              0.029048\n",
       "House_Own                     0.029011\n",
       "Child_Count                   0.028776\n",
       "Loan_Contract_Type            0.028690\n",
       "Credit_Amount                 0.028269\n",
       "Client_Family_Members         0.020321\n",
       "Cleint_City_Rating            0.020161\n",
       "Client_Gender                 0.020111\n",
       "Application_Process_Day       0.019023\n",
       "Accompany_Client              0.014932\n",
       "Mobile_Tag                    0.000000\n",
       "Homephone_Tag                 0.000000\n",
       "Workphone_Working             0.000000\n",
       "Client_Permanent_Match_Tag    0.000000\n",
       "Client_Contact_Work_Tag       0.000000\n",
       "ID                            0.000000\n",
       "dtype: float64"
      ]
     },
     "execution_count": 579,
     "metadata": {},
     "output_type": "execute_result"
    }
   ],
   "source": [
    "(test.isnull().sum()/test.shape[0]).sort_values(ascending=False)"
   ]
  },
  {
   "cell_type": "code",
   "execution_count": 580,
   "metadata": {},
   "outputs": [
    {
     "data": {
      "text/plain": [
       "Alone       0.812955\n",
       "Relative    0.129862\n",
       "Partner     0.037231\n",
       "Kids        0.010729\n",
       "Others      0.008332\n",
       "Group       0.000841\n",
       "##          0.000050\n",
       "Name: Accompany_Client, dtype: float64"
      ]
     },
     "execution_count": 580,
     "metadata": {},
     "output_type": "execute_result"
    }
   ],
   "source": [
    "test['Accompany_Client'].value_counts(normalize=True)"
   ]
  },
  {
   "cell_type": "code",
   "execution_count": 581,
   "metadata": {},
   "outputs": [],
   "source": [
    "test.loc[test['Accompany_Client'].isnull(),'Accompany_Client']='Alone'"
   ]
  },
  {
   "cell_type": "code",
   "execution_count": 582,
   "metadata": {},
   "outputs": [],
   "source": [
    "test.loc[test['Accompany_Client']=='##','Accompany_Client']='Alone'"
   ]
  },
  {
   "cell_type": "code",
   "execution_count": 583,
   "metadata": {},
   "outputs": [
    {
     "data": {
      "text/plain": [
       "Service        0.516244\n",
       "Commercial     0.232618\n",
       "Retired        0.181112\n",
       "Govt Job       0.069912\n",
       "Unemployed     0.000051\n",
       "Student        0.000038\n",
       "Businessman    0.000026\n",
       "Name: Client_Income_Type, dtype: float64"
      ]
     },
     "execution_count": 583,
     "metadata": {},
     "output_type": "execute_result"
    }
   ],
   "source": [
    "test['Client_Income_Type'].value_counts(normalize=True)"
   ]
  },
  {
   "cell_type": "code",
   "execution_count": 584,
   "metadata": {},
   "outputs": [],
   "source": [
    "test.loc[test['Client_Income_Type'].isnull(),'Client_Income_Type']='Service'"
   ]
  },
  {
   "cell_type": "code",
   "execution_count": 585,
   "metadata": {},
   "outputs": [
    {
     "data": {
      "text/plain": [
       "2.0    0.747253\n",
       "3.0    0.141228\n",
       "1.0    0.111519\n",
       "Name: Cleint_City_Rating, dtype: float64"
      ]
     },
     "execution_count": 585,
     "metadata": {},
     "output_type": "execute_result"
    }
   ],
   "source": [
    "test['Cleint_City_Rating'].value_counts(normalize=True)"
   ]
  },
  {
   "cell_type": "code",
   "execution_count": 586,
   "metadata": {},
   "outputs": [],
   "source": [
    "test.loc[test['Cleint_City_Rating'].isnull(),'Cleint_City_Rating']=2"
   ]
  },
  {
   "cell_type": "code",
   "execution_count": 587,
   "metadata": {},
   "outputs": [
    {
     "data": {
      "text/plain": [
       "2.0     0.513261\n",
       "1.0     0.222292\n",
       "3.0     0.169691\n",
       "4.0     0.080827\n",
       "5.0     0.012113\n",
       "6.0     0.001501\n",
       "7.0     0.000227\n",
       "8.0     0.000063\n",
       "20.0    0.000013\n",
       "14.0    0.000013\n",
       "Name: Client_Family_Members, dtype: float64"
      ]
     },
     "execution_count": 587,
     "metadata": {},
     "output_type": "execute_result"
    }
   ],
   "source": [
    "test['Client_Family_Members'].value_counts(normalize=True)"
   ]
  },
  {
   "cell_type": "code",
   "execution_count": 588,
   "metadata": {},
   "outputs": [],
   "source": [
    "test.loc[test['Client_Family_Members'].isnull(),'Client_Family_Members']=2"
   ]
  },
  {
   "cell_type": "code",
   "execution_count": 589,
   "metadata": {},
   "outputs": [
    {
     "data": {
      "text/plain": [
       "Male      0.657803\n",
       "Female    0.342185\n",
       "XNA       0.000013\n",
       "Name: Client_Gender, dtype: float64"
      ]
     },
     "execution_count": 589,
     "metadata": {},
     "output_type": "execute_result"
    }
   ],
   "source": [
    "test['Client_Gender'].value_counts(normalize=True)"
   ]
  },
  {
   "cell_type": "code",
   "execution_count": 590,
   "metadata": {},
   "outputs": [],
   "source": [
    "test.loc[test['Client_Gender'].isnull(),'Client_Gender']='Male'"
   ]
  },
  {
   "cell_type": "code",
   "execution_count": 591,
   "metadata": {},
   "outputs": [],
   "source": [
    "test.loc[test['Client_Gender']=='XNA','Client_Gender']='Male'"
   ]
  },
  {
   "cell_type": "code",
   "execution_count": 592,
   "metadata": {},
   "outputs": [
    {
     "data": {
      "text/plain": [
       "count    79361.000000\n",
       "mean         3.157722\n",
       "std          1.754763\n",
       "min          0.000000\n",
       "25%          2.000000\n",
       "50%          3.000000\n",
       "75%          5.000000\n",
       "max          6.000000\n",
       "Name: Application_Process_Day, dtype: float64"
      ]
     },
     "execution_count": 592,
     "metadata": {},
     "output_type": "execute_result"
    }
   ],
   "source": [
    "test['Application_Process_Day'].describe()"
   ]
  },
  {
   "cell_type": "code",
   "execution_count": 593,
   "metadata": {},
   "outputs": [],
   "source": [
    "test.loc[test['Application_Process_Day'].isnull(),'Application_Process_Day']=3"
   ]
  },
  {
   "cell_type": "code",
   "execution_count": 594,
   "metadata": {},
   "outputs": [
    {
     "data": {
      "text/plain": [
       "M          0.734224\n",
       "S          0.149598\n",
       "D          0.064252\n",
       "W          0.051914\n",
       "Unknown    0.000013\n",
       "Name: Client_Marital_Status, dtype: float64"
      ]
     },
     "execution_count": 594,
     "metadata": {},
     "output_type": "execute_result"
    }
   ],
   "source": [
    "test['Client_Marital_Status'].value_counts(normalize=True)"
   ]
  },
  {
   "cell_type": "code",
   "execution_count": 595,
   "metadata": {},
   "outputs": [],
   "source": [
    "test.loc[test['Client_Marital_Status'].isnull(),'Client_Marital_Status']='M'"
   ]
  },
  {
   "cell_type": "code",
   "execution_count": 596,
   "metadata": {},
   "outputs": [
    {
     "data": {
      "text/plain": [
       "0.0    0.662119\n",
       "1.0    0.337881\n",
       "Name: Car_Owned, dtype: float64"
      ]
     },
     "execution_count": 596,
     "metadata": {},
     "output_type": "execute_result"
    }
   ],
   "source": [
    "test['Car_Owned'].value_counts(normalize=True)"
   ]
  },
  {
   "cell_type": "code",
   "execution_count": 597,
   "metadata": {},
   "outputs": [],
   "source": [
    "test.loc[test['Car_Owned'].isnull(),'Car_Owned']=0"
   ]
  },
  {
   "cell_type": "code",
   "execution_count": 598,
   "metadata": {},
   "outputs": [
    {
     "data": {
      "text/plain": [
       "count     78421.0\n",
       "unique    29083.0\n",
       "top       14453.0\n",
       "freq         15.0\n",
       "Name: Age_Days, dtype: float64"
      ]
     },
     "execution_count": 598,
     "metadata": {},
     "output_type": "execute_result"
    }
   ],
   "source": [
    "test['Age_Days'].describe()"
   ]
  },
  {
   "cell_type": "code",
   "execution_count": 599,
   "metadata": {},
   "outputs": [
    {
     "data": {
      "text/plain": [
       "14453.0    0.000191\n",
       "12552.0    0.000166\n",
       "12776.0    0.000153\n",
       "14371.0    0.000153\n",
       "20074.0    0.000153\n",
       "             ...   \n",
       "8397.0     0.000013\n",
       "16431      0.000013\n",
       "17379      0.000013\n",
       "10175      0.000013\n",
       "14364.0    0.000013\n",
       "Name: Age_Days, Length: 29083, dtype: float64"
      ]
     },
     "execution_count": 599,
     "metadata": {},
     "output_type": "execute_result"
    }
   ],
   "source": [
    "test['Age_Days'].value_counts(normalize=True).sort_values(ascending=False)"
   ]
  },
  {
   "cell_type": "code",
   "execution_count": 600,
   "metadata": {},
   "outputs": [],
   "source": [
    "test.loc[test['Age_Days']=='x','Age_Days']=np.nan"
   ]
  },
  {
   "cell_type": "code",
   "execution_count": 601,
   "metadata": {},
   "outputs": [],
   "source": [
    "test['Age_Days']=test['Age_Days'].astype('float64')"
   ]
  },
  {
   "cell_type": "code",
   "execution_count": 602,
   "metadata": {},
   "outputs": [
    {
     "data": {
      "text/plain": [
       "count    78416.000000\n",
       "mean     16053.636005\n",
       "std       4365.767969\n",
       "min       7673.000000\n",
       "25%      12433.000000\n",
       "50%      15751.500000\n",
       "75%      19732.000000\n",
       "max      25201.000000\n",
       "Name: Age_Days, dtype: float64"
      ]
     },
     "execution_count": 602,
     "metadata": {},
     "output_type": "execute_result"
    }
   ],
   "source": [
    "test['Age_Days'].describe()"
   ]
  },
  {
   "cell_type": "code",
   "execution_count": 603,
   "metadata": {},
   "outputs": [],
   "source": [
    "# default.loc[default['Age_Days']==0,'Age_Days']=15733"
   ]
  },
  {
   "cell_type": "code",
   "execution_count": 604,
   "metadata": {},
   "outputs": [],
   "source": [
    "test.loc[test['Age_Days'].isnull(),'Age_Days']=15751.5"
   ]
  },
  {
   "cell_type": "code",
   "execution_count": 605,
   "metadata": {},
   "outputs": [
    {
     "data": {
      "text/plain": [
       "count    80900.000000\n",
       "mean     16044.359048\n",
       "std       4298.536097\n",
       "min       7673.000000\n",
       "25%      12552.000000\n",
       "50%      15751.500000\n",
       "75%      19612.000000\n",
       "max      25201.000000\n",
       "Name: Age_Days, dtype: float64"
      ]
     },
     "execution_count": 605,
     "metadata": {},
     "output_type": "execute_result"
    }
   ],
   "source": [
    "test['Age_Days'].describe()"
   ]
  },
  {
   "cell_type": "code",
   "execution_count": 606,
   "metadata": {},
   "outputs": [],
   "source": [
    "default['Age_Days']=default['Age_Days'].astype('int64')"
   ]
  },
  {
   "cell_type": "code",
   "execution_count": 607,
   "metadata": {},
   "outputs": [
    {
     "data": {
      "text/plain": [
       "count     78466\n",
       "unique      983\n",
       "top       13500\n",
       "freq       9237\n",
       "Name: Client_Income, dtype: object"
      ]
     },
     "execution_count": 607,
     "metadata": {},
     "output_type": "execute_result"
    }
   ],
   "source": [
    "test['Client_Income'].describe()"
   ]
  },
  {
   "cell_type": "code",
   "execution_count": 608,
   "metadata": {},
   "outputs": [],
   "source": [
    "test.loc[test['Client_Income']=='$','Client_Income']=np.nan"
   ]
  },
  {
   "cell_type": "code",
   "execution_count": 609,
   "metadata": {},
   "outputs": [],
   "source": [
    "test['Client_Income']=test['Client_Income'].astype('float64')"
   ]
  },
  {
   "cell_type": "code",
   "execution_count": 610,
   "metadata": {},
   "outputs": [
    {
     "data": {
      "text/plain": [
       "count    7.844900e+04\n",
       "mean     1.686641e+04\n",
       "std      1.223295e+04\n",
       "min      2.565000e+03\n",
       "25%      1.125000e+04\n",
       "50%      1.440000e+04\n",
       "75%      2.025000e+04\n",
       "max      1.800009e+06\n",
       "Name: Client_Income, dtype: float64"
      ]
     },
     "execution_count": 610,
     "metadata": {},
     "output_type": "execute_result"
    }
   ],
   "source": [
    "test['Client_Income'].describe()"
   ]
  },
  {
   "cell_type": "code",
   "execution_count": 611,
   "metadata": {},
   "outputs": [],
   "source": [
    "# default.loc[default['Client_Income']==0,'Client_Income']=14400"
   ]
  },
  {
   "cell_type": "code",
   "execution_count": 612,
   "metadata": {},
   "outputs": [],
   "source": [
    "test.loc[test['Client_Income'].isnull(),'Client_Income']=14400"
   ]
  },
  {
   "cell_type": "code",
   "execution_count": 613,
   "metadata": {},
   "outputs": [
    {
     "data": {
      "text/plain": [
       "count    8.090000e+04\n",
       "mean     1.679168e+04\n",
       "std      1.205363e+04\n",
       "min      2.565000e+03\n",
       "25%      1.125000e+04\n",
       "50%      1.440000e+04\n",
       "75%      2.025000e+04\n",
       "max      1.800009e+06\n",
       "Name: Client_Income, dtype: float64"
      ]
     },
     "execution_count": 613,
     "metadata": {},
     "output_type": "execute_result"
    }
   ],
   "source": [
    "test['Client_Income'].describe()"
   ]
  },
  {
   "cell_type": "code",
   "execution_count": 614,
   "metadata": {},
   "outputs": [
    {
     "data": {
      "text/plain": [
       "Business Entity Type 3    0.221810\n",
       "XNA                       0.181041\n",
       "Self-employed             0.123634\n",
       "Other                     0.054143\n",
       "Medicine                  0.036320\n",
       "Business Entity Type 2    0.034077\n",
       "Government                0.033975\n",
       "School                    0.028926\n",
       "Trade: type 7             0.025267\n",
       "Kindergarten              0.022832\n",
       "Construction              0.021239\n",
       "Business Entity Type 1    0.019021\n",
       "Transport: type 4         0.017121\n",
       "Trade: type 3             0.011627\n",
       "Industry: type 3          0.010619\n",
       "Security                  0.010607\n",
       "Industry: type 9          0.010556\n",
       "Housing                   0.009612\n",
       "Industry: type 11         0.008771\n",
       "Military                  0.008580\n",
       "Police                    0.008465\n",
       "Bank                      0.007675\n",
       "Agriculture               0.007675\n",
       "Postal                    0.007471\n",
       "Transport: type 2         0.007381\n",
       "Security Ministries       0.006642\n",
       "Restaurant                0.006183\n",
       "Trade: type 2             0.006170\n",
       "Services                  0.005405\n",
       "University                0.004398\n",
       "Industry: type 7          0.004322\n",
       "Transport: type 3         0.003812\n",
       "Industry: type 4          0.003251\n",
       "Industry: type 1          0.003174\n",
       "Electricity               0.002932\n",
       "Hotel                     0.002817\n",
       "Trade: type 6             0.001951\n",
       "Industry: type 5          0.001900\n",
       "Insurance                 0.001861\n",
       "Telecom                   0.001849\n",
       "Emergency                 0.001836\n",
       "Industry: type 2          0.001555\n",
       "Realtor                   0.001288\n",
       "Mobile                    0.001288\n",
       "Advertising               0.001249\n",
       "Culture                   0.001135\n",
       "Trade: type 1             0.001135\n",
       "Legal Services            0.001122\n",
       "Cleaning                  0.001045\n",
       "Industry: type 12         0.001033\n",
       "Transport: type 1         0.000663\n",
       "Industry: type 6          0.000395\n",
       "Industry: type 10         0.000293\n",
       "Industry: type 13         0.000255\n",
       "Religion                  0.000255\n",
       "Trade: type 5             0.000153\n",
       "Trade: type 4             0.000140\n",
       "Industry: type 8          0.000051\n",
       "Name: Type_Organization, dtype: float64"
      ]
     },
     "execution_count": 614,
     "metadata": {},
     "output_type": "execute_result"
    }
   ],
   "source": [
    "test['Type_Organization'].value_counts(normalize=True).sort_values(ascending=False)"
   ]
  },
  {
   "cell_type": "code",
   "execution_count": 615,
   "metadata": {},
   "outputs": [],
   "source": [
    "test.loc[test['Type_Organization'].isnull(),'Type_Organization']='Business Entity Type 3'"
   ]
  },
  {
   "cell_type": "code",
   "execution_count": 616,
   "metadata": {},
   "outputs": [],
   "source": [
    "test.loc[test['Type_Organization']=='XNA','Type_Organization']='Business Entity Type 3'"
   ]
  },
  {
   "cell_type": "code",
   "execution_count": 617,
   "metadata": {},
   "outputs": [
    {
     "data": {
      "text/plain": [
       "count     78502.0\n",
       "unique    23620.0\n",
       "top           4.0\n",
       "freq         21.0\n",
       "Name: Registration_Days, dtype: float64"
      ]
     },
     "execution_count": 617,
     "metadata": {},
     "output_type": "execute_result"
    }
   ],
   "source": [
    "test['Registration_Days'].describe()"
   ]
  },
  {
   "cell_type": "code",
   "execution_count": 618,
   "metadata": {},
   "outputs": [],
   "source": [
    "test.loc[test['Registration_Days']=='x','Registration_Days']=np.nan"
   ]
  },
  {
   "cell_type": "code",
   "execution_count": 619,
   "metadata": {},
   "outputs": [],
   "source": [
    "test['Registration_Days']=test['Registration_Days'].astype('float64')"
   ]
  },
  {
   "cell_type": "code",
   "execution_count": 620,
   "metadata": {},
   "outputs": [
    {
     "data": {
      "text/plain": [
       "count    78497.000000\n",
       "mean      4988.972190\n",
       "std       3522.573625\n",
       "min          0.000000\n",
       "25%       2016.000000\n",
       "50%       4494.000000\n",
       "75%       7467.000000\n",
       "max      21887.000000\n",
       "Name: Registration_Days, dtype: float64"
      ]
     },
     "execution_count": 620,
     "metadata": {},
     "output_type": "execute_result"
    }
   ],
   "source": [
    "test['Registration_Days'].describe()"
   ]
  },
  {
   "cell_type": "code",
   "execution_count": 621,
   "metadata": {},
   "outputs": [],
   "source": [
    "test.loc[test['Registration_Days'].isnull(),'Registration_Days']=4494"
   ]
  },
  {
   "cell_type": "code",
   "execution_count": 622,
   "metadata": {},
   "outputs": [],
   "source": [
    "test['Registration_Days']=test['Registration_Days'].astype('int64')"
   ]
  },
  {
   "cell_type": "code",
   "execution_count": 623,
   "metadata": {},
   "outputs": [
    {
     "data": {
      "text/plain": [
       "0.0    0.667738\n",
       "1.0    0.332262\n",
       "Name: Bike_Owned, dtype: float64"
      ]
     },
     "execution_count": 623,
     "metadata": {},
     "output_type": "execute_result"
    }
   ],
   "source": [
    "test['Bike_Owned'].value_counts(normalize=True).sort_values(ascending=False)"
   ]
  },
  {
   "cell_type": "code",
   "execution_count": 624,
   "metadata": {},
   "outputs": [],
   "source": [
    "test.loc[test['Bike_Owned'].isnull(),'Bike_Owned']=0"
   ]
  },
  {
   "cell_type": "code",
   "execution_count": 625,
   "metadata": {},
   "outputs": [
    {
     "data": {
      "text/plain": [
       "count     78613\n",
       "unique     6218\n",
       "top       45000\n",
       "freq       1453\n",
       "Name: Credit_Amount, dtype: object"
      ]
     },
     "execution_count": 625,
     "metadata": {},
     "output_type": "execute_result"
    }
   ],
   "source": [
    "test['Credit_Amount'].describe()"
   ]
  },
  {
   "cell_type": "code",
   "execution_count": 626,
   "metadata": {},
   "outputs": [],
   "source": [
    "test.loc[test['Credit_Amount']=='$','Credit_Amount']=np.nan"
   ]
  },
  {
   "cell_type": "code",
   "execution_count": 627,
   "metadata": {},
   "outputs": [],
   "source": [
    "test['Credit_Amount']=test['Credit_Amount'].astype('float64')"
   ]
  },
  {
   "cell_type": "code",
   "execution_count": 628,
   "metadata": {},
   "outputs": [
    {
     "data": {
      "text/plain": [
       "count     78609.000000\n",
       "mean      59934.001053\n",
       "std       40162.757201\n",
       "min        4500.000000\n",
       "25%       27000.000000\n",
       "50%       51353.100000\n",
       "75%       80865.000000\n",
       "max      405000.000000\n",
       "Name: Credit_Amount, dtype: float64"
      ]
     },
     "execution_count": 628,
     "metadata": {},
     "output_type": "execute_result"
    }
   ],
   "source": [
    "test['Credit_Amount'].describe()"
   ]
  },
  {
   "cell_type": "code",
   "execution_count": 629,
   "metadata": {},
   "outputs": [],
   "source": [
    "test.loc[test['Credit_Amount'].isnull(),'Credit_Amount']=51353"
   ]
  },
  {
   "cell_type": "code",
   "execution_count": 630,
   "metadata": {},
   "outputs": [
    {
     "data": {
      "text/plain": [
       "0.0    0.502167\n",
       "1.0    0.497833\n",
       "Name: Active_Loan, dtype: float64"
      ]
     },
     "execution_count": 630,
     "metadata": {},
     "output_type": "execute_result"
    }
   ],
   "source": [
    "test['Active_Loan'].value_counts(normalize=True).sort_values(ascending=False)"
   ]
  },
  {
   "cell_type": "code",
   "execution_count": 631,
   "metadata": {},
   "outputs": [],
   "source": [
    "test.loc[test['Active_Loan'].isnull(),'Active_Loan']=0"
   ]
  },
  {
   "cell_type": "code",
   "execution_count": 632,
   "metadata": {},
   "outputs": [
    {
     "data": {
      "text/plain": [
       "0.0     0.701039\n",
       "1.0     0.196979\n",
       "2.0     0.087092\n",
       "3.0     0.013007\n",
       "4.0     0.001540\n",
       "5.0     0.000255\n",
       "6.0     0.000064\n",
       "12.0    0.000013\n",
       "19.0    0.000013\n",
       "Name: Child_Count, dtype: float64"
      ]
     },
     "execution_count": 632,
     "metadata": {},
     "output_type": "execute_result"
    }
   ],
   "source": [
    "test['Child_Count'].value_counts(normalize=True).sort_values(ascending=False)"
   ]
  },
  {
   "cell_type": "code",
   "execution_count": 633,
   "metadata": {},
   "outputs": [],
   "source": [
    "test.loc[test['Child_Count'].isnull(),'Child_Count']=0"
   ]
  },
  {
   "cell_type": "code",
   "execution_count": 634,
   "metadata": {},
   "outputs": [
    {
     "data": {
      "text/plain": [
       "Secondary             0.708950\n",
       "Graduation            0.244354\n",
       "Graduation dropout    0.033902\n",
       "junior secondary      0.012298\n",
       "Post Grad             0.000496\n",
       "Name: Client_Education, dtype: float64"
      ]
     },
     "execution_count": 634,
     "metadata": {},
     "output_type": "execute_result"
    }
   ],
   "source": [
    "test['Client_Education'].value_counts(normalize=True).sort_values(ascending=False)"
   ]
  },
  {
   "cell_type": "code",
   "execution_count": 635,
   "metadata": {},
   "outputs": [],
   "source": [
    "test.loc[test['Client_Education'].isnull(),'Client_Education']='Secondary'"
   ]
  },
  {
   "cell_type": "code",
   "execution_count": 636,
   "metadata": {},
   "outputs": [
    {
     "data": {
      "text/plain": [
       "count      78479.0\n",
       "unique     14560.0\n",
       "top       365243.0\n",
       "freq        8686.0\n",
       "Name: Employed_Days, dtype: float64"
      ]
     },
     "execution_count": 636,
     "metadata": {},
     "output_type": "execute_result"
    }
   ],
   "source": [
    "test['Employed_Days'].describe()"
   ]
  },
  {
   "cell_type": "code",
   "execution_count": 637,
   "metadata": {},
   "outputs": [
    {
     "data": {
      "text/plain": [
       "365243.0    8686\n",
       "365243      5516\n",
       "205.0         34\n",
       "200.0         31\n",
       "230.0         30\n",
       "            ... \n",
       "9999           1\n",
       "1362           1\n",
       "2799           1\n",
       "5595           1\n",
       "0.0            1\n",
       "Name: Employed_Days, Length: 14560, dtype: int64"
      ]
     },
     "execution_count": 637,
     "metadata": {},
     "output_type": "execute_result"
    }
   ],
   "source": [
    "test['Employed_Days'].value_counts().sort_values(ascending=False)"
   ]
  },
  {
   "cell_type": "code",
   "execution_count": 638,
   "metadata": {},
   "outputs": [
    {
     "data": {
      "text/plain": [
       "2421"
      ]
     },
     "execution_count": 638,
     "metadata": {},
     "output_type": "execute_result"
    }
   ],
   "source": [
    "test['Employed_Days'].isnull().sum()"
   ]
  },
  {
   "cell_type": "code",
   "execution_count": 639,
   "metadata": {},
   "outputs": [],
   "source": [
    "test.loc[test['Employed_Days']=='365243','Employed_Days']=np.nan"
   ]
  },
  {
   "cell_type": "code",
   "execution_count": 640,
   "metadata": {},
   "outputs": [],
   "source": [
    "test.loc[test['Employed_Days']==365243,'Employed_Days']=np.nan"
   ]
  },
  {
   "cell_type": "code",
   "execution_count": 641,
   "metadata": {},
   "outputs": [
    {
     "data": {
      "text/plain": [
       "205.0    0.000529\n",
       "200.0    0.000482\n",
       "230.0    0.000467\n",
       "254.0    0.000451\n",
       "348.0    0.000436\n",
       "           ...   \n",
       "3817     0.000016\n",
       "11377    0.000016\n",
       "5090     0.000016\n",
       "5293     0.000016\n",
       "0.0      0.000016\n",
       "Name: Employed_Days, Length: 14558, dtype: float64"
      ]
     },
     "execution_count": 641,
     "metadata": {},
     "output_type": "execute_result"
    }
   ],
   "source": [
    "test['Employed_Days'].value_counts(normalize=True).sort_values(ascending=False)"
   ]
  },
  {
   "cell_type": "code",
   "execution_count": 642,
   "metadata": {},
   "outputs": [],
   "source": [
    "test['Employed_Days'] = pd.to_numeric(test['Employed_Days'], errors='coerce')"
   ]
  },
  {
   "cell_type": "code",
   "execution_count": 643,
   "metadata": {},
   "outputs": [
    {
     "data": {
      "text/plain": [
       "16628"
      ]
     },
     "execution_count": 643,
     "metadata": {},
     "output_type": "execute_result"
    }
   ],
   "source": [
    "test['Employed_Days'].isnull().sum()"
   ]
  },
  {
   "cell_type": "code",
   "execution_count": 644,
   "metadata": {},
   "outputs": [
    {
     "data": {
      "text/plain": [
       "count    64272.000000\n",
       "mean      2383.388303\n",
       "std       2329.519225\n",
       "min          0.000000\n",
       "25%        775.000000\n",
       "50%       1655.000000\n",
       "75%       3173.000000\n",
       "max      17531.000000\n",
       "Name: Employed_Days, dtype: float64"
      ]
     },
     "execution_count": 644,
     "metadata": {},
     "output_type": "execute_result"
    }
   ],
   "source": [
    "test['Employed_Days'].describe()"
   ]
  },
  {
   "cell_type": "code",
   "execution_count": 645,
   "metadata": {},
   "outputs": [],
   "source": [
    "test.loc[test['Employed_Days'].isnull(),'Employed_Days']=1655"
   ]
  },
  {
   "cell_type": "code",
   "execution_count": 646,
   "metadata": {},
   "outputs": [],
   "source": [
    "\n",
    "test['Employed_Days']=test['Employed_Days'].astype('int64')"
   ]
  },
  {
   "cell_type": "code",
   "execution_count": 647,
   "metadata": {},
   "outputs": [
    {
     "data": {
      "text/plain": [
       "CL    0.904758\n",
       "RL    0.095242\n",
       "Name: Loan_Contract_Type, dtype: float64"
      ]
     },
     "execution_count": 647,
     "metadata": {},
     "output_type": "execute_result"
    }
   ],
   "source": [
    "test['Loan_Contract_Type'].value_counts(normalize=True).sort_values(ascending=False)"
   ]
  },
  {
   "cell_type": "code",
   "execution_count": 648,
   "metadata": {},
   "outputs": [],
   "source": [
    "test.loc[test['Loan_Contract_Type'].isnull(),'Loan_Contract_Type']='CL'"
   ]
  },
  {
   "cell_type": "code",
   "execution_count": 649,
   "metadata": {},
   "outputs": [
    {
     "data": {
      "text/plain": [
       "1.0    0.693252\n",
       "0.0    0.306748\n",
       "Name: House_Own, dtype: float64"
      ]
     },
     "execution_count": 649,
     "metadata": {},
     "output_type": "execute_result"
    }
   ],
   "source": [
    "test['House_Own'].value_counts(normalize=True).sort_values(ascending=False)"
   ]
  },
  {
   "cell_type": "code",
   "execution_count": 650,
   "metadata": {},
   "outputs": [],
   "source": [
    "test.loc[test['House_Own'].isnull(),'House_Own']=1"
   ]
  },
  {
   "cell_type": "code",
   "execution_count": 651,
   "metadata": {},
   "outputs": [
    {
     "data": {
      "text/plain": [
       "count    78494.000000\n",
       "mean        12.070566\n",
       "std          3.257224\n",
       "min          0.000000\n",
       "25%         10.000000\n",
       "50%         12.000000\n",
       "75%         14.000000\n",
       "max         23.000000\n",
       "Name: Application_Process_Hour, dtype: float64"
      ]
     },
     "execution_count": 651,
     "metadata": {},
     "output_type": "execute_result"
    }
   ],
   "source": [
    "test['Application_Process_Hour'].describe()"
   ]
  },
  {
   "cell_type": "code",
   "execution_count": 652,
   "metadata": {},
   "outputs": [],
   "source": [
    "test.loc[test['Application_Process_Hour'].isnull(),'Application_Process_Hour']=12"
   ]
  },
  {
   "cell_type": "code",
   "execution_count": 653,
   "metadata": {},
   "outputs": [
    {
     "data": {
      "text/plain": [
       "count    78477.000000\n",
       "mean       961.007263\n",
       "std        827.880031\n",
       "min          0.000000\n",
       "25%        271.000000\n",
       "50%        755.000000\n",
       "75%       1568.000000\n",
       "max       4292.000000\n",
       "Name: Phone_Change, dtype: float64"
      ]
     },
     "execution_count": 653,
     "metadata": {},
     "output_type": "execute_result"
    }
   ],
   "source": [
    "test['Phone_Change'].describe()"
   ]
  },
  {
   "cell_type": "code",
   "execution_count": 654,
   "metadata": {},
   "outputs": [],
   "source": [
    "test.loc[test['Phone_Change'].isnull(),'Phone_Change']=755"
   ]
  },
  {
   "cell_type": "code",
   "execution_count": 655,
   "metadata": {},
   "outputs": [
    {
     "data": {
      "text/plain": [
       "Home         0.887785\n",
       "Family       0.047419\n",
       "Municipal    0.036284\n",
       "Rental       0.016193\n",
       "Office       0.008447\n",
       "Shared       0.003873\n",
       "Name: Client_Housing_Type, dtype: float64"
      ]
     },
     "execution_count": 655,
     "metadata": {},
     "output_type": "execute_result"
    }
   ],
   "source": [
    "test['Client_Housing_Type'].value_counts(normalize=True).sort_values(ascending=False)"
   ]
  },
  {
   "cell_type": "code",
   "execution_count": 656,
   "metadata": {},
   "outputs": [],
   "source": [
    "test.loc[test['Client_Housing_Type'].isnull(),'Client_Housing_Type']='Home'"
   ]
  },
  {
   "cell_type": "code",
   "execution_count": 657,
   "metadata": {},
   "outputs": [
    {
     "data": {
      "text/plain": [
       "count     77697\n",
       "unique    15821\n",
       "top         900\n",
       "freq        967\n",
       "Name: Loan_Annuity, dtype: object"
      ]
     },
     "execution_count": 657,
     "metadata": {},
     "output_type": "execute_result"
    }
   ],
   "source": [
    "test['Loan_Annuity'].describe()"
   ]
  },
  {
   "cell_type": "code",
   "execution_count": 658,
   "metadata": {},
   "outputs": [],
   "source": [
    "test['Loan_Annuity'] = pd.to_numeric(test['Loan_Annuity'], errors='coerce')"
   ]
  },
  {
   "cell_type": "code",
   "execution_count": 659,
   "metadata": {},
   "outputs": [
    {
     "data": {
      "text/plain": [
       "count    77692.000000\n",
       "mean      2707.440459\n",
       "std       1441.253928\n",
       "min        198.000000\n",
       "25%       1657.350000\n",
       "50%       2489.400000\n",
       "75%       3459.600000\n",
       "max      22500.000000\n",
       "Name: Loan_Annuity, dtype: float64"
      ]
     },
     "execution_count": 659,
     "metadata": {},
     "output_type": "execute_result"
    }
   ],
   "source": [
    "test['Loan_Annuity'].describe()"
   ]
  },
  {
   "cell_type": "code",
   "execution_count": 660,
   "metadata": {},
   "outputs": [],
   "source": [
    "test.loc[test['Loan_Annuity'].isnull(),'Loan_Annuity']=2489.4"
   ]
  },
  {
   "cell_type": "code",
   "execution_count": 661,
   "metadata": {},
   "outputs": [
    {
     "data": {
      "text/plain": [
       "count        77630\n",
       "unique         163\n",
       "top       0.035792\n",
       "freq          3259\n",
       "Name: Population_Region_Relative, dtype: object"
      ]
     },
     "execution_count": 661,
     "metadata": {},
     "output_type": "execute_result"
    }
   ],
   "source": [
    "test['Population_Region_Relative'].describe()"
   ]
  },
  {
   "cell_type": "code",
   "execution_count": 662,
   "metadata": {},
   "outputs": [],
   "source": [
    "test['Population_Region_Relative'] = pd.to_numeric(test['Population_Region_Relative'], errors='coerce')"
   ]
  },
  {
   "cell_type": "code",
   "execution_count": 663,
   "metadata": {},
   "outputs": [
    {
     "data": {
      "text/plain": [
       "count    77622.000000\n",
       "mean         0.024732\n",
       "std          0.621699\n",
       "min          0.000533\n",
       "25%          0.010006\n",
       "50%          0.018850\n",
       "75%          0.028663\n",
       "max        100.000000\n",
       "Name: Population_Region_Relative, dtype: float64"
      ]
     },
     "execution_count": 663,
     "metadata": {},
     "output_type": "execute_result"
    }
   ],
   "source": [
    "test['Population_Region_Relative'].describe()"
   ]
  },
  {
   "cell_type": "code",
   "execution_count": 664,
   "metadata": {},
   "outputs": [],
   "source": [
    "test.loc[test['Population_Region_Relative'].isnull(),'Population_Region_Relative']=0.018850"
   ]
  },
  {
   "cell_type": "code",
   "execution_count": 665,
   "metadata": {},
   "outputs": [
    {
     "data": {
      "text/plain": [
       "count     77185.000000\n",
       "unique    58103.000000\n",
       "top           0.285898\n",
       "freq        148.000000\n",
       "Name: Score_Source_2, dtype: float64"
      ]
     },
     "execution_count": 665,
     "metadata": {},
     "output_type": "execute_result"
    }
   ],
   "source": [
    "test['Score_Source_2'].describe()"
   ]
  },
  {
   "cell_type": "code",
   "execution_count": 666,
   "metadata": {},
   "outputs": [],
   "source": [
    "test['Score_Source_2'] = pd.to_numeric(test['Score_Source_2'], errors='coerce')"
   ]
  },
  {
   "cell_type": "code",
   "execution_count": 667,
   "metadata": {},
   "outputs": [
    {
     "data": {
      "text/plain": [
       "count    7.718400e+04\n",
       "mean     5.157392e-01\n",
       "std      4.055703e-01\n",
       "min      8.170000e-08\n",
       "25%      3.921003e-01\n",
       "50%      5.654295e-01\n",
       "75%      6.633046e-01\n",
       "max      1.000000e+02\n",
       "Name: Score_Source_2, dtype: float64"
      ]
     },
     "execution_count": 667,
     "metadata": {},
     "output_type": "execute_result"
    }
   ],
   "source": [
    "test['Score_Source_2'].describe()"
   ]
  },
  {
   "cell_type": "code",
   "execution_count": 668,
   "metadata": {},
   "outputs": [],
   "source": [
    "test.loc[test['Score_Source_2'].isnull(),'Score_Source_2']=0.5654295"
   ]
  },
  {
   "cell_type": "code",
   "execution_count": 669,
   "metadata": {},
   "outputs": [
    {
     "data": {
      "text/plain": [
       "count     77019.0\n",
       "unique    11285.0\n",
       "top        4168.0\n",
       "freq         33.0\n",
       "Name: ID_Days, dtype: float64"
      ]
     },
     "execution_count": 669,
     "metadata": {},
     "output_type": "execute_result"
    }
   ],
   "source": [
    "test['ID_Days'].describe()"
   ]
  },
  {
   "cell_type": "code",
   "execution_count": 670,
   "metadata": {},
   "outputs": [],
   "source": [
    "test['ID_Days'] = pd.to_numeric(test['ID_Days'], errors='coerce')"
   ]
  },
  {
   "cell_type": "code",
   "execution_count": 671,
   "metadata": {},
   "outputs": [
    {
     "data": {
      "text/plain": [
       "count    77014.000000\n",
       "mean      3002.249643\n",
       "std       1509.867047\n",
       "min          0.000000\n",
       "25%       1727.000000\n",
       "50%       3276.000000\n",
       "75%       4305.000000\n",
       "max       6551.000000\n",
       "Name: ID_Days, dtype: float64"
      ]
     },
     "execution_count": 671,
     "metadata": {},
     "output_type": "execute_result"
    }
   ],
   "source": [
    "test['ID_Days'].describe()"
   ]
  },
  {
   "cell_type": "code",
   "execution_count": 672,
   "metadata": {},
   "outputs": [],
   "source": [
    "test.loc[test['ID_Days'].isnull(),'ID_Days']=3276"
   ]
  },
  {
   "cell_type": "code",
   "execution_count": 673,
   "metadata": {},
   "outputs": [
    {
     "data": {
      "text/plain": [
       "count    68618.000000\n",
       "mean         1.897432\n",
       "std          1.867447\n",
       "min          0.000000\n",
       "25%          0.000000\n",
       "50%          1.000000\n",
       "75%          3.000000\n",
       "max         25.000000\n",
       "Name: Credit_Bureau, dtype: float64"
      ]
     },
     "execution_count": 673,
     "metadata": {},
     "output_type": "execute_result"
    }
   ],
   "source": [
    "test['Credit_Bureau'].describe()"
   ]
  },
  {
   "cell_type": "code",
   "execution_count": 674,
   "metadata": {},
   "outputs": [
    {
     "data": {
      "text/plain": [
       "0.0     0.270294\n",
       "1.0     0.238844\n",
       "2.0     0.188682\n",
       "3.0     0.125244\n",
       "4.0     0.077851\n",
       "5.0     0.046096\n",
       "6.0     0.025795\n",
       "7.0     0.015098\n",
       "8.0     0.007899\n",
       "9.0     0.003687\n",
       "11.0    0.000175\n",
       "12.0    0.000117\n",
       "15.0    0.000044\n",
       "13.0    0.000044\n",
       "17.0    0.000029\n",
       "10.0    0.000029\n",
       "23.0    0.000015\n",
       "18.0    0.000015\n",
       "25.0    0.000015\n",
       "19.0    0.000015\n",
       "14.0    0.000015\n",
       "Name: Credit_Bureau, dtype: float64"
      ]
     },
     "execution_count": 674,
     "metadata": {},
     "output_type": "execute_result"
    }
   ],
   "source": [
    "test['Credit_Bureau'].value_counts(normalize=True).sort_values(ascending=False)"
   ]
  },
  {
   "cell_type": "code",
   "execution_count": 675,
   "metadata": {},
   "outputs": [],
   "source": [
    "test.loc[test['Credit_Bureau'].isnull(),'Credit_Bureau']=1"
   ]
  },
  {
   "cell_type": "code",
   "execution_count": 676,
   "metadata": {},
   "outputs": [
    {
     "data": {
      "text/plain": [
       "count     62882.0000\n",
       "unique     1444.0000\n",
       "top           0.7463\n",
       "freq        236.0000\n",
       "Name: Score_Source_3, dtype: float64"
      ]
     },
     "execution_count": 676,
     "metadata": {},
     "output_type": "execute_result"
    }
   ],
   "source": [
    "test['Score_Source_3'].describe()"
   ]
  },
  {
   "cell_type": "code",
   "execution_count": 677,
   "metadata": {},
   "outputs": [],
   "source": [
    "test['Score_Source_3'] = pd.to_numeric(test['Score_Source_3'], errors='coerce')"
   ]
  },
  {
   "cell_type": "code",
   "execution_count": 678,
   "metadata": {},
   "outputs": [
    {
     "data": {
      "text/plain": [
       "count    62880.000000\n",
       "mean         0.511575\n",
       "std          0.193812\n",
       "min          0.000527\n",
       "25%          0.372334\n",
       "50%          0.537070\n",
       "75%          0.667458\n",
       "max          0.887664\n",
       "Name: Score_Source_3, dtype: float64"
      ]
     },
     "execution_count": 678,
     "metadata": {},
     "output_type": "execute_result"
    }
   ],
   "source": [
    "test['Score_Source_3'].describe()"
   ]
  },
  {
   "cell_type": "code",
   "execution_count": 679,
   "metadata": {},
   "outputs": [],
   "source": [
    "test.loc[test['Score_Source_3'].isnull(),'Score_Source_3']=0.537070"
   ]
  },
  {
   "cell_type": "code",
   "execution_count": 680,
   "metadata": {},
   "outputs": [
    {
     "data": {
      "text/plain": [
       "Laborers              0.262068\n",
       "Sales                 0.152823\n",
       "Core                  0.132598\n",
       "Managers              0.100009\n",
       "Drivers               0.087833\n",
       "High skill tech       0.054528\n",
       "Accountants           0.045764\n",
       "Medicine              0.040147\n",
       "Security              0.030440\n",
       "Cooking               0.028235\n",
       "Cleaning              0.022185\n",
       "Private service       0.012647\n",
       "Low-skill Laborers    0.010103\n",
       "Waiters/barmen        0.006163\n",
       "Secretaries           0.006145\n",
       "Realty agents         0.003355\n",
       "HR                    0.002639\n",
       "IT                    0.002318\n",
       "Name: Client_Occupation, dtype: float64"
      ]
     },
     "execution_count": 680,
     "metadata": {},
     "output_type": "execute_result"
    }
   ],
   "source": [
    "test['Client_Occupation'].value_counts(normalize=True).sort_values(ascending=False)"
   ]
  },
  {
   "cell_type": "code",
   "execution_count": 681,
   "metadata": {},
   "outputs": [],
   "source": [
    "test.loc[test['Client_Occupation'].isnull(),'Client_Occupation']='Laborers'"
   ]
  },
  {
   "cell_type": "code",
   "execution_count": 682,
   "metadata": {},
   "outputs": [
    {
     "data": {
      "text/plain": [
       "count    35407.000000\n",
       "mean         0.501752\n",
       "std          0.211653\n",
       "min          0.015600\n",
       "25%          0.332620\n",
       "50%          0.506789\n",
       "75%          0.675585\n",
       "max          0.946098\n",
       "Name: Score_Source_1, dtype: float64"
      ]
     },
     "execution_count": 682,
     "metadata": {},
     "output_type": "execute_result"
    }
   ],
   "source": [
    "test['Score_Source_1'].describe()"
   ]
  },
  {
   "cell_type": "code",
   "execution_count": 686,
   "metadata": {},
   "outputs": [],
   "source": [
    "test.loc[test['Score_Source_1'].isnull(),'Score_Source_1']=0.506789"
   ]
  },
  {
   "cell_type": "code",
   "execution_count": 687,
   "metadata": {},
   "outputs": [
    {
     "data": {
      "text/plain": [
       "0.0825    0.043281\n",
       "0.0619    0.043205\n",
       "0.0928    0.029113\n",
       "0.0722    0.025998\n",
       "0.0082    0.023160\n",
       "            ...   \n",
       "0.8247    0.000025\n",
       "0.0934    0.000025\n",
       "0.0076    0.000025\n",
       "0.0555    0.000025\n",
       "0.0575    0.000025\n",
       "Name: Social_Circle_Default, Length: 1696, dtype: float64"
      ]
     },
     "execution_count": 687,
     "metadata": {},
     "output_type": "execute_result"
    }
   ],
   "source": [
    "test['Social_Circle_Default'].value_counts(normalize=True).sort_values(ascending=False)"
   ]
  },
  {
   "cell_type": "code",
   "execution_count": 688,
   "metadata": {},
   "outputs": [
    {
     "data": {
      "text/plain": [
       "count    39810.000000\n",
       "mean         0.117942\n",
       "std          0.108621\n",
       "min          0.000000\n",
       "25%          0.057700\n",
       "50%          0.087100\n",
       "75%          0.148500\n",
       "max          1.000000\n",
       "Name: Social_Circle_Default, dtype: float64"
      ]
     },
     "execution_count": 688,
     "metadata": {},
     "output_type": "execute_result"
    }
   ],
   "source": [
    "test['Social_Circle_Default'].describe()"
   ]
  },
  {
   "cell_type": "code",
   "execution_count": 689,
   "metadata": {},
   "outputs": [],
   "source": [
    "test.loc[test['Social_Circle_Default'].isnull(),'Social_Circle_Default']=0.087100"
   ]
  },
  {
   "cell_type": "code",
   "execution_count": 690,
   "metadata": {},
   "outputs": [],
   "source": [
    "test.drop([\"Own_House_Age\"],axis=1,inplace=True)"
   ]
  },
  {
   "cell_type": "code",
   "execution_count": 691,
   "metadata": {},
   "outputs": [
    {
     "data": {
      "text/plain": [
       "ID                            0\n",
       "Client_Income                 0\n",
       "Car_Owned                     0\n",
       "Bike_Owned                    0\n",
       "Active_Loan                   0\n",
       "House_Own                     0\n",
       "Child_Count                   0\n",
       "Credit_Amount                 0\n",
       "Loan_Annuity                  0\n",
       "Accompany_Client              0\n",
       "Client_Income_Type            0\n",
       "Client_Education              0\n",
       "Client_Marital_Status         0\n",
       "Client_Gender                 0\n",
       "Loan_Contract_Type            0\n",
       "Client_Housing_Type           0\n",
       "Population_Region_Relative    0\n",
       "Age_Days                      0\n",
       "Employed_Days                 0\n",
       "Registration_Days             0\n",
       "ID_Days                       0\n",
       "Mobile_Tag                    0\n",
       "Homephone_Tag                 0\n",
       "Workphone_Working             0\n",
       "Client_Occupation             0\n",
       "Client_Family_Members         0\n",
       "Cleint_City_Rating            0\n",
       "Application_Process_Day       0\n",
       "Application_Process_Hour      0\n",
       "Client_Permanent_Match_Tag    0\n",
       "Client_Contact_Work_Tag       0\n",
       "Type_Organization             0\n",
       "Score_Source_1                0\n",
       "Score_Source_2                0\n",
       "Score_Source_3                0\n",
       "Social_Circle_Default         0\n",
       "Phone_Change                  0\n",
       "Credit_Bureau                 0\n",
       "dtype: int64"
      ]
     },
     "execution_count": 691,
     "metadata": {},
     "output_type": "execute_result"
    }
   ],
   "source": [
    "test.isnull().sum()"
   ]
  },
  {
   "cell_type": "code",
   "execution_count": 262,
   "metadata": {},
   "outputs": [],
   "source": [
    "#test.drop(['Accompany_Client','Application_Process_Day','Application_Process_Hour'],axis=1,inplace=True)"
   ]
  },
  {
   "cell_type": "code",
   "execution_count": 692,
   "metadata": {},
   "outputs": [],
   "source": [
    "for i in test.columns:\n",
    "    if test[i].dtype == 'object': \n",
    "        test[i] = pd.Categorical(test[i]).codes"
   ]
  },
  {
   "cell_type": "code",
   "execution_count": 693,
   "metadata": {},
   "outputs": [],
   "source": [
    "test_X=test.drop('ID',axis=1)"
   ]
  },
  {
   "cell_type": "code",
   "execution_count": 694,
   "metadata": {},
   "outputs": [
    {
     "data": {
      "text/html": [
       "<div>\n",
       "<style scoped>\n",
       "    .dataframe tbody tr th:only-of-type {\n",
       "        vertical-align: middle;\n",
       "    }\n",
       "\n",
       "    .dataframe tbody tr th {\n",
       "        vertical-align: top;\n",
       "    }\n",
       "\n",
       "    .dataframe thead th {\n",
       "        text-align: right;\n",
       "    }\n",
       "</style>\n",
       "<table border=\"1\" class=\"dataframe\">\n",
       "  <thead>\n",
       "    <tr style=\"text-align: right;\">\n",
       "      <th></th>\n",
       "      <th>Client_Income</th>\n",
       "      <th>Car_Owned</th>\n",
       "      <th>Bike_Owned</th>\n",
       "      <th>Active_Loan</th>\n",
       "      <th>House_Own</th>\n",
       "      <th>Child_Count</th>\n",
       "      <th>Credit_Amount</th>\n",
       "      <th>Loan_Annuity</th>\n",
       "      <th>Accompany_Client</th>\n",
       "      <th>Client_Income_Type</th>\n",
       "      <th>...</th>\n",
       "      <th>Application_Process_Hour</th>\n",
       "      <th>Client_Permanent_Match_Tag</th>\n",
       "      <th>Client_Contact_Work_Tag</th>\n",
       "      <th>Type_Organization</th>\n",
       "      <th>Score_Source_1</th>\n",
       "      <th>Score_Source_2</th>\n",
       "      <th>Score_Source_3</th>\n",
       "      <th>Social_Circle_Default</th>\n",
       "      <th>Phone_Change</th>\n",
       "      <th>Credit_Bureau</th>\n",
       "    </tr>\n",
       "  </thead>\n",
       "  <tbody>\n",
       "    <tr>\n",
       "      <th>0</th>\n",
       "      <td>-0.459755</td>\n",
       "      <td>-0.698380</td>\n",
       "      <td>1.450893</td>\n",
       "      <td>1.035154</td>\n",
       "      <td>0.651303</td>\n",
       "      <td>-0.565250</td>\n",
       "      <td>1.333045</td>\n",
       "      <td>1.256886</td>\n",
       "      <td>2.326526</td>\n",
       "      <td>0.805740</td>\n",
       "      <td>...</td>\n",
       "      <td>1.225378</td>\n",
       "      <td>0.290679</td>\n",
       "      <td>0.469208</td>\n",
       "      <td>1.292943</td>\n",
       "      <td>0.015741</td>\n",
       "      <td>0.603435</td>\n",
       "      <td>0.656676</td>\n",
       "      <td>-0.653161</td>\n",
       "      <td>-0.292643</td>\n",
       "      <td>0.136485</td>\n",
       "    </tr>\n",
       "    <tr>\n",
       "      <th>1</th>\n",
       "      <td>-0.273088</td>\n",
       "      <td>1.431886</td>\n",
       "      <td>1.450893</td>\n",
       "      <td>1.035154</td>\n",
       "      <td>0.651303</td>\n",
       "      <td>3.607841</td>\n",
       "      <td>-0.250888</td>\n",
       "      <td>0.391612</td>\n",
       "      <td>-0.465018</td>\n",
       "      <td>0.805740</td>\n",
       "      <td>...</td>\n",
       "      <td>1.848737</td>\n",
       "      <td>-3.440226</td>\n",
       "      <td>0.469208</td>\n",
       "      <td>1.292943</td>\n",
       "      <td>0.015741</td>\n",
       "      <td>-0.443506</td>\n",
       "      <td>0.115750</td>\n",
       "      <td>-0.195226</td>\n",
       "      <td>-0.948169</td>\n",
       "      <td>-0.435029</td>\n",
       "    </tr>\n",
       "    <tr>\n",
       "      <th>2</th>\n",
       "      <td>1.780248</td>\n",
       "      <td>-0.698380</td>\n",
       "      <td>1.450893</td>\n",
       "      <td>-0.966040</td>\n",
       "      <td>0.651303</td>\n",
       "      <td>-0.565250</td>\n",
       "      <td>0.197121</td>\n",
       "      <td>0.478553</td>\n",
       "      <td>-0.465018</td>\n",
       "      <td>-1.642682</td>\n",
       "      <td>...</td>\n",
       "      <td>2.160416</td>\n",
       "      <td>0.290679</td>\n",
       "      <td>0.469208</td>\n",
       "      <td>-0.846797</td>\n",
       "      <td>0.015741</td>\n",
       "      <td>0.417995</td>\n",
       "      <td>0.115750</td>\n",
       "      <td>0.617736</td>\n",
       "      <td>-0.825641</td>\n",
       "      <td>-0.435029</td>\n",
       "    </tr>\n",
       "    <tr>\n",
       "      <th>3</th>\n",
       "      <td>0.286913</td>\n",
       "      <td>-0.698380</td>\n",
       "      <td>-0.689231</td>\n",
       "      <td>1.035154</td>\n",
       "      <td>-1.535384</td>\n",
       "      <td>-0.565250</td>\n",
       "      <td>-0.223183</td>\n",
       "      <td>0.789695</td>\n",
       "      <td>-0.465018</td>\n",
       "      <td>-0.826542</td>\n",
       "      <td>...</td>\n",
       "      <td>2.472096</td>\n",
       "      <td>-3.440226</td>\n",
       "      <td>-2.131252</td>\n",
       "      <td>0.598974</td>\n",
       "      <td>-1.092559</td>\n",
       "      <td>-0.726938</td>\n",
       "      <td>0.905330</td>\n",
       "      <td>-0.195226</td>\n",
       "      <td>0.596912</td>\n",
       "      <td>1.279513</td>\n",
       "    </tr>\n",
       "    <tr>\n",
       "      <th>4</th>\n",
       "      <td>-0.273088</td>\n",
       "      <td>1.431886</td>\n",
       "      <td>1.450893</td>\n",
       "      <td>-0.966040</td>\n",
       "      <td>0.651303</td>\n",
       "      <td>-0.565250</td>\n",
       "      <td>-0.406100</td>\n",
       "      <td>-0.129400</td>\n",
       "      <td>-0.465018</td>\n",
       "      <td>0.805740</td>\n",
       "      <td>...</td>\n",
       "      <td>0.290340</td>\n",
       "      <td>0.290679</td>\n",
       "      <td>0.469208</td>\n",
       "      <td>1.292943</td>\n",
       "      <td>1.617560</td>\n",
       "      <td>0.123522</td>\n",
       "      <td>1.248472</td>\n",
       "      <td>-0.195226</td>\n",
       "      <td>-0.034108</td>\n",
       "      <td>-0.435029</td>\n",
       "    </tr>\n",
       "  </tbody>\n",
       "</table>\n",
       "<p>5 rows × 37 columns</p>\n",
       "</div>"
      ],
      "text/plain": [
       "   Client_Income  Car_Owned  Bike_Owned  Active_Loan  House_Own  Child_Count  \\\n",
       "0      -0.459755  -0.698380    1.450893     1.035154   0.651303    -0.565250   \n",
       "1      -0.273088   1.431886    1.450893     1.035154   0.651303     3.607841   \n",
       "2       1.780248  -0.698380    1.450893    -0.966040   0.651303    -0.565250   \n",
       "3       0.286913  -0.698380   -0.689231     1.035154  -1.535384    -0.565250   \n",
       "4      -0.273088   1.431886    1.450893    -0.966040   0.651303    -0.565250   \n",
       "\n",
       "   Credit_Amount  Loan_Annuity  Accompany_Client  Client_Income_Type  ...  \\\n",
       "0       1.333045      1.256886          2.326526            0.805740  ...   \n",
       "1      -0.250888      0.391612         -0.465018            0.805740  ...   \n",
       "2       0.197121      0.478553         -0.465018           -1.642682  ...   \n",
       "3      -0.223183      0.789695         -0.465018           -0.826542  ...   \n",
       "4      -0.406100     -0.129400         -0.465018            0.805740  ...   \n",
       "\n",
       "   Application_Process_Hour  Client_Permanent_Match_Tag  \\\n",
       "0                  1.225378                    0.290679   \n",
       "1                  1.848737                   -3.440226   \n",
       "2                  2.160416                    0.290679   \n",
       "3                  2.472096                   -3.440226   \n",
       "4                  0.290340                    0.290679   \n",
       "\n",
       "   Client_Contact_Work_Tag  Type_Organization  Score_Source_1  Score_Source_2  \\\n",
       "0                 0.469208           1.292943        0.015741        0.603435   \n",
       "1                 0.469208           1.292943        0.015741       -0.443506   \n",
       "2                 0.469208          -0.846797        0.015741        0.417995   \n",
       "3                -2.131252           0.598974       -1.092559       -0.726938   \n",
       "4                 0.469208           1.292943        1.617560        0.123522   \n",
       "\n",
       "   Score_Source_3  Social_Circle_Default  Phone_Change  Credit_Bureau  \n",
       "0        0.656676              -0.653161     -0.292643       0.136485  \n",
       "1        0.115750              -0.195226     -0.948169      -0.435029  \n",
       "2        0.115750               0.617736     -0.825641      -0.435029  \n",
       "3        0.905330              -0.195226      0.596912       1.279513  \n",
       "4        1.248472              -0.195226     -0.034108      -0.435029  \n",
       "\n",
       "[5 rows x 37 columns]"
      ]
     },
     "execution_count": 694,
     "metadata": {},
     "output_type": "execute_result"
    }
   ],
   "source": [
    "X_test2_scaled = pd.DataFrame(ss.fit_transform(test_X),columns=test_X.columns)\n",
    "X_test2_scaled.head()"
   ]
  },
  {
   "cell_type": "code",
   "execution_count": 695,
   "metadata": {},
   "outputs": [],
   "source": [
    "y_test2_predict_ann = best_model_ann.predict(X_test2_scaled)\n",
    "y_test2_predict_prob= best_model_ann.predict_proba(X_test2_scaled)\n",
    "\n",
    "\n"
   ]
  },
  {
   "cell_type": "code",
   "execution_count": 696,
   "metadata": {},
   "outputs": [
    {
     "data": {
      "text/plain": [
       "[0,\n",
       " 0,\n",
       " 0,\n",
       " 0,\n",
       " 0,\n",
       " 0,\n",
       " 0,\n",
       " 0,\n",
       " 0,\n",
       " 0,\n",
       " 0,\n",
       " 0,\n",
       " 0,\n",
       " 0,\n",
       " 0,\n",
       " 0,\n",
       " 0,\n",
       " 1,\n",
       " 1,\n",
       " 0,\n",
       " 0,\n",
       " 0,\n",
       " 0,\n",
       " 0,\n",
       " 0,\n",
       " 0,\n",
       " 1,\n",
       " 0,\n",
       " 0,\n",
       " 0,\n",
       " 0,\n",
       " 0,\n",
       " 0,\n",
       " 0,\n",
       " 0,\n",
       " 0,\n",
       " 0,\n",
       " 0,\n",
       " 0,\n",
       " 0,\n",
       " 0,\n",
       " 0,\n",
       " 0,\n",
       " 0,\n",
       " 0,\n",
       " 0,\n",
       " 0,\n",
       " 0,\n",
       " 0,\n",
       " 0,\n",
       " 0,\n",
       " 0,\n",
       " 0,\n",
       " 0,\n",
       " 0,\n",
       " 0,\n",
       " 1,\n",
       " 0,\n",
       " 0,\n",
       " 0,\n",
       " 0,\n",
       " 0,\n",
       " 0,\n",
       " 0,\n",
       " 0,\n",
       " 0,\n",
       " 0,\n",
       " 0,\n",
       " 0,\n",
       " 0,\n",
       " 0,\n",
       " 0,\n",
       " 0,\n",
       " 0,\n",
       " 0,\n",
       " 0,\n",
       " 0,\n",
       " 0,\n",
       " 0,\n",
       " 0,\n",
       " 0,\n",
       " 0,\n",
       " 0,\n",
       " 0,\n",
       " 0,\n",
       " 0,\n",
       " 0,\n",
       " 0,\n",
       " 0,\n",
       " 0,\n",
       " 1,\n",
       " 0,\n",
       " 0,\n",
       " 0,\n",
       " 0,\n",
       " 0,\n",
       " 0,\n",
       " 1,\n",
       " 0,\n",
       " 0,\n",
       " 1,\n",
       " 0,\n",
       " 1,\n",
       " 0,\n",
       " 0,\n",
       " 0,\n",
       " 1,\n",
       " 0,\n",
       " 0,\n",
       " 0,\n",
       " 0,\n",
       " 1,\n",
       " 0,\n",
       " 0,\n",
       " 0,\n",
       " 0,\n",
       " 0,\n",
       " 0,\n",
       " 0,\n",
       " 0,\n",
       " 0,\n",
       " 0,\n",
       " 0,\n",
       " 1,\n",
       " 0,\n",
       " 0,\n",
       " 0,\n",
       " 0,\n",
       " 0,\n",
       " 0,\n",
       " 0,\n",
       " 0,\n",
       " 0,\n",
       " 0,\n",
       " 0,\n",
       " 0,\n",
       " 1,\n",
       " 1,\n",
       " 0,\n",
       " 0,\n",
       " 0,\n",
       " 0,\n",
       " 0,\n",
       " 0,\n",
       " 0,\n",
       " 0,\n",
       " 0,\n",
       " 0,\n",
       " 0,\n",
       " 0,\n",
       " 0,\n",
       " 0,\n",
       " 0,\n",
       " 0,\n",
       " 0,\n",
       " 0,\n",
       " 0,\n",
       " 1,\n",
       " 0,\n",
       " 0,\n",
       " 1,\n",
       " 0,\n",
       " 1,\n",
       " 0,\n",
       " 0,\n",
       " 0,\n",
       " 0,\n",
       " 1,\n",
       " 0,\n",
       " 0,\n",
       " 0,\n",
       " 0,\n",
       " 0,\n",
       " 0,\n",
       " 0,\n",
       " 0,\n",
       " 0,\n",
       " 0,\n",
       " 0,\n",
       " 0,\n",
       " 0,\n",
       " 1,\n",
       " 0,\n",
       " 0,\n",
       " 0,\n",
       " 0,\n",
       " 0,\n",
       " 0,\n",
       " 0,\n",
       " 0,\n",
       " 0,\n",
       " 0,\n",
       " 0,\n",
       " 1,\n",
       " 0,\n",
       " 0,\n",
       " 0,\n",
       " 0,\n",
       " 0,\n",
       " 0,\n",
       " 0,\n",
       " 0,\n",
       " 0,\n",
       " 0,\n",
       " 0,\n",
       " 0,\n",
       " 0,\n",
       " 0,\n",
       " 0,\n",
       " 0,\n",
       " 0,\n",
       " 0,\n",
       " 1,\n",
       " 0,\n",
       " 0,\n",
       " 0,\n",
       " 0,\n",
       " 0,\n",
       " 0,\n",
       " 0,\n",
       " 0,\n",
       " 0,\n",
       " 0,\n",
       " 0,\n",
       " 0,\n",
       " 0,\n",
       " 1,\n",
       " 0,\n",
       " 0,\n",
       " 0,\n",
       " 0,\n",
       " 0,\n",
       " 0,\n",
       " 0,\n",
       " 0,\n",
       " 0,\n",
       " 1,\n",
       " 0,\n",
       " 0,\n",
       " 0,\n",
       " 0,\n",
       " 0,\n",
       " 0,\n",
       " 0,\n",
       " 0,\n",
       " 0,\n",
       " 0,\n",
       " 0,\n",
       " 0,\n",
       " 0,\n",
       " 0,\n",
       " 0,\n",
       " 0,\n",
       " 0,\n",
       " 0,\n",
       " 0,\n",
       " 1,\n",
       " 0,\n",
       " 0,\n",
       " 0,\n",
       " 0,\n",
       " 0,\n",
       " 0,\n",
       " 0,\n",
       " 0,\n",
       " 0,\n",
       " 0,\n",
       " 0,\n",
       " 0,\n",
       " 0,\n",
       " 0,\n",
       " 0,\n",
       " 0,\n",
       " 0,\n",
       " 0,\n",
       " 0,\n",
       " 0,\n",
       " 0,\n",
       " 1,\n",
       " 0,\n",
       " 1,\n",
       " 0,\n",
       " 0,\n",
       " 0,\n",
       " 0,\n",
       " 0,\n",
       " 0,\n",
       " 0,\n",
       " 0,\n",
       " 0,\n",
       " 0,\n",
       " 0,\n",
       " 0,\n",
       " 0,\n",
       " 0,\n",
       " 0,\n",
       " 0,\n",
       " 1,\n",
       " 1,\n",
       " 0,\n",
       " 0,\n",
       " 1,\n",
       " 0,\n",
       " 0,\n",
       " 0,\n",
       " 0,\n",
       " 0,\n",
       " 0,\n",
       " 0,\n",
       " 0,\n",
       " 0,\n",
       " 0,\n",
       " 0,\n",
       " 1,\n",
       " 0,\n",
       " 0,\n",
       " 0,\n",
       " 0,\n",
       " 0,\n",
       " 0,\n",
       " 0,\n",
       " 1,\n",
       " 0,\n",
       " 1,\n",
       " 0,\n",
       " 0,\n",
       " 0,\n",
       " 0,\n",
       " 0,\n",
       " 0,\n",
       " 0,\n",
       " 0,\n",
       " 1,\n",
       " 0,\n",
       " 0,\n",
       " 0,\n",
       " 0,\n",
       " 1,\n",
       " 1,\n",
       " 0,\n",
       " 1,\n",
       " 0,\n",
       " 0,\n",
       " 0,\n",
       " 0,\n",
       " 0,\n",
       " 1,\n",
       " 0,\n",
       " 0,\n",
       " 0,\n",
       " 0,\n",
       " 0,\n",
       " 0,\n",
       " 0,\n",
       " 1,\n",
       " 0,\n",
       " 0,\n",
       " 0,\n",
       " 0,\n",
       " 0,\n",
       " 0,\n",
       " 1,\n",
       " 0,\n",
       " 0,\n",
       " 0,\n",
       " 0,\n",
       " 0,\n",
       " 0,\n",
       " 0,\n",
       " 0,\n",
       " 0,\n",
       " 1,\n",
       " 0,\n",
       " 1,\n",
       " 0,\n",
       " 0,\n",
       " 0,\n",
       " 0,\n",
       " 0,\n",
       " 0,\n",
       " 0,\n",
       " 0,\n",
       " 1,\n",
       " 0,\n",
       " 0,\n",
       " 0,\n",
       " 0,\n",
       " 0,\n",
       " 1,\n",
       " 1,\n",
       " 0,\n",
       " 0,\n",
       " 0,\n",
       " 0,\n",
       " 1,\n",
       " 0,\n",
       " 0,\n",
       " 0,\n",
       " 0,\n",
       " 0,\n",
       " 0,\n",
       " 0,\n",
       " 0,\n",
       " 0,\n",
       " 0,\n",
       " 0,\n",
       " 0,\n",
       " 0,\n",
       " 0,\n",
       " 0,\n",
       " 0,\n",
       " 0,\n",
       " 0,\n",
       " 1,\n",
       " 0,\n",
       " 0,\n",
       " 0,\n",
       " 1,\n",
       " 0,\n",
       " 0,\n",
       " 0,\n",
       " 0,\n",
       " 0,\n",
       " 0,\n",
       " 0,\n",
       " 1,\n",
       " 1,\n",
       " 1,\n",
       " 0,\n",
       " 0,\n",
       " 0,\n",
       " 0,\n",
       " 0,\n",
       " 0,\n",
       " 0,\n",
       " 0,\n",
       " 0,\n",
       " 1,\n",
       " 0,\n",
       " 1,\n",
       " 0,\n",
       " 0,\n",
       " 0,\n",
       " 1,\n",
       " 0,\n",
       " 0,\n",
       " 0,\n",
       " 0,\n",
       " 0,\n",
       " 0,\n",
       " 1,\n",
       " 0,\n",
       " 1,\n",
       " 0,\n",
       " 0,\n",
       " 0,\n",
       " 0,\n",
       " 0,\n",
       " 1,\n",
       " 0,\n",
       " 0,\n",
       " 0,\n",
       " 0,\n",
       " 0,\n",
       " 0,\n",
       " 0,\n",
       " 0,\n",
       " 0,\n",
       " 0,\n",
       " 1,\n",
       " 0,\n",
       " 0,\n",
       " 0,\n",
       " 0,\n",
       " 0,\n",
       " 0,\n",
       " 0,\n",
       " 1,\n",
       " 0,\n",
       " 0,\n",
       " 0,\n",
       " 0,\n",
       " 0,\n",
       " 0,\n",
       " 0,\n",
       " 0,\n",
       " 0,\n",
       " 0,\n",
       " 0,\n",
       " 0,\n",
       " 0,\n",
       " 0,\n",
       " 0,\n",
       " 0,\n",
       " 0,\n",
       " 0,\n",
       " 1,\n",
       " 0,\n",
       " 1,\n",
       " 0,\n",
       " 0,\n",
       " 0,\n",
       " 0,\n",
       " 0,\n",
       " 0,\n",
       " 0,\n",
       " 0,\n",
       " 0,\n",
       " 0,\n",
       " 0,\n",
       " 0,\n",
       " 0,\n",
       " 0,\n",
       " 0,\n",
       " 0,\n",
       " 1,\n",
       " 0,\n",
       " 0,\n",
       " 0,\n",
       " 0,\n",
       " 0,\n",
       " 0,\n",
       " 0,\n",
       " 0,\n",
       " 1,\n",
       " 0,\n",
       " 0,\n",
       " 1,\n",
       " 0,\n",
       " 0,\n",
       " 0,\n",
       " 0,\n",
       " 0,\n",
       " 0,\n",
       " 0,\n",
       " 0,\n",
       " 1,\n",
       " 0,\n",
       " 0,\n",
       " 1,\n",
       " 0,\n",
       " 0,\n",
       " 0,\n",
       " 0,\n",
       " 0,\n",
       " 0,\n",
       " 0,\n",
       " 0,\n",
       " 0,\n",
       " 0,\n",
       " 0,\n",
       " 0,\n",
       " 0,\n",
       " 1,\n",
       " 0,\n",
       " 1,\n",
       " 0,\n",
       " 1,\n",
       " 0,\n",
       " 0,\n",
       " 0,\n",
       " 1,\n",
       " 0,\n",
       " 0,\n",
       " 0,\n",
       " 0,\n",
       " 0,\n",
       " 0,\n",
       " 0,\n",
       " 0,\n",
       " 0,\n",
       " 0,\n",
       " 0,\n",
       " 1,\n",
       " 0,\n",
       " 0,\n",
       " 0,\n",
       " 0,\n",
       " 0,\n",
       " 0,\n",
       " 0,\n",
       " 0,\n",
       " 0,\n",
       " 1,\n",
       " 0,\n",
       " 0,\n",
       " 0,\n",
       " 0,\n",
       " 0,\n",
       " 0,\n",
       " 0,\n",
       " 0,\n",
       " 0,\n",
       " 0,\n",
       " 0,\n",
       " 0,\n",
       " 0,\n",
       " 0,\n",
       " 0,\n",
       " 0,\n",
       " 1,\n",
       " 0,\n",
       " 0,\n",
       " 1,\n",
       " 0,\n",
       " 0,\n",
       " 0,\n",
       " 0,\n",
       " 0,\n",
       " 0,\n",
       " 0,\n",
       " 0,\n",
       " 0,\n",
       " 0,\n",
       " 0,\n",
       " 0,\n",
       " 0,\n",
       " 1,\n",
       " 0,\n",
       " 1,\n",
       " 0,\n",
       " 0,\n",
       " 1,\n",
       " 0,\n",
       " 0,\n",
       " 0,\n",
       " 0,\n",
       " 1,\n",
       " 0,\n",
       " 0,\n",
       " 1,\n",
       " 0,\n",
       " 0,\n",
       " 0,\n",
       " 0,\n",
       " 1,\n",
       " 0,\n",
       " 0,\n",
       " 0,\n",
       " 0,\n",
       " 0,\n",
       " 0,\n",
       " 0,\n",
       " 0,\n",
       " 0,\n",
       " 0,\n",
       " 0,\n",
       " 0,\n",
       " 0,\n",
       " 0,\n",
       " 0,\n",
       " 1,\n",
       " 0,\n",
       " 0,\n",
       " 0,\n",
       " 0,\n",
       " 0,\n",
       " 0,\n",
       " 0,\n",
       " 0,\n",
       " 0,\n",
       " 0,\n",
       " 0,\n",
       " 0,\n",
       " 0,\n",
       " 0,\n",
       " 0,\n",
       " 0,\n",
       " 0,\n",
       " 0,\n",
       " 0,\n",
       " 0,\n",
       " 0,\n",
       " 0,\n",
       " 1,\n",
       " 0,\n",
       " 0,\n",
       " 0,\n",
       " 0,\n",
       " 0,\n",
       " 0,\n",
       " 0,\n",
       " 0,\n",
       " 0,\n",
       " 0,\n",
       " 0,\n",
       " 0,\n",
       " 0,\n",
       " 0,\n",
       " 0,\n",
       " 0,\n",
       " 0,\n",
       " 0,\n",
       " 0,\n",
       " 0,\n",
       " 0,\n",
       " 0,\n",
       " 0,\n",
       " 0,\n",
       " 0,\n",
       " 0,\n",
       " 0,\n",
       " 0,\n",
       " 0,\n",
       " 1,\n",
       " 0,\n",
       " 0,\n",
       " 0,\n",
       " 1,\n",
       " 0,\n",
       " 1,\n",
       " 0,\n",
       " 0,\n",
       " 0,\n",
       " 0,\n",
       " 0,\n",
       " 0,\n",
       " 0,\n",
       " 0,\n",
       " 0,\n",
       " 0,\n",
       " 0,\n",
       " 0,\n",
       " 0,\n",
       " 0,\n",
       " 1,\n",
       " 0,\n",
       " 0,\n",
       " 0,\n",
       " 0,\n",
       " 0,\n",
       " 0,\n",
       " 0,\n",
       " 1,\n",
       " 0,\n",
       " 0,\n",
       " 0,\n",
       " 0,\n",
       " 0,\n",
       " 0,\n",
       " 0,\n",
       " 0,\n",
       " 0,\n",
       " 0,\n",
       " 0,\n",
       " 0,\n",
       " 0,\n",
       " 0,\n",
       " 1,\n",
       " 0,\n",
       " 1,\n",
       " 0,\n",
       " 0,\n",
       " 1,\n",
       " 0,\n",
       " 0,\n",
       " 0,\n",
       " 0,\n",
       " 0,\n",
       " 1,\n",
       " 0,\n",
       " 0,\n",
       " 0,\n",
       " 0,\n",
       " 0,\n",
       " 0,\n",
       " 0,\n",
       " 0,\n",
       " 0,\n",
       " 0,\n",
       " 0,\n",
       " 0,\n",
       " 0,\n",
       " 0,\n",
       " 0,\n",
       " 0,\n",
       " 0,\n",
       " 0,\n",
       " 0,\n",
       " 0,\n",
       " 0,\n",
       " 0,\n",
       " 0,\n",
       " 0,\n",
       " 0,\n",
       " 0,\n",
       " 0,\n",
       " 1,\n",
       " 0,\n",
       " 0,\n",
       " 0,\n",
       " 0,\n",
       " 0,\n",
       " 0,\n",
       " 0,\n",
       " 1,\n",
       " 0,\n",
       " 1,\n",
       " 1,\n",
       " 0,\n",
       " 0,\n",
       " 0,\n",
       " 0,\n",
       " 0,\n",
       " 0,\n",
       " 1,\n",
       " 0,\n",
       " 0,\n",
       " 0,\n",
       " 0,\n",
       " 0,\n",
       " 0,\n",
       " 0,\n",
       " 0,\n",
       " 0,\n",
       " 0,\n",
       " 0,\n",
       " 0,\n",
       " 0,\n",
       " 0,\n",
       " 0,\n",
       " 0,\n",
       " 1,\n",
       " 0,\n",
       " 0,\n",
       " 0,\n",
       " 0,\n",
       " 0,\n",
       " 0,\n",
       " 0,\n",
       " 1,\n",
       " 1,\n",
       " 1,\n",
       " 0,\n",
       " 0,\n",
       " 0,\n",
       " 0,\n",
       " 0,\n",
       " 0,\n",
       " 0,\n",
       " 0,\n",
       " 0,\n",
       " 0,\n",
       " 0,\n",
       " 0,\n",
       " 0,\n",
       " 0,\n",
       " 0,\n",
       " 0,\n",
       " 0,\n",
       " 1,\n",
       " 0,\n",
       " 0,\n",
       " 0,\n",
       " 0,\n",
       " 1,\n",
       " 0,\n",
       " 0,\n",
       " 0,\n",
       " 0,\n",
       " 0,\n",
       " 0,\n",
       " 0,\n",
       " 1,\n",
       " 0,\n",
       " 0,\n",
       " 0,\n",
       " 1,\n",
       " 1,\n",
       " 0,\n",
       " 0,\n",
       " 0,\n",
       " 0,\n",
       " 0,\n",
       " 0,\n",
       " 0,\n",
       " 1,\n",
       " 0,\n",
       " 0,\n",
       " 0,\n",
       " 0,\n",
       " 0,\n",
       " 0,\n",
       " 0,\n",
       " 0,\n",
       " 0,\n",
       " 0,\n",
       " 0,\n",
       " 0,\n",
       " 0,\n",
       " 1,\n",
       " 0,\n",
       " 0,\n",
       " 0,\n",
       " 0,\n",
       " 0,\n",
       " 0,\n",
       " 0,\n",
       " 0,\n",
       " 0,\n",
       " 0,\n",
       " 0,\n",
       " 0,\n",
       " 0,\n",
       " 0,\n",
       " 0,\n",
       " 0,\n",
       " 1,\n",
       " 0,\n",
       " 0,\n",
       " 0,\n",
       " 0,\n",
       " 0,\n",
       " 1,\n",
       " 0,\n",
       " 0,\n",
       " 0,\n",
       " 0,\n",
       " 0,\n",
       " 0,\n",
       " 0,\n",
       " 0,\n",
       " 0,\n",
       " 0,\n",
       " 0,\n",
       " 0,\n",
       " 0,\n",
       " 0,\n",
       " 0,\n",
       " 0,\n",
       " 0,\n",
       " 0,\n",
       " 0,\n",
       " 0,\n",
       " 0,\n",
       " 0,\n",
       " 0,\n",
       " 0,\n",
       " 0,\n",
       " 0,\n",
       " 0,\n",
       " 0,\n",
       " 0,\n",
       " 0,\n",
       " 0,\n",
       " 0,\n",
       " 0,\n",
       " 0,\n",
       " 0,\n",
       " 0,\n",
       " 0,\n",
       " 0,\n",
       " 0,\n",
       " 0,\n",
       " 0,\n",
       " 0,\n",
       " 0,\n",
       " 0,\n",
       " 1,\n",
       " 0,\n",
       " 0,\n",
       " 0,\n",
       " 0,\n",
       " 0,\n",
       " 0,\n",
       " 0,\n",
       " 0,\n",
       " 0,\n",
       " 0,\n",
       " 0,\n",
       " 0,\n",
       " 0,\n",
       " 0,\n",
       " 0,\n",
       " 0,\n",
       " 0,\n",
       " 0,\n",
       " 1,\n",
       " 0,\n",
       " 0,\n",
       " 1,\n",
       " 0,\n",
       " 0,\n",
       " 0,\n",
       " 0,\n",
       " 0,\n",
       " 0,\n",
       " 1,\n",
       " 0,\n",
       " 0,\n",
       " 0,\n",
       " 0,\n",
       " 0,\n",
       " 0,\n",
       " 0,\n",
       " 1,\n",
       " 0,\n",
       " 0,\n",
       " 0,\n",
       " 0,\n",
       " ...]"
      ]
     },
     "execution_count": 696,
     "metadata": {},
     "output_type": "execute_result"
    }
   ],
   "source": [
    "custom_prob = 0.4 #defining the cut-off value of our choice\n",
    "custom_cutoff_test=[]#defining an empty list\n",
    "for i in range(0,len(y_test2_predict_prob[:,1])):#defining a loop\n",
    "    if y_test2_predict_prob[:,1][i] > custom_prob:#issuing a condition for our probability values to be \n",
    "        #greater than the custom cutoff value\n",
    "        a=1#if the probability values are greater than the custom cutoff then the value should be 1\n",
    "    else:\n",
    "        a=0#if the probability values are less than the custom cutoff then the value should be 0\n",
    "    custom_cutoff_test.append(a)#adding either 1 or 0 based on the condition to the end of the list\n",
    "    #defined by us\n",
    "\n",
    "\n",
    "custom_cutoff_test"
   ]
  },
  {
   "cell_type": "code",
   "execution_count": 697,
   "metadata": {},
   "outputs": [
    {
     "data": {
      "text/html": [
       "<div>\n",
       "<style scoped>\n",
       "    .dataframe tbody tr th:only-of-type {\n",
       "        vertical-align: middle;\n",
       "    }\n",
       "\n",
       "    .dataframe tbody tr th {\n",
       "        vertical-align: top;\n",
       "    }\n",
       "\n",
       "    .dataframe thead th {\n",
       "        text-align: right;\n",
       "    }\n",
       "</style>\n",
       "<table border=\"1\" class=\"dataframe\">\n",
       "  <thead>\n",
       "    <tr style=\"text-align: right;\">\n",
       "      <th></th>\n",
       "      <th>ID</th>\n",
       "      <th>Client_Income</th>\n",
       "      <th>Car_Owned</th>\n",
       "      <th>Bike_Owned</th>\n",
       "      <th>Active_Loan</th>\n",
       "      <th>House_Own</th>\n",
       "      <th>Child_Count</th>\n",
       "      <th>Credit_Amount</th>\n",
       "      <th>Loan_Annuity</th>\n",
       "      <th>Accompany_Client</th>\n",
       "      <th>...</th>\n",
       "      <th>Client_Permanent_Match_Tag</th>\n",
       "      <th>Client_Contact_Work_Tag</th>\n",
       "      <th>Type_Organization</th>\n",
       "      <th>Score_Source_1</th>\n",
       "      <th>Score_Source_2</th>\n",
       "      <th>Score_Source_3</th>\n",
       "      <th>Social_Circle_Default</th>\n",
       "      <th>Phone_Change</th>\n",
       "      <th>Credit_Bureau</th>\n",
       "      <th>predict</th>\n",
       "    </tr>\n",
       "  </thead>\n",
       "  <tbody>\n",
       "    <tr>\n",
       "      <th>0</th>\n",
       "      <td>12202227</td>\n",
       "      <td>11250.0</td>\n",
       "      <td>0.0</td>\n",
       "      <td>1.0</td>\n",
       "      <td>1.0</td>\n",
       "      <td>1.0</td>\n",
       "      <td>0.0</td>\n",
       "      <td>112500.00</td>\n",
       "      <td>4474.80</td>\n",
       "      <td>5</td>\n",
       "      <td>...</td>\n",
       "      <td>1</td>\n",
       "      <td>1</td>\n",
       "      <td>42</td>\n",
       "      <td>0.506789</td>\n",
       "      <td>0.757151</td>\n",
       "      <td>0.629674</td>\n",
       "      <td>0.0515</td>\n",
       "      <td>716.0</td>\n",
       "      <td>2.0</td>\n",
       "      <td>0</td>\n",
       "    </tr>\n",
       "    <tr>\n",
       "      <th>1</th>\n",
       "      <td>12279381</td>\n",
       "      <td>13500.0</td>\n",
       "      <td>1.0</td>\n",
       "      <td>1.0</td>\n",
       "      <td>1.0</td>\n",
       "      <td>1.0</td>\n",
       "      <td>3.0</td>\n",
       "      <td>49752.00</td>\n",
       "      <td>3252.15</td>\n",
       "      <td>0</td>\n",
       "      <td>...</td>\n",
       "      <td>0</td>\n",
       "      <td>1</td>\n",
       "      <td>42</td>\n",
       "      <td>0.506789</td>\n",
       "      <td>0.342269</td>\n",
       "      <td>0.537070</td>\n",
       "      <td>0.0871</td>\n",
       "      <td>181.0</td>\n",
       "      <td>1.0</td>\n",
       "      <td>0</td>\n",
       "    </tr>\n",
       "    <tr>\n",
       "      <th>2</th>\n",
       "      <td>12222714</td>\n",
       "      <td>38250.0</td>\n",
       "      <td>0.0</td>\n",
       "      <td>1.0</td>\n",
       "      <td>0.0</td>\n",
       "      <td>1.0</td>\n",
       "      <td>0.0</td>\n",
       "      <td>67500.00</td>\n",
       "      <td>3375.00</td>\n",
       "      <td>0</td>\n",
       "      <td>...</td>\n",
       "      <td>1</td>\n",
       "      <td>1</td>\n",
       "      <td>5</td>\n",
       "      <td>0.506789</td>\n",
       "      <td>0.683665</td>\n",
       "      <td>0.537070</td>\n",
       "      <td>0.1503</td>\n",
       "      <td>281.0</td>\n",
       "      <td>1.0</td>\n",
       "      <td>0</td>\n",
       "    </tr>\n",
       "    <tr>\n",
       "      <th>3</th>\n",
       "      <td>12265215</td>\n",
       "      <td>20250.0</td>\n",
       "      <td>0.0</td>\n",
       "      <td>0.0</td>\n",
       "      <td>1.0</td>\n",
       "      <td>0.0</td>\n",
       "      <td>0.0</td>\n",
       "      <td>50849.55</td>\n",
       "      <td>3814.65</td>\n",
       "      <td>0</td>\n",
       "      <td>...</td>\n",
       "      <td>0</td>\n",
       "      <td>0</td>\n",
       "      <td>30</td>\n",
       "      <td>0.351581</td>\n",
       "      <td>0.229950</td>\n",
       "      <td>0.672243</td>\n",
       "      <td>0.0871</td>\n",
       "      <td>1442.0</td>\n",
       "      <td>4.0</td>\n",
       "      <td>0</td>\n",
       "    </tr>\n",
       "    <tr>\n",
       "      <th>4</th>\n",
       "      <td>12203970</td>\n",
       "      <td>13500.0</td>\n",
       "      <td>1.0</td>\n",
       "      <td>1.0</td>\n",
       "      <td>0.0</td>\n",
       "      <td>1.0</td>\n",
       "      <td>0.0</td>\n",
       "      <td>43603.20</td>\n",
       "      <td>2515.95</td>\n",
       "      <td>0</td>\n",
       "      <td>...</td>\n",
       "      <td>1</td>\n",
       "      <td>1</td>\n",
       "      <td>42</td>\n",
       "      <td>0.731110</td>\n",
       "      <td>0.566971</td>\n",
       "      <td>0.730987</td>\n",
       "      <td>0.0871</td>\n",
       "      <td>927.0</td>\n",
       "      <td>1.0</td>\n",
       "      <td>0</td>\n",
       "    </tr>\n",
       "    <tr>\n",
       "      <th>...</th>\n",
       "      <td>...</td>\n",
       "      <td>...</td>\n",
       "      <td>...</td>\n",
       "      <td>...</td>\n",
       "      <td>...</td>\n",
       "      <td>...</td>\n",
       "      <td>...</td>\n",
       "      <td>...</td>\n",
       "      <td>...</td>\n",
       "      <td>...</td>\n",
       "      <td>...</td>\n",
       "      <td>...</td>\n",
       "      <td>...</td>\n",
       "      <td>...</td>\n",
       "      <td>...</td>\n",
       "      <td>...</td>\n",
       "      <td>...</td>\n",
       "      <td>...</td>\n",
       "      <td>...</td>\n",
       "      <td>...</td>\n",
       "      <td>...</td>\n",
       "    </tr>\n",
       "    <tr>\n",
       "      <th>80895</th>\n",
       "      <td>12210181</td>\n",
       "      <td>11700.0</td>\n",
       "      <td>0.0</td>\n",
       "      <td>0.0</td>\n",
       "      <td>0.0</td>\n",
       "      <td>1.0</td>\n",
       "      <td>2.0</td>\n",
       "      <td>107820.00</td>\n",
       "      <td>3152.25</td>\n",
       "      <td>0</td>\n",
       "      <td>...</td>\n",
       "      <td>1</td>\n",
       "      <td>0</td>\n",
       "      <td>42</td>\n",
       "      <td>0.495015</td>\n",
       "      <td>0.599436</td>\n",
       "      <td>0.276441</td>\n",
       "      <td>0.0871</td>\n",
       "      <td>537.0</td>\n",
       "      <td>1.0</td>\n",
       "      <td>0</td>\n",
       "    </tr>\n",
       "    <tr>\n",
       "      <th>80896</th>\n",
       "      <td>12206257</td>\n",
       "      <td>29250.0</td>\n",
       "      <td>0.0</td>\n",
       "      <td>1.0</td>\n",
       "      <td>1.0</td>\n",
       "      <td>1.0</td>\n",
       "      <td>2.0</td>\n",
       "      <td>116430.75</td>\n",
       "      <td>4630.50</td>\n",
       "      <td>0</td>\n",
       "      <td>...</td>\n",
       "      <td>1</td>\n",
       "      <td>1</td>\n",
       "      <td>28</td>\n",
       "      <td>0.803057</td>\n",
       "      <td>0.565430</td>\n",
       "      <td>0.680139</td>\n",
       "      <td>0.1072</td>\n",
       "      <td>316.0</td>\n",
       "      <td>0.0</td>\n",
       "      <td>0</td>\n",
       "    </tr>\n",
       "    <tr>\n",
       "      <th>80897</th>\n",
       "      <td>12200446</td>\n",
       "      <td>54000.0</td>\n",
       "      <td>1.0</td>\n",
       "      <td>0.0</td>\n",
       "      <td>1.0</td>\n",
       "      <td>1.0</td>\n",
       "      <td>0.0</td>\n",
       "      <td>52128.00</td>\n",
       "      <td>2742.30</td>\n",
       "      <td>0</td>\n",
       "      <td>...</td>\n",
       "      <td>1</td>\n",
       "      <td>0</td>\n",
       "      <td>42</td>\n",
       "      <td>0.506789</td>\n",
       "      <td>0.403059</td>\n",
       "      <td>0.215182</td>\n",
       "      <td>0.0871</td>\n",
       "      <td>426.0</td>\n",
       "      <td>0.0</td>\n",
       "      <td>1</td>\n",
       "    </tr>\n",
       "    <tr>\n",
       "      <th>80898</th>\n",
       "      <td>12244943</td>\n",
       "      <td>13500.0</td>\n",
       "      <td>0.0</td>\n",
       "      <td>0.0</td>\n",
       "      <td>1.0</td>\n",
       "      <td>0.0</td>\n",
       "      <td>0.0</td>\n",
       "      <td>25470.00</td>\n",
       "      <td>1435.05</td>\n",
       "      <td>0</td>\n",
       "      <td>...</td>\n",
       "      <td>1</td>\n",
       "      <td>1</td>\n",
       "      <td>26</td>\n",
       "      <td>0.506789</td>\n",
       "      <td>0.236402</td>\n",
       "      <td>0.579727</td>\n",
       "      <td>0.1392</td>\n",
       "      <td>1186.0</td>\n",
       "      <td>2.0</td>\n",
       "      <td>0</td>\n",
       "    </tr>\n",
       "    <tr>\n",
       "      <th>80899</th>\n",
       "      <td>12229890</td>\n",
       "      <td>10350.0</td>\n",
       "      <td>1.0</td>\n",
       "      <td>0.0</td>\n",
       "      <td>0.0</td>\n",
       "      <td>0.0</td>\n",
       "      <td>1.0</td>\n",
       "      <td>26955.00</td>\n",
       "      <td>1475.10</td>\n",
       "      <td>0</td>\n",
       "      <td>...</td>\n",
       "      <td>1</td>\n",
       "      <td>1</td>\n",
       "      <td>4</td>\n",
       "      <td>0.127368</td>\n",
       "      <td>0.442904</td>\n",
       "      <td>0.456110</td>\n",
       "      <td>0.1206</td>\n",
       "      <td>1056.0</td>\n",
       "      <td>1.0</td>\n",
       "      <td>0</td>\n",
       "    </tr>\n",
       "  </tbody>\n",
       "</table>\n",
       "<p>80900 rows × 39 columns</p>\n",
       "</div>"
      ],
      "text/plain": [
       "             ID  Client_Income  Car_Owned  Bike_Owned  Active_Loan  House_Own  \\\n",
       "0      12202227        11250.0        0.0         1.0          1.0        1.0   \n",
       "1      12279381        13500.0        1.0         1.0          1.0        1.0   \n",
       "2      12222714        38250.0        0.0         1.0          0.0        1.0   \n",
       "3      12265215        20250.0        0.0         0.0          1.0        0.0   \n",
       "4      12203970        13500.0        1.0         1.0          0.0        1.0   \n",
       "...         ...            ...        ...         ...          ...        ...   \n",
       "80895  12210181        11700.0        0.0         0.0          0.0        1.0   \n",
       "80896  12206257        29250.0        0.0         1.0          1.0        1.0   \n",
       "80897  12200446        54000.0        1.0         0.0          1.0        1.0   \n",
       "80898  12244943        13500.0        0.0         0.0          1.0        0.0   \n",
       "80899  12229890        10350.0        1.0         0.0          0.0        0.0   \n",
       "\n",
       "       Child_Count  Credit_Amount  Loan_Annuity  Accompany_Client  ...  \\\n",
       "0              0.0      112500.00       4474.80                 5  ...   \n",
       "1              3.0       49752.00       3252.15                 0  ...   \n",
       "2              0.0       67500.00       3375.00                 0  ...   \n",
       "3              0.0       50849.55       3814.65                 0  ...   \n",
       "4              0.0       43603.20       2515.95                 0  ...   \n",
       "...            ...            ...           ...               ...  ...   \n",
       "80895          2.0      107820.00       3152.25                 0  ...   \n",
       "80896          2.0      116430.75       4630.50                 0  ...   \n",
       "80897          0.0       52128.00       2742.30                 0  ...   \n",
       "80898          0.0       25470.00       1435.05                 0  ...   \n",
       "80899          1.0       26955.00       1475.10                 0  ...   \n",
       "\n",
       "       Client_Permanent_Match_Tag  Client_Contact_Work_Tag  Type_Organization  \\\n",
       "0                               1                        1                 42   \n",
       "1                               0                        1                 42   \n",
       "2                               1                        1                  5   \n",
       "3                               0                        0                 30   \n",
       "4                               1                        1                 42   \n",
       "...                           ...                      ...                ...   \n",
       "80895                           1                        0                 42   \n",
       "80896                           1                        1                 28   \n",
       "80897                           1                        0                 42   \n",
       "80898                           1                        1                 26   \n",
       "80899                           1                        1                  4   \n",
       "\n",
       "       Score_Source_1  Score_Source_2  Score_Source_3  Social_Circle_Default  \\\n",
       "0            0.506789        0.757151        0.629674                 0.0515   \n",
       "1            0.506789        0.342269        0.537070                 0.0871   \n",
       "2            0.506789        0.683665        0.537070                 0.1503   \n",
       "3            0.351581        0.229950        0.672243                 0.0871   \n",
       "4            0.731110        0.566971        0.730987                 0.0871   \n",
       "...               ...             ...             ...                    ...   \n",
       "80895        0.495015        0.599436        0.276441                 0.0871   \n",
       "80896        0.803057        0.565430        0.680139                 0.1072   \n",
       "80897        0.506789        0.403059        0.215182                 0.0871   \n",
       "80898        0.506789        0.236402        0.579727                 0.1392   \n",
       "80899        0.127368        0.442904        0.456110                 0.1206   \n",
       "\n",
       "       Phone_Change  Credit_Bureau  predict  \n",
       "0             716.0            2.0        0  \n",
       "1             181.0            1.0        0  \n",
       "2             281.0            1.0        0  \n",
       "3            1442.0            4.0        0  \n",
       "4             927.0            1.0        0  \n",
       "...             ...            ...      ...  \n",
       "80895         537.0            1.0        0  \n",
       "80896         316.0            0.0        0  \n",
       "80897         426.0            0.0        1  \n",
       "80898        1186.0            2.0        0  \n",
       "80899        1056.0            1.0        0  \n",
       "\n",
       "[80900 rows x 39 columns]"
      ]
     },
     "execution_count": 697,
     "metadata": {},
     "output_type": "execute_result"
    }
   ],
   "source": [
    "test['predict']=custom_cutoff_test\n",
    "test"
   ]
  },
  {
   "cell_type": "code",
   "execution_count": 235,
   "metadata": {},
   "outputs": [
    {
     "data": {
      "text/html": [
       "<div>\n",
       "<style scoped>\n",
       "    .dataframe tbody tr th:only-of-type {\n",
       "        vertical-align: middle;\n",
       "    }\n",
       "\n",
       "    .dataframe tbody tr th {\n",
       "        vertical-align: top;\n",
       "    }\n",
       "\n",
       "    .dataframe thead th {\n",
       "        text-align: right;\n",
       "    }\n",
       "</style>\n",
       "<table border=\"1\" class=\"dataframe\">\n",
       "  <thead>\n",
       "    <tr style=\"text-align: right;\">\n",
       "      <th></th>\n",
       "      <th>ID</th>\n",
       "      <th>Client_Income</th>\n",
       "      <th>Car_Owned</th>\n",
       "      <th>Bike_Owned</th>\n",
       "      <th>Active_Loan</th>\n",
       "      <th>House_Own</th>\n",
       "      <th>Child_Count</th>\n",
       "      <th>Credit_Amount</th>\n",
       "      <th>Loan_Annuity</th>\n",
       "      <th>Accompany_Client</th>\n",
       "      <th>...</th>\n",
       "      <th>Application_Process_Day</th>\n",
       "      <th>Application_Process_Hour</th>\n",
       "      <th>Client_Permanent_Match_Tag</th>\n",
       "      <th>Client_Contact_Work_Tag</th>\n",
       "      <th>Type_Organization</th>\n",
       "      <th>Score_Source_2</th>\n",
       "      <th>Score_Source_3</th>\n",
       "      <th>Phone_Change</th>\n",
       "      <th>Credit_Bureau</th>\n",
       "      <th>predict</th>\n",
       "    </tr>\n",
       "  </thead>\n",
       "  <tbody>\n",
       "    <tr>\n",
       "      <th>0</th>\n",
       "      <td>12202227</td>\n",
       "      <td>11250.0</td>\n",
       "      <td>0.0</td>\n",
       "      <td>1.0</td>\n",
       "      <td>1.0</td>\n",
       "      <td>1.0</td>\n",
       "      <td>0.0</td>\n",
       "      <td>112500.00</td>\n",
       "      <td>4474.80</td>\n",
       "      <td>5</td>\n",
       "      <td>...</td>\n",
       "      <td>4.0</td>\n",
       "      <td>16.0</td>\n",
       "      <td>1</td>\n",
       "      <td>1</td>\n",
       "      <td>42</td>\n",
       "      <td>0.757151</td>\n",
       "      <td>0.629674</td>\n",
       "      <td>716.0</td>\n",
       "      <td>2.0</td>\n",
       "      <td>0</td>\n",
       "    </tr>\n",
       "    <tr>\n",
       "      <th>1</th>\n",
       "      <td>12279381</td>\n",
       "      <td>13500.0</td>\n",
       "      <td>1.0</td>\n",
       "      <td>1.0</td>\n",
       "      <td>1.0</td>\n",
       "      <td>1.0</td>\n",
       "      <td>3.0</td>\n",
       "      <td>49752.00</td>\n",
       "      <td>3252.15</td>\n",
       "      <td>0</td>\n",
       "      <td>...</td>\n",
       "      <td>3.0</td>\n",
       "      <td>18.0</td>\n",
       "      <td>0</td>\n",
       "      <td>1</td>\n",
       "      <td>42</td>\n",
       "      <td>0.342269</td>\n",
       "      <td>0.537070</td>\n",
       "      <td>181.0</td>\n",
       "      <td>1.0</td>\n",
       "      <td>0</td>\n",
       "    </tr>\n",
       "    <tr>\n",
       "      <th>2</th>\n",
       "      <td>12222714</td>\n",
       "      <td>38250.0</td>\n",
       "      <td>0.0</td>\n",
       "      <td>1.0</td>\n",
       "      <td>0.0</td>\n",
       "      <td>1.0</td>\n",
       "      <td>0.0</td>\n",
       "      <td>67500.00</td>\n",
       "      <td>3375.00</td>\n",
       "      <td>0</td>\n",
       "      <td>...</td>\n",
       "      <td>2.0</td>\n",
       "      <td>19.0</td>\n",
       "      <td>1</td>\n",
       "      <td>1</td>\n",
       "      <td>5</td>\n",
       "      <td>0.683665</td>\n",
       "      <td>0.537070</td>\n",
       "      <td>281.0</td>\n",
       "      <td>1.0</td>\n",
       "      <td>0</td>\n",
       "    </tr>\n",
       "    <tr>\n",
       "      <th>3</th>\n",
       "      <td>12265215</td>\n",
       "      <td>20250.0</td>\n",
       "      <td>0.0</td>\n",
       "      <td>0.0</td>\n",
       "      <td>1.0</td>\n",
       "      <td>0.0</td>\n",
       "      <td>0.0</td>\n",
       "      <td>50849.55</td>\n",
       "      <td>3814.65</td>\n",
       "      <td>0</td>\n",
       "      <td>...</td>\n",
       "      <td>6.0</td>\n",
       "      <td>20.0</td>\n",
       "      <td>0</td>\n",
       "      <td>0</td>\n",
       "      <td>30</td>\n",
       "      <td>0.229950</td>\n",
       "      <td>0.672243</td>\n",
       "      <td>1442.0</td>\n",
       "      <td>4.0</td>\n",
       "      <td>0</td>\n",
       "    </tr>\n",
       "    <tr>\n",
       "      <th>4</th>\n",
       "      <td>12203970</td>\n",
       "      <td>13500.0</td>\n",
       "      <td>1.0</td>\n",
       "      <td>1.0</td>\n",
       "      <td>0.0</td>\n",
       "      <td>1.0</td>\n",
       "      <td>0.0</td>\n",
       "      <td>43603.20</td>\n",
       "      <td>2515.95</td>\n",
       "      <td>0</td>\n",
       "      <td>...</td>\n",
       "      <td>1.0</td>\n",
       "      <td>13.0</td>\n",
       "      <td>1</td>\n",
       "      <td>1</td>\n",
       "      <td>42</td>\n",
       "      <td>0.566971</td>\n",
       "      <td>0.730987</td>\n",
       "      <td>927.0</td>\n",
       "      <td>1.0</td>\n",
       "      <td>0</td>\n",
       "    </tr>\n",
       "    <tr>\n",
       "      <th>...</th>\n",
       "      <td>...</td>\n",
       "      <td>...</td>\n",
       "      <td>...</td>\n",
       "      <td>...</td>\n",
       "      <td>...</td>\n",
       "      <td>...</td>\n",
       "      <td>...</td>\n",
       "      <td>...</td>\n",
       "      <td>...</td>\n",
       "      <td>...</td>\n",
       "      <td>...</td>\n",
       "      <td>...</td>\n",
       "      <td>...</td>\n",
       "      <td>...</td>\n",
       "      <td>...</td>\n",
       "      <td>...</td>\n",
       "      <td>...</td>\n",
       "      <td>...</td>\n",
       "      <td>...</td>\n",
       "      <td>...</td>\n",
       "      <td>...</td>\n",
       "    </tr>\n",
       "    <tr>\n",
       "      <th>80895</th>\n",
       "      <td>12210181</td>\n",
       "      <td>11700.0</td>\n",
       "      <td>0.0</td>\n",
       "      <td>0.0</td>\n",
       "      <td>0.0</td>\n",
       "      <td>1.0</td>\n",
       "      <td>2.0</td>\n",
       "      <td>107820.00</td>\n",
       "      <td>3152.25</td>\n",
       "      <td>0</td>\n",
       "      <td>...</td>\n",
       "      <td>2.0</td>\n",
       "      <td>9.0</td>\n",
       "      <td>1</td>\n",
       "      <td>0</td>\n",
       "      <td>42</td>\n",
       "      <td>0.599436</td>\n",
       "      <td>0.276441</td>\n",
       "      <td>537.0</td>\n",
       "      <td>1.0</td>\n",
       "      <td>0</td>\n",
       "    </tr>\n",
       "    <tr>\n",
       "      <th>80896</th>\n",
       "      <td>12206257</td>\n",
       "      <td>29250.0</td>\n",
       "      <td>0.0</td>\n",
       "      <td>1.0</td>\n",
       "      <td>1.0</td>\n",
       "      <td>1.0</td>\n",
       "      <td>2.0</td>\n",
       "      <td>116430.75</td>\n",
       "      <td>4630.50</td>\n",
       "      <td>0</td>\n",
       "      <td>...</td>\n",
       "      <td>6.0</td>\n",
       "      <td>15.0</td>\n",
       "      <td>1</td>\n",
       "      <td>1</td>\n",
       "      <td>28</td>\n",
       "      <td>0.565430</td>\n",
       "      <td>0.680139</td>\n",
       "      <td>316.0</td>\n",
       "      <td>0.0</td>\n",
       "      <td>0</td>\n",
       "    </tr>\n",
       "    <tr>\n",
       "      <th>80897</th>\n",
       "      <td>12200446</td>\n",
       "      <td>54000.0</td>\n",
       "      <td>1.0</td>\n",
       "      <td>0.0</td>\n",
       "      <td>1.0</td>\n",
       "      <td>1.0</td>\n",
       "      <td>0.0</td>\n",
       "      <td>52128.00</td>\n",
       "      <td>2742.30</td>\n",
       "      <td>0</td>\n",
       "      <td>...</td>\n",
       "      <td>3.0</td>\n",
       "      <td>14.0</td>\n",
       "      <td>1</td>\n",
       "      <td>0</td>\n",
       "      <td>42</td>\n",
       "      <td>0.403059</td>\n",
       "      <td>0.215182</td>\n",
       "      <td>426.0</td>\n",
       "      <td>0.0</td>\n",
       "      <td>1</td>\n",
       "    </tr>\n",
       "    <tr>\n",
       "      <th>80898</th>\n",
       "      <td>12244943</td>\n",
       "      <td>13500.0</td>\n",
       "      <td>0.0</td>\n",
       "      <td>0.0</td>\n",
       "      <td>1.0</td>\n",
       "      <td>0.0</td>\n",
       "      <td>0.0</td>\n",
       "      <td>25470.00</td>\n",
       "      <td>1435.05</td>\n",
       "      <td>0</td>\n",
       "      <td>...</td>\n",
       "      <td>6.0</td>\n",
       "      <td>5.0</td>\n",
       "      <td>1</td>\n",
       "      <td>1</td>\n",
       "      <td>26</td>\n",
       "      <td>0.236402</td>\n",
       "      <td>0.579727</td>\n",
       "      <td>1186.0</td>\n",
       "      <td>2.0</td>\n",
       "      <td>0</td>\n",
       "    </tr>\n",
       "    <tr>\n",
       "      <th>80899</th>\n",
       "      <td>12229890</td>\n",
       "      <td>10350.0</td>\n",
       "      <td>1.0</td>\n",
       "      <td>0.0</td>\n",
       "      <td>0.0</td>\n",
       "      <td>0.0</td>\n",
       "      <td>1.0</td>\n",
       "      <td>26955.00</td>\n",
       "      <td>1475.10</td>\n",
       "      <td>0</td>\n",
       "      <td>...</td>\n",
       "      <td>4.0</td>\n",
       "      <td>9.0</td>\n",
       "      <td>1</td>\n",
       "      <td>1</td>\n",
       "      <td>4</td>\n",
       "      <td>0.442904</td>\n",
       "      <td>0.456110</td>\n",
       "      <td>1056.0</td>\n",
       "      <td>1.0</td>\n",
       "      <td>0</td>\n",
       "    </tr>\n",
       "  </tbody>\n",
       "</table>\n",
       "<p>80900 rows × 37 columns</p>\n",
       "</div>"
      ],
      "text/plain": [
       "             ID  Client_Income  Car_Owned  Bike_Owned  Active_Loan  House_Own  \\\n",
       "0      12202227        11250.0        0.0         1.0          1.0        1.0   \n",
       "1      12279381        13500.0        1.0         1.0          1.0        1.0   \n",
       "2      12222714        38250.0        0.0         1.0          0.0        1.0   \n",
       "3      12265215        20250.0        0.0         0.0          1.0        0.0   \n",
       "4      12203970        13500.0        1.0         1.0          0.0        1.0   \n",
       "...         ...            ...        ...         ...          ...        ...   \n",
       "80895  12210181        11700.0        0.0         0.0          0.0        1.0   \n",
       "80896  12206257        29250.0        0.0         1.0          1.0        1.0   \n",
       "80897  12200446        54000.0        1.0         0.0          1.0        1.0   \n",
       "80898  12244943        13500.0        0.0         0.0          1.0        0.0   \n",
       "80899  12229890        10350.0        1.0         0.0          0.0        0.0   \n",
       "\n",
       "       Child_Count  Credit_Amount  Loan_Annuity  Accompany_Client  ...  \\\n",
       "0              0.0      112500.00       4474.80                 5  ...   \n",
       "1              3.0       49752.00       3252.15                 0  ...   \n",
       "2              0.0       67500.00       3375.00                 0  ...   \n",
       "3              0.0       50849.55       3814.65                 0  ...   \n",
       "4              0.0       43603.20       2515.95                 0  ...   \n",
       "...            ...            ...           ...               ...  ...   \n",
       "80895          2.0      107820.00       3152.25                 0  ...   \n",
       "80896          2.0      116430.75       4630.50                 0  ...   \n",
       "80897          0.0       52128.00       2742.30                 0  ...   \n",
       "80898          0.0       25470.00       1435.05                 0  ...   \n",
       "80899          1.0       26955.00       1475.10                 0  ...   \n",
       "\n",
       "       Application_Process_Day  Application_Process_Hour  \\\n",
       "0                          4.0                      16.0   \n",
       "1                          3.0                      18.0   \n",
       "2                          2.0                      19.0   \n",
       "3                          6.0                      20.0   \n",
       "4                          1.0                      13.0   \n",
       "...                        ...                       ...   \n",
       "80895                      2.0                       9.0   \n",
       "80896                      6.0                      15.0   \n",
       "80897                      3.0                      14.0   \n",
       "80898                      6.0                       5.0   \n",
       "80899                      4.0                       9.0   \n",
       "\n",
       "       Client_Permanent_Match_Tag  Client_Contact_Work_Tag  Type_Organization  \\\n",
       "0                               1                        1                 42   \n",
       "1                               0                        1                 42   \n",
       "2                               1                        1                  5   \n",
       "3                               0                        0                 30   \n",
       "4                               1                        1                 42   \n",
       "...                           ...                      ...                ...   \n",
       "80895                           1                        0                 42   \n",
       "80896                           1                        1                 28   \n",
       "80897                           1                        0                 42   \n",
       "80898                           1                        1                 26   \n",
       "80899                           1                        1                  4   \n",
       "\n",
       "       Score_Source_2  Score_Source_3  Phone_Change  Credit_Bureau  predict  \n",
       "0            0.757151        0.629674         716.0            2.0        0  \n",
       "1            0.342269        0.537070         181.0            1.0        0  \n",
       "2            0.683665        0.537070         281.0            1.0        0  \n",
       "3            0.229950        0.672243        1442.0            4.0        0  \n",
       "4            0.566971        0.730987         927.0            1.0        0  \n",
       "...               ...             ...           ...            ...      ...  \n",
       "80895        0.599436        0.276441         537.0            1.0        0  \n",
       "80896        0.565430        0.680139         316.0            0.0        0  \n",
       "80897        0.403059        0.215182         426.0            0.0        1  \n",
       "80898        0.236402        0.579727        1186.0            2.0        0  \n",
       "80899        0.442904        0.456110        1056.0            1.0        0  \n",
       "\n",
       "[80900 rows x 37 columns]"
      ]
     },
     "execution_count": 235,
     "metadata": {},
     "output_type": "execute_result"
    }
   ],
   "source": [
    "test['predict']=y_test2_predict_ann\n",
    "test"
   ]
  },
  {
   "cell_type": "code",
   "execution_count": 698,
   "metadata": {},
   "outputs": [
    {
     "data": {
      "text/html": [
       "<div>\n",
       "<style scoped>\n",
       "    .dataframe tbody tr th:only-of-type {\n",
       "        vertical-align: middle;\n",
       "    }\n",
       "\n",
       "    .dataframe tbody tr th {\n",
       "        vertical-align: top;\n",
       "    }\n",
       "\n",
       "    .dataframe thead th {\n",
       "        text-align: right;\n",
       "    }\n",
       "</style>\n",
       "<table border=\"1\" class=\"dataframe\">\n",
       "  <thead>\n",
       "    <tr style=\"text-align: right;\">\n",
       "      <th></th>\n",
       "      <th>ID</th>\n",
       "      <th>predict</th>\n",
       "    </tr>\n",
       "  </thead>\n",
       "  <tbody>\n",
       "    <tr>\n",
       "      <th>0</th>\n",
       "      <td>12202227</td>\n",
       "      <td>0</td>\n",
       "    </tr>\n",
       "    <tr>\n",
       "      <th>1</th>\n",
       "      <td>12279381</td>\n",
       "      <td>0</td>\n",
       "    </tr>\n",
       "    <tr>\n",
       "      <th>2</th>\n",
       "      <td>12222714</td>\n",
       "      <td>0</td>\n",
       "    </tr>\n",
       "    <tr>\n",
       "      <th>3</th>\n",
       "      <td>12265215</td>\n",
       "      <td>0</td>\n",
       "    </tr>\n",
       "    <tr>\n",
       "      <th>4</th>\n",
       "      <td>12203970</td>\n",
       "      <td>0</td>\n",
       "    </tr>\n",
       "    <tr>\n",
       "      <th>...</th>\n",
       "      <td>...</td>\n",
       "      <td>...</td>\n",
       "    </tr>\n",
       "    <tr>\n",
       "      <th>80895</th>\n",
       "      <td>12210181</td>\n",
       "      <td>0</td>\n",
       "    </tr>\n",
       "    <tr>\n",
       "      <th>80896</th>\n",
       "      <td>12206257</td>\n",
       "      <td>0</td>\n",
       "    </tr>\n",
       "    <tr>\n",
       "      <th>80897</th>\n",
       "      <td>12200446</td>\n",
       "      <td>1</td>\n",
       "    </tr>\n",
       "    <tr>\n",
       "      <th>80898</th>\n",
       "      <td>12244943</td>\n",
       "      <td>0</td>\n",
       "    </tr>\n",
       "    <tr>\n",
       "      <th>80899</th>\n",
       "      <td>12229890</td>\n",
       "      <td>0</td>\n",
       "    </tr>\n",
       "  </tbody>\n",
       "</table>\n",
       "<p>80900 rows × 2 columns</p>\n",
       "</div>"
      ],
      "text/plain": [
       "             ID  predict\n",
       "0      12202227        0\n",
       "1      12279381        0\n",
       "2      12222714        0\n",
       "3      12265215        0\n",
       "4      12203970        0\n",
       "...         ...      ...\n",
       "80895  12210181        0\n",
       "80896  12206257        0\n",
       "80897  12200446        1\n",
       "80898  12244943        0\n",
       "80899  12229890        0\n",
       "\n",
       "[80900 rows x 2 columns]"
      ]
     },
     "execution_count": 698,
     "metadata": {},
     "output_type": "execute_result"
    }
   ],
   "source": [
    "final=test[['ID','predict']]\n",
    "final"
   ]
  },
  {
   "cell_type": "code",
   "execution_count": 699,
   "metadata": {},
   "outputs": [],
   "source": [
    "final.to_csv('predict.csv',index=False)"
   ]
  },
  {
   "cell_type": "code",
   "execution_count": 597,
   "metadata": {},
   "outputs": [],
   "source": [
    "from sklearn.linear_model import LogisticRegression"
   ]
  },
  {
   "cell_type": "code",
   "execution_count": 598,
   "metadata": {},
   "outputs": [],
   "source": [
    "LR = LogisticRegression(solver='newton-cg',penalty='none')"
   ]
  },
  {
   "cell_type": "code",
   "execution_count": 599,
   "metadata": {},
   "outputs": [
    {
     "name": "stderr",
     "output_type": "stream",
     "text": [
      "D:\\anaconda\\lib\\site-packages\\scipy\\optimize\\linesearch.py:466: LineSearchWarning: The line search algorithm did not converge\n",
      "  warn('The line search algorithm did not converge', LineSearchWarning)\n",
      "D:\\anaconda\\lib\\site-packages\\scipy\\optimize\\linesearch.py:314: LineSearchWarning: The line search algorithm did not converge\n",
      "  warn('The line search algorithm did not converge', LineSearchWarning)\n",
      "D:\\anaconda\\lib\\site-packages\\sklearn\\utils\\optimize.py:212: ConvergenceWarning: newton-cg failed to converge. Increase the number of iterations.\n",
      "  \"number of iterations.\", ConvergenceWarning)\n"
     ]
    }
   ],
   "source": [
    "model1=LR.fit(X,Y)"
   ]
  },
  {
   "cell_type": "code",
   "execution_count": 601,
   "metadata": {},
   "outputs": [
    {
     "data": {
      "text/plain": [
       "0.9192079175420168"
      ]
     },
     "execution_count": 601,
     "metadata": {},
     "output_type": "execute_result"
    }
   ],
   "source": [
    "model1.score(X,Y)"
   ]
  },
  {
   "cell_type": "code",
   "execution_count": 603,
   "metadata": {},
   "outputs": [
    {
     "ename": "TypeError",
     "evalue": "predict() takes 2 positional arguments but 3 were given",
     "output_type": "error",
     "traceback": [
      "\u001b[1;31m---------------------------------------------------------------------------\u001b[0m",
      "\u001b[1;31mTypeError\u001b[0m                                 Traceback (most recent call last)",
      "\u001b[1;32m<ipython-input-603-6091cc7e0419>\u001b[0m in \u001b[0;36m<module>\u001b[1;34m\u001b[0m\n\u001b[1;32m----> 1\u001b[1;33m \u001b[0mmodel1\u001b[0m\u001b[1;33m.\u001b[0m\u001b[0mpredict\u001b[0m\u001b[1;33m(\u001b[0m\u001b[0mX\u001b[0m\u001b[1;33m,\u001b[0m\u001b[0mY\u001b[0m\u001b[1;33m)\u001b[0m\u001b[1;33m\u001b[0m\u001b[1;33m\u001b[0m\u001b[0m\n\u001b[0m",
      "\u001b[1;31mTypeError\u001b[0m: predict() takes 2 positional arguments but 3 were given"
     ]
    }
   ],
   "source": [
    "model1.predict(X,Y)"
   ]
  },
  {
   "cell_type": "code",
   "execution_count": null,
   "metadata": {},
   "outputs": [],
   "source": []
  }
 ],
 "metadata": {
  "kernelspec": {
   "display_name": "Python 3",
   "language": "python",
   "name": "python3"
  },
  "language_info": {
   "codemirror_mode": {
    "name": "ipython",
    "version": 3
   },
   "file_extension": ".py",
   "mimetype": "text/x-python",
   "name": "python",
   "nbconvert_exporter": "python",
   "pygments_lexer": "ipython3",
   "version": "3.7.6"
  }
 },
 "nbformat": 4,
 "nbformat_minor": 4
}
